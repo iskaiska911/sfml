{
 "cells": [
  {
   "cell_type": "code",
   "execution_count": 5,
   "metadata": {
    "collapsed": true
   },
   "outputs": [],
   "source": [
    "# Импорт необходимых пакетов\n",
    "import pandas as pd\n",
    "import os\n",
    "import re\n",
    "import seaborn as sns\n",
    "import numpy as np\n",
    "from matplotlib import pyplot as plt\n",
    "from scipy import stats"
   ]
  },
  {
   "cell_type": "code",
   "execution_count": 5,
   "metadata": {
    "collapsed": true
   },
   "outputs": [],
   "source": [
    "# Пропишем относительный путь\n",
    "path = os.getcwd()+'\\\\data\\\\'+os.listdir(os.getcwd()+'\\\\data')[0]"
   ]
  },
  {
   "cell_type": "code",
   "execution_count": 6,
   "metadata": {},
   "outputs": [
    {
     "data": {
      "text/plain": [
       "'C:\\\\Cluster_WorkSpace\\\\ML\\\\Makarenkov\\\\Belka\\\\data\\\\test_task_ab_Belka_Analytics.csv'"
      ]
     },
     "execution_count": 6,
     "metadata": {},
     "output_type": "execute_result"
    }
   ],
   "source": [
    "path"
   ]
  },
  {
   "cell_type": "code",
   "execution_count": 7,
   "metadata": {
    "collapsed": true
   },
   "outputs": [],
   "source": [
    "AB_data=pd.read_csv(path, sep=';')"
   ]
  },
  {
   "cell_type": "code",
   "execution_count": 8,
   "metadata": {
    "collapsed": true
   },
   "outputs": [],
   "source": [
    "# Приведем часть полей в тип str (в частности для того чтобы рассматривать их в качестве категориальных переменных)\n",
    "AB_data['ab_group']=AB_data['ab_group'].astype(int).astype(str)\n",
    "AB_data['uid']=AB_data['uid'].astype(int).astype(str)\n",
    "AB_data['date']=AB_data['date'].astype(int) # удобно оставить в качестве int"
   ]
  },
  {
   "cell_type": "code",
   "execution_count": 118,
   "metadata": {},
   "outputs": [
    {
     "data": {
      "text/html": [
       "<div>\n",
       "<style>\n",
       "    .dataframe thead tr:only-child th {\n",
       "        text-align: right;\n",
       "    }\n",
       "\n",
       "    .dataframe thead th {\n",
       "        text-align: left;\n",
       "    }\n",
       "\n",
       "    .dataframe tbody tr th {\n",
       "        vertical-align: top;\n",
       "    }\n",
       "</style>\n",
       "<table border=\"1\" class=\"dataframe\">\n",
       "  <thead>\n",
       "    <tr style=\"text-align: right;\">\n",
       "      <th></th>\n",
       "      <th>uid</th>\n",
       "      <th>date</th>\n",
       "      <th>revenue</th>\n",
       "      <th>play_time</th>\n",
       "      <th>ab_group</th>\n",
       "      <th>conversion</th>\n",
       "    </tr>\n",
       "  </thead>\n",
       "  <tbody>\n",
       "    <tr>\n",
       "      <th>0</th>\n",
       "      <td>15375180</td>\n",
       "      <td>1</td>\n",
       "      <td>0.0</td>\n",
       "      <td>1070.0</td>\n",
       "      <td>1</td>\n",
       "      <td>0</td>\n",
       "    </tr>\n",
       "    <tr>\n",
       "      <th>1</th>\n",
       "      <td>15375268</td>\n",
       "      <td>1</td>\n",
       "      <td>0.0</td>\n",
       "      <td>1932.0</td>\n",
       "      <td>1</td>\n",
       "      <td>0</td>\n",
       "    </tr>\n",
       "    <tr>\n",
       "      <th>2</th>\n",
       "      <td>15375275</td>\n",
       "      <td>1</td>\n",
       "      <td>0.0</td>\n",
       "      <td>156.0</td>\n",
       "      <td>1</td>\n",
       "      <td>0</td>\n",
       "    </tr>\n",
       "    <tr>\n",
       "      <th>3</th>\n",
       "      <td>15375311</td>\n",
       "      <td>1</td>\n",
       "      <td>0.0</td>\n",
       "      <td>2943.0</td>\n",
       "      <td>1</td>\n",
       "      <td>0</td>\n",
       "    </tr>\n",
       "    <tr>\n",
       "      <th>4</th>\n",
       "      <td>15375560</td>\n",
       "      <td>1</td>\n",
       "      <td>0.0</td>\n",
       "      <td>3744.0</td>\n",
       "      <td>1</td>\n",
       "      <td>0</td>\n",
       "    </tr>\n",
       "  </tbody>\n",
       "</table>\n",
       "</div>"
      ],
      "text/plain": [
       "        uid  date  revenue  play_time ab_group  conversion\n",
       "0  15375180     1      0.0     1070.0        1           0\n",
       "1  15375268     1      0.0     1932.0        1           0\n",
       "2  15375275     1      0.0      156.0        1           0\n",
       "3  15375311     1      0.0     2943.0        1           0\n",
       "4  15375560     1      0.0     3744.0        1           0"
      ]
     },
     "execution_count": 118,
     "metadata": {},
     "output_type": "execute_result"
    }
   ],
   "source": [
    "AB_data.head()"
   ]
  },
  {
   "cell_type": "markdown",
   "metadata": {},
   "source": [
    "Далее проведем небольшой первичный анализ данных (EDA).\n",
    "Попробуем рассмотреть данные в разных разрезах, построим графики, рассматрим корреляционные матрицы.\n",
    "Ключевой момент в данном первичном анализе - распределения целевых метрик, которые оказались далеки от нормального.\n",
    "P.S Можно промотать данный этап и перейте к проверке гипотез"
   ]
  },
  {
   "cell_type": "code",
   "execution_count": 119,
   "metadata": {},
   "outputs": [
    {
     "data": {
      "text/html": [
       "<div>\n",
       "<style>\n",
       "    .dataframe thead tr:only-child th {\n",
       "        text-align: right;\n",
       "    }\n",
       "\n",
       "    .dataframe thead th {\n",
       "        text-align: left;\n",
       "    }\n",
       "\n",
       "    .dataframe tbody tr th {\n",
       "        vertical-align: top;\n",
       "    }\n",
       "</style>\n",
       "<table border=\"1\" class=\"dataframe\">\n",
       "  <thead>\n",
       "    <tr style=\"text-align: right;\">\n",
       "      <th></th>\n",
       "      <th>revenue</th>\n",
       "      <th>play_time</th>\n",
       "    </tr>\n",
       "    <tr>\n",
       "      <th>ab_group</th>\n",
       "      <th></th>\n",
       "      <th></th>\n",
       "    </tr>\n",
       "  </thead>\n",
       "  <tbody>\n",
       "    <tr>\n",
       "      <th>1</th>\n",
       "      <td>0.164638</td>\n",
       "      <td>1979.915300</td>\n",
       "    </tr>\n",
       "    <tr>\n",
       "      <th>2</th>\n",
       "      <td>0.149179</td>\n",
       "      <td>1995.136241</td>\n",
       "    </tr>\n",
       "  </tbody>\n",
       "</table>\n",
       "</div>"
      ],
      "text/plain": [
       "           revenue    play_time\n",
       "ab_group                       \n",
       "1         0.164638  1979.915300\n",
       "2         0.149179  1995.136241"
      ]
     },
     "execution_count": 119,
     "metadata": {},
     "output_type": "execute_result"
    }
   ],
   "source": [
    "#средние по сессиям\n",
    "AB_data[['ab_group','revenue','play_time']].groupby(by='ab_group').mean()"
   ]
  },
  {
   "cell_type": "code",
   "execution_count": 120,
   "metadata": {},
   "outputs": [
    {
     "data": {
      "text/html": [
       "<div>\n",
       "<style>\n",
       "    .dataframe thead tr:only-child th {\n",
       "        text-align: right;\n",
       "    }\n",
       "\n",
       "    .dataframe thead th {\n",
       "        text-align: left;\n",
       "    }\n",
       "\n",
       "    .dataframe tbody tr th {\n",
       "        vertical-align: top;\n",
       "    }\n",
       "</style>\n",
       "<table border=\"1\" class=\"dataframe\">\n",
       "  <thead>\n",
       "    <tr>\n",
       "      <th></th>\n",
       "      <th colspan=\"8\" halign=\"left\">play_time</th>\n",
       "      <th colspan=\"8\" halign=\"left\">revenue</th>\n",
       "    </tr>\n",
       "    <tr>\n",
       "      <th></th>\n",
       "      <th>count</th>\n",
       "      <th>mean</th>\n",
       "      <th>std</th>\n",
       "      <th>min</th>\n",
       "      <th>25%</th>\n",
       "      <th>50%</th>\n",
       "      <th>75%</th>\n",
       "      <th>max</th>\n",
       "      <th>count</th>\n",
       "      <th>mean</th>\n",
       "      <th>std</th>\n",
       "      <th>min</th>\n",
       "      <th>25%</th>\n",
       "      <th>50%</th>\n",
       "      <th>75%</th>\n",
       "      <th>max</th>\n",
       "    </tr>\n",
       "    <tr>\n",
       "      <th>ab_group</th>\n",
       "      <th></th>\n",
       "      <th></th>\n",
       "      <th></th>\n",
       "      <th></th>\n",
       "      <th></th>\n",
       "      <th></th>\n",
       "      <th></th>\n",
       "      <th></th>\n",
       "      <th></th>\n",
       "      <th></th>\n",
       "      <th></th>\n",
       "      <th></th>\n",
       "      <th></th>\n",
       "      <th></th>\n",
       "      <th></th>\n",
       "      <th></th>\n",
       "    </tr>\n",
       "  </thead>\n",
       "  <tbody>\n",
       "    <tr>\n",
       "      <th>1</th>\n",
       "      <td>384947.0</td>\n",
       "      <td>1979.915300</td>\n",
       "      <td>1458.721486</td>\n",
       "      <td>1.000</td>\n",
       "      <td>476.000</td>\n",
       "      <td>2096.000</td>\n",
       "      <td>3219.000</td>\n",
       "      <td>5052.000</td>\n",
       "      <td>384947.0</td>\n",
       "      <td>0.164638</td>\n",
       "      <td>7.770363</td>\n",
       "      <td>0.0</td>\n",
       "      <td>0.0</td>\n",
       "      <td>0.0</td>\n",
       "      <td>0.0</td>\n",
       "      <td>500.0</td>\n",
       "    </tr>\n",
       "    <tr>\n",
       "      <th>2</th>\n",
       "      <td>371366.0</td>\n",
       "      <td>1995.136241</td>\n",
       "      <td>1462.832892</td>\n",
       "      <td>0.953</td>\n",
       "      <td>509.855</td>\n",
       "      <td>2129.002</td>\n",
       "      <td>3284.038</td>\n",
       "      <td>4819.321</td>\n",
       "      <td>371366.0</td>\n",
       "      <td>0.149179</td>\n",
       "      <td>7.323044</td>\n",
       "      <td>0.0</td>\n",
       "      <td>0.0</td>\n",
       "      <td>0.0</td>\n",
       "      <td>0.0</td>\n",
       "      <td>500.0</td>\n",
       "    </tr>\n",
       "  </tbody>\n",
       "</table>\n",
       "</div>"
      ],
      "text/plain": [
       "         play_time                                                      \\\n",
       "             count         mean          std    min      25%       50%   \n",
       "ab_group                                                                 \n",
       "1         384947.0  1979.915300  1458.721486  1.000  476.000  2096.000   \n",
       "2         371366.0  1995.136241  1462.832892  0.953  509.855  2129.002   \n",
       "\n",
       "                               revenue                                     \\\n",
       "               75%       max     count      mean       std  min  25%  50%   \n",
       "ab_group                                                                    \n",
       "1         3219.000  5052.000  384947.0  0.164638  7.770363  0.0  0.0  0.0   \n",
       "2         3284.038  4819.321  371366.0  0.149179  7.323044  0.0  0.0  0.0   \n",
       "\n",
       "                      \n",
       "          75%    max  \n",
       "ab_group              \n",
       "1         0.0  500.0  \n",
       "2         0.0  500.0  "
      ]
     },
     "execution_count": 120,
     "metadata": {},
     "output_type": "execute_result"
    }
   ],
   "source": [
    "#Посмотрим на описательные статистики\n",
    "AB_data[['ab_group','revenue','play_time']].groupby(by='ab_group').describe()"
   ]
  },
  {
   "cell_type": "code",
   "execution_count": 123,
   "metadata": {},
   "outputs": [
    {
     "data": {
      "image/png": "[encoded data removed]",
      "text/plain": [
       "<matplotlib.figure.Figure at 0x223d4c12358>"
      ]
     },
     "metadata": {},
     "output_type": "display_data"
    }
   ],
   "source": [
    "#график выручки по дням\n",
    "AB_data[AB_data['ab_group']=='1'].groupby('date')['revenue'].sum().plot(legend=True,label='revenue_1')\n",
    "AB_data[AB_data['ab_group']=='2'].groupby('date')['revenue'].sum().plot(legend=True,label='revenue_2', title='Revenue by days')\n",
    "plt.show()"
   ]
  },
  {
   "cell_type": "code",
   "execution_count": 10,
   "metadata": {
    "collapsed": true
   },
   "outputs": [],
   "source": [
    "# Рассмотрим агрегацию по UID\n",
    "AB_aggr=pd.DataFrame(AB_data.groupby(by=['uid','ab_group']).sum()).reset_index()"
   ]
  },
  {
   "cell_type": "code",
   "execution_count": 11,
   "metadata": {},
   "outputs": [
    {
     "data": {
      "text/plain": [
       "<seaborn.axisgrid.FacetGrid at 0x13c3ae50>"
      ]
     },
     "execution_count": 11,
     "metadata": {},
     "output_type": "execute_result"
    },
    {
     "data": {
      "image/png": "[encoded data removed]",
      "text/plain": [
       "<Figure size 414.25x360 with 1 Axes>"
      ]
     },
     "metadata": {
      "needs_background": "light"
     },
     "output_type": "display_data"
    }
   ],
   "source": [
    "# График распределение средней выручки сессии с очситкой данных \n",
    "sns.displot(AB_data[AB_data['revenue']>0], x=\"revenue\",hue=\"ab_group\",bins=30)"
   ]
  },
  {
   "cell_type": "code",
   "execution_count": 12,
   "metadata": {},
   "outputs": [
    {
     "data": {
      "text/html": [
       "<div>\n",
       "<style scoped>\n",
       "    .dataframe tbody tr th:only-of-type {\n",
       "        vertical-align: middle;\n",
       "    }\n",
       "\n",
       "    .dataframe tbody tr th {\n",
       "        vertical-align: top;\n",
       "    }\n",
       "\n",
       "    .dataframe thead th {\n",
       "        text-align: right;\n",
       "    }\n",
       "</style>\n",
       "<table border=\"1\" class=\"dataframe\">\n",
       "  <thead>\n",
       "    <tr style=\"text-align: right;\">\n",
       "      <th></th>\n",
       "      <th>uid</th>\n",
       "      <th>ab_group</th>\n",
       "      <th>date</th>\n",
       "      <th>revenue</th>\n",
       "      <th>play_time</th>\n",
       "    </tr>\n",
       "  </thead>\n",
       "  <tbody>\n",
       "    <tr>\n",
       "      <th>0</th>\n",
       "      <td>15375145</td>\n",
       "      <td>1</td>\n",
       "      <td>5014</td>\n",
       "      <td>0.0</td>\n",
       "      <td>184985.0</td>\n",
       "    </tr>\n",
       "    <tr>\n",
       "      <th>1</th>\n",
       "      <td>15375146</td>\n",
       "      <td>1</td>\n",
       "      <td>4522</td>\n",
       "      <td>0.0</td>\n",
       "      <td>141332.0</td>\n",
       "    </tr>\n",
       "    <tr>\n",
       "      <th>2</th>\n",
       "      <td>15375147</td>\n",
       "      <td>1</td>\n",
       "      <td>5040</td>\n",
       "      <td>124.0</td>\n",
       "      <td>183398.0</td>\n",
       "    </tr>\n",
       "    <tr>\n",
       "      <th>3</th>\n",
       "      <td>15375148</td>\n",
       "      <td>1</td>\n",
       "      <td>4879</td>\n",
       "      <td>0.0</td>\n",
       "      <td>167699.0</td>\n",
       "    </tr>\n",
       "    <tr>\n",
       "      <th>4</th>\n",
       "      <td>15375149</td>\n",
       "      <td>1</td>\n",
       "      <td>4015</td>\n",
       "      <td>0.0</td>\n",
       "      <td>102709.0</td>\n",
       "    </tr>\n",
       "  </tbody>\n",
       "</table>\n",
       "</div>"
      ],
      "text/plain": [
       "        uid ab_group  date  revenue  play_time\n",
       "0  15375145        1  5014      0.0   184985.0\n",
       "1  15375146        1  4522      0.0   141332.0\n",
       "2  15375147        1  5040    124.0   183398.0\n",
       "3  15375148        1  4879      0.0   167699.0\n",
       "4  15375149        1  4015      0.0   102709.0"
      ]
     },
     "execution_count": 12,
     "metadata": {},
     "output_type": "execute_result"
    }
   ],
   "source": [
    "AB_aggr.head()"
   ]
  },
  {
   "cell_type": "code",
   "execution_count": 13,
   "metadata": {},
   "outputs": [
    {
     "data": {
      "text/plain": [
       "<seaborn.axisgrid.FacetGrid at 0x13c737d0>"
      ]
     },
     "execution_count": 13,
     "metadata": {},
     "output_type": "execute_result"
    },
    {
     "data": {
      "image/png": "[encoded data removed]",
      "text/plain": [
       "<Figure size 414.25x360 with 1 Axes>"
      ]
     },
     "metadata": {
      "needs_background": "light"
     },
     "output_type": "display_data"
    }
   ],
   "source": [
    "# График распределение средней выручки сессии \n",
    "sns.displot(AB_data, x=\"revenue\",hue=\"ab_group\",bins=200)"
   ]
  },
  {
   "cell_type": "code",
   "execution_count": 14,
   "metadata": {},
   "outputs": [
    {
     "data": {
      "text/plain": [
       "<seaborn.axisgrid.FacetGrid at 0x14b54ef0>"
      ]
     },
     "execution_count": 14,
     "metadata": {},
     "output_type": "execute_result"
    },
    {
     "data": {
      "image/png": "[encoded data removed]",
      "text/plain": [
       "<Figure size 414.25x360 with 1 Axes>"
      ]
     },
     "metadata": {
      "needs_background": "light"
     },
     "output_type": "display_data"
    }
   ],
   "source": [
    "sns.displot(AB_aggr[AB_aggr['revenue']>0], x=\"revenue\",hue=\"ab_group\",bins=50).set(title='Гистограмма расперделения выручки по UID')"
   ]
  },
  {
   "cell_type": "code",
   "execution_count": 15,
   "metadata": {},
   "outputs": [
    {
     "data": {
      "text/plain": [
       "<seaborn.axisgrid.FacetGrid at 0x13cf5c50>"
      ]
     },
     "execution_count": 15,
     "metadata": {},
     "output_type": "execute_result"
    },
    {
     "data": {
      "image/png": "[encoded data removed]",
      "text/plain": [
       "<Figure size 414.25x360 with 1 Axes>"
      ]
     },
     "metadata": {
      "needs_background": "light"
     },
     "output_type": "display_data"
    }
   ],
   "source": [
    "sns.displot(AB_data, x=\"play_time\",hue=\"ab_group\",bins=60).set(title='Гистограмма расперделения времени по сессиям')"
   ]
  },
  {
   "cell_type": "code",
   "execution_count": 16,
   "metadata": {},
   "outputs": [
    {
     "data": {
      "text/plain": [
       "<seaborn.axisgrid.FacetGrid at 0x14d0f770>"
      ]
     },
     "execution_count": 16,
     "metadata": {},
     "output_type": "execute_result"
    },
    {
     "data": {
      "image/png": "[encoded data removed]",
      "text/plain": [
       "<Figure size 414.25x360 with 1 Axes>"
      ]
     },
     "metadata": {
      "needs_background": "light"
     },
     "output_type": "display_data"
    }
   ],
   "source": [
    "sns.displot(AB_aggr, x=\"play_time\",hue=\"ab_group\",bins=60).set(title='Гистограмма расперделения совокупного времени по uid')"
   ]
  },
  {
   "cell_type": "code",
   "execution_count": 17,
   "metadata": {},
   "outputs": [
    {
     "data": {
      "text/html": [
       "<div>\n",
       "<style scoped>\n",
       "    .dataframe tbody tr th:only-of-type {\n",
       "        vertical-align: middle;\n",
       "    }\n",
       "\n",
       "    .dataframe tbody tr th {\n",
       "        vertical-align: top;\n",
       "    }\n",
       "\n",
       "    .dataframe thead tr th {\n",
       "        text-align: left;\n",
       "    }\n",
       "\n",
       "    .dataframe thead tr:last-of-type th {\n",
       "        text-align: right;\n",
       "    }\n",
       "</style>\n",
       "<table border=\"1\" class=\"dataframe\">\n",
       "  <thead>\n",
       "    <tr>\n",
       "      <th></th>\n",
       "      <th colspan=\"8\" halign=\"left\">date</th>\n",
       "      <th colspan=\"5\" halign=\"left\">revenue</th>\n",
       "      <th colspan=\"8\" halign=\"left\">play_time</th>\n",
       "    </tr>\n",
       "    <tr>\n",
       "      <th></th>\n",
       "      <th>count</th>\n",
       "      <th>mean</th>\n",
       "      <th>std</th>\n",
       "      <th>min</th>\n",
       "      <th>25%</th>\n",
       "      <th>50%</th>\n",
       "      <th>75%</th>\n",
       "      <th>max</th>\n",
       "      <th>count</th>\n",
       "      <th>mean</th>\n",
       "      <th>...</th>\n",
       "      <th>75%</th>\n",
       "      <th>max</th>\n",
       "      <th>count</th>\n",
       "      <th>mean</th>\n",
       "      <th>std</th>\n",
       "      <th>min</th>\n",
       "      <th>25%</th>\n",
       "      <th>50%</th>\n",
       "      <th>75%</th>\n",
       "      <th>max</th>\n",
       "    </tr>\n",
       "    <tr>\n",
       "      <th>ab_group</th>\n",
       "      <th></th>\n",
       "      <th></th>\n",
       "      <th></th>\n",
       "      <th></th>\n",
       "      <th></th>\n",
       "      <th></th>\n",
       "      <th></th>\n",
       "      <th></th>\n",
       "      <th></th>\n",
       "      <th></th>\n",
       "      <th></th>\n",
       "      <th></th>\n",
       "      <th></th>\n",
       "      <th></th>\n",
       "      <th></th>\n",
       "      <th></th>\n",
       "      <th></th>\n",
       "      <th></th>\n",
       "      <th></th>\n",
       "      <th></th>\n",
       "      <th></th>\n",
       "    </tr>\n",
       "  </thead>\n",
       "  <tbody>\n",
       "    <tr>\n",
       "      <th>1</th>\n",
       "      <td>5110.0</td>\n",
       "      <td>4631.800783</td>\n",
       "      <td>368.825062</td>\n",
       "      <td>3825.0</td>\n",
       "      <td>4347.00</td>\n",
       "      <td>4725.0</td>\n",
       "      <td>4972.0</td>\n",
       "      <td>5050.0</td>\n",
       "      <td>5110.0</td>\n",
       "      <td>12.402544</td>\n",
       "      <td>...</td>\n",
       "      <td>0.0</td>\n",
       "      <td>13000.0</td>\n",
       "      <td>5110.0</td>\n",
       "      <td>149151.165362</td>\n",
       "      <td>31200.016967</td>\n",
       "      <td>70862.000</td>\n",
       "      <td>123749.750</td>\n",
       "      <td>148473.5000</td>\n",
       "      <td>173326.750</td>\n",
       "      <td>235458.000</td>\n",
       "    </tr>\n",
       "    <tr>\n",
       "      <th>2</th>\n",
       "      <td>4890.0</td>\n",
       "      <td>4643.586299</td>\n",
       "      <td>371.435939</td>\n",
       "      <td>3825.0</td>\n",
       "      <td>4356.25</td>\n",
       "      <td>4750.0</td>\n",
       "      <td>4984.0</td>\n",
       "      <td>5050.0</td>\n",
       "      <td>4890.0</td>\n",
       "      <td>11.329243</td>\n",
       "      <td>...</td>\n",
       "      <td>0.0</td>\n",
       "      <td>4550.0</td>\n",
       "      <td>4890.0</td>\n",
       "      <td>151518.561370</td>\n",
       "      <td>31552.992177</td>\n",
       "      <td>70141.753</td>\n",
       "      <td>125942.762</td>\n",
       "      <td>151408.3515</td>\n",
       "      <td>176569.934</td>\n",
       "      <td>251884.571</td>\n",
       "    </tr>\n",
       "  </tbody>\n",
       "</table>\n",
       "<p>2 rows × 24 columns</p>\n",
       "</div>"
      ],
      "text/plain": [
       "            date                                                            \\\n",
       "           count         mean         std     min      25%     50%     75%   \n",
       "ab_group                                                                     \n",
       "1         5110.0  4631.800783  368.825062  3825.0  4347.00  4725.0  4972.0   \n",
       "2         4890.0  4643.586299  371.435939  3825.0  4356.25  4750.0  4984.0   \n",
       "\n",
       "                 revenue             ...               play_time  \\\n",
       "             max   count       mean  ...  75%      max     count   \n",
       "ab_group                             ...                           \n",
       "1         5050.0  5110.0  12.402544  ...  0.0  13000.0    5110.0   \n",
       "2         5050.0  4890.0  11.329243  ...  0.0   4550.0    4890.0   \n",
       "\n",
       "                                                                           \\\n",
       "                   mean           std        min         25%          50%   \n",
       "ab_group                                                                    \n",
       "1         149151.165362  31200.016967  70862.000  123749.750  148473.5000   \n",
       "2         151518.561370  31552.992177  70141.753  125942.762  151408.3515   \n",
       "\n",
       "                                  \n",
       "                 75%         max  \n",
       "ab_group                          \n",
       "1         173326.750  235458.000  \n",
       "2         176569.934  251884.571  \n",
       "\n",
       "[2 rows x 24 columns]"
      ]
     },
     "execution_count": 17,
     "metadata": {},
     "output_type": "execute_result"
    }
   ],
   "source": [
    "AB_aggr.groupby(by='ab_group').describe()"
   ]
  },
  {
   "cell_type": "code",
   "execution_count": 22,
   "metadata": {},
   "outputs": [
    {
     "data": {
      "text/html": [
       "<div>\n",
       "<style scoped>\n",
       "    .dataframe tbody tr th:only-of-type {\n",
       "        vertical-align: middle;\n",
       "    }\n",
       "\n",
       "    .dataframe tbody tr th {\n",
       "        vertical-align: top;\n",
       "    }\n",
       "\n",
       "    .dataframe thead th {\n",
       "        text-align: right;\n",
       "    }\n",
       "</style>\n",
       "<table border=\"1\" class=\"dataframe\">\n",
       "  <thead>\n",
       "    <tr style=\"text-align: right;\">\n",
       "      <th></th>\n",
       "      <th>date</th>\n",
       "      <th>revenue</th>\n",
       "      <th>play_time</th>\n",
       "    </tr>\n",
       "  </thead>\n",
       "  <tbody>\n",
       "    <tr>\n",
       "      <th>date</th>\n",
       "      <td>1.000000</td>\n",
       "      <td>0.002298</td>\n",
       "      <td>0.882111</td>\n",
       "    </tr>\n",
       "    <tr>\n",
       "      <th>revenue</th>\n",
       "      <td>0.002298</td>\n",
       "      <td>1.000000</td>\n",
       "      <td>0.009081</td>\n",
       "    </tr>\n",
       "    <tr>\n",
       "      <th>play_time</th>\n",
       "      <td>0.882111</td>\n",
       "      <td>0.009081</td>\n",
       "      <td>1.000000</td>\n",
       "    </tr>\n",
       "  </tbody>\n",
       "</table>\n",
       "</div>"
      ],
      "text/plain": [
       "               date   revenue  play_time\n",
       "date       1.000000  0.002298   0.882111\n",
       "revenue    0.002298  1.000000   0.009081\n",
       "play_time  0.882111  0.009081   1.000000"
      ]
     },
     "execution_count": 22,
     "metadata": {},
     "output_type": "execute_result"
    }
   ],
   "source": [
    "AB_aggr.corr()"
   ]
  },
  {
   "cell_type": "code",
   "execution_count": 23,
   "metadata": {},
   "outputs": [
    {
     "data": {
      "text/html": [
       "<div>\n",
       "<style scoped>\n",
       "    .dataframe tbody tr th:only-of-type {\n",
       "        vertical-align: middle;\n",
       "    }\n",
       "\n",
       "    .dataframe tbody tr th {\n",
       "        vertical-align: top;\n",
       "    }\n",
       "\n",
       "    .dataframe thead th {\n",
       "        text-align: right;\n",
       "    }\n",
       "</style>\n",
       "<table border=\"1\" class=\"dataframe\">\n",
       "  <thead>\n",
       "    <tr style=\"text-align: right;\">\n",
       "      <th></th>\n",
       "      <th>date</th>\n",
       "      <th>revenue</th>\n",
       "      <th>play_time</th>\n",
       "    </tr>\n",
       "  </thead>\n",
       "  <tbody>\n",
       "    <tr>\n",
       "      <th>date</th>\n",
       "      <td>1.000000</td>\n",
       "      <td>0.017558</td>\n",
       "      <td>0.882136</td>\n",
       "    </tr>\n",
       "    <tr>\n",
       "      <th>revenue</th>\n",
       "      <td>0.017558</td>\n",
       "      <td>1.000000</td>\n",
       "      <td>0.026297</td>\n",
       "    </tr>\n",
       "    <tr>\n",
       "      <th>play_time</th>\n",
       "      <td>0.882136</td>\n",
       "      <td>0.026297</td>\n",
       "      <td>1.000000</td>\n",
       "    </tr>\n",
       "  </tbody>\n",
       "</table>\n",
       "</div>"
      ],
      "text/plain": [
       "               date   revenue  play_time\n",
       "date       1.000000  0.017558   0.882136\n",
       "revenue    0.017558  1.000000   0.026297\n",
       "play_time  0.882136  0.026297   1.000000"
      ]
     },
     "execution_count": 23,
     "metadata": {},
     "output_type": "execute_result"
    }
   ],
   "source": [
    "AB_aggr[(AB_aggr['ab_group']=='1')].corr()"
   ]
  },
  {
   "cell_type": "code",
   "execution_count": 24,
   "metadata": {},
   "outputs": [
    {
     "data": {
      "text/html": [
       "<div>\n",
       "<style scoped>\n",
       "    .dataframe tbody tr th:only-of-type {\n",
       "        vertical-align: middle;\n",
       "    }\n",
       "\n",
       "    .dataframe tbody tr th {\n",
       "        vertical-align: top;\n",
       "    }\n",
       "\n",
       "    .dataframe thead th {\n",
       "        text-align: right;\n",
       "    }\n",
       "</style>\n",
       "<table border=\"1\" class=\"dataframe\">\n",
       "  <thead>\n",
       "    <tr style=\"text-align: right;\">\n",
       "      <th></th>\n",
       "      <th>date</th>\n",
       "      <th>revenue</th>\n",
       "      <th>play_time</th>\n",
       "    </tr>\n",
       "  </thead>\n",
       "  <tbody>\n",
       "    <tr>\n",
       "      <th>date</th>\n",
       "      <td>1.000000</td>\n",
       "      <td>-0.021612</td>\n",
       "      <td>0.882371</td>\n",
       "    </tr>\n",
       "    <tr>\n",
       "      <th>revenue</th>\n",
       "      <td>-0.021612</td>\n",
       "      <td>1.000000</td>\n",
       "      <td>-0.017232</td>\n",
       "    </tr>\n",
       "    <tr>\n",
       "      <th>play_time</th>\n",
       "      <td>0.882371</td>\n",
       "      <td>-0.017232</td>\n",
       "      <td>1.000000</td>\n",
       "    </tr>\n",
       "  </tbody>\n",
       "</table>\n",
       "</div>"
      ],
      "text/plain": [
       "               date   revenue  play_time\n",
       "date       1.000000 -0.021612   0.882371\n",
       "revenue   -0.021612  1.000000  -0.017232\n",
       "play_time  0.882371 -0.017232   1.000000"
      ]
     },
     "execution_count": 24,
     "metadata": {},
     "output_type": "execute_result"
    }
   ],
   "source": [
    "AB_aggr[(AB_aggr['ab_group']=='2')].corr()"
   ]
  },
  {
   "cell_type": "markdown",
   "metadata": {},
   "source": [
    "Перейдем к статистическим тестам и проверке гипотез.\n",
    "Из графиков выше можно заключить, что распредления целевых метрик не похожи на нормальные,\n",
    "в связи с чем я решил не пользоваться наиболее популярным t-тестом, а использовать для проверки гипотез бутстрап.\n",
    "\n",
    "Существует несколько альтернативных вариантов данной проблемы , однако каждый из них имеет свои недостатки:\n",
    "Вариант 1: ранги\n",
    "Самый популярный способ оценить эксперимент на двух ненормально распределенных выборках — это использовать \n",
    "непараметрические ранговые критерии. Один из них — критерий Манна-Уитни.\n",
    "Однако интерпретация этого критерия не очень удобна\n",
    "Вариант 2: трансформации\n",
    "Мы можем попробовать использовать методы трансформации данных. \n",
    "Например, взять логарифм от выручки и посмотреть, что будет с распределением.\n",
    "Но есть нюанс — теперь мы работаем не с метрикой, а с log-метрикой и все дальнейшие выводы будем делать на этом уровне.\n",
    "Вывести из-под логарифма и оставить такой же вывод мы не можем, так как у нас изменится \n",
    "размерность данных и все описательные статистики. То есть второй метод нам тоже не подходит.\n",
    "Вариант 3: чистка данных\n",
    "Как стабилизировать данные, чтобы было проще сравнить средние при помощи критерия? Почистить данные.\n",
    "Можем убрать все значения, которые выходят за N стандартных отклонений от среднего и воспринимать их как выбросы.\n",
    "Отрезав эти выбросы, мы стабилизируем выборку, что позволит проще посчитать метрики.\n",
    "Но в этом случае мы можем потерять большое количество наблюдений, что \n",
    "может сильно изменить результат эксперимента.Такой вариант нам тоже не подойдет."
   ]
  },
  {
   "cell_type": "markdown",
   "metadata": {},
   "source": [
    "Рассмотрим метрику времени\n",
    "Гипотезы:\n",
    "H0: mean(session_time_b)-mean(session_time_a)=0\n",
    "H1: mean(session_time_b)-mean(session_time_a)<>0\n",
    "Двусторонняя гипотеза"
   ]
  },
  {
   "cell_type": "code",
   "execution_count": 126,
   "metadata": {
    "collapsed": true
   },
   "outputs": [],
   "source": [
    "pickups_time_a=AB_data[AB_data['ab_group']=='1']['play_time']\n",
    "pickups_time_b=AB_data[AB_data['ab_group']=='2']['play_time']\n"
   ]
  },
  {
   "cell_type": "code",
   "execution_count": 127,
   "metadata": {
    "collapsed": true
   },
   "outputs": [],
   "source": [
    "a_size=int(round(len(pickups_time_a)*0.1,0))\n",
    "b_size=int(round(len(pickups_time_b)*0.1,0))"
   ]
  },
  {
   "cell_type": "code",
   "execution_count": 128,
   "metadata": {
    "collapsed": true
   },
   "outputs": [],
   "source": [
    "iters=10000"
   ]
  },
  {
   "cell_type": "code",
   "execution_count": 3,
   "metadata": {
    "collapsed": true
   },
   "outputs": [],
   "source": [
    "def bootstrap_diff(data_a,data_b,a_size,b_size,iterations):\n",
    "    sample_props_a = []\n",
    "    sample_props_b = []\n",
    "    sample_diff=[]\n",
    "    for _ in range(iterations):\n",
    "        sample_a = np.random.choice(data_a, size=a_size)\n",
    "        sample_props_a.append(sample_a.mean())\n",
    "        sample_b = np.random.choice(data_b, size=b_size)\n",
    "        sample_props_b.append(sample_b.mean())\n",
    "        sample_diff.append(sample_a.mean()-sample_b.mean())\n",
    "    simulated_mean_a = np.mean(sample_props_a)\n",
    "    simulated_mean_b = np.mean(sample_props_b)\n",
    "    simulated_mean_diff = np.mean(sample_diff)\n",
    "    simulated_std_a = np.std(sample_props_a)\n",
    "    simulated_std_b = np.std(sample_props_b)\n",
    "    simulated_std_diff = np.std(simulated_mean_diff)    \n",
    "    return sample_props_a,simulated_mean_a,simulated_std_a,sample_props_b,simulated_mean_b,simulated_std_b,sample_diff,simulated_mean_diff,simulated_std_diff"
   ]
  },
  {
   "cell_type": "code",
   "execution_count": 130,
   "metadata": {
    "collapsed": true
   },
   "outputs": [],
   "source": [
    "time_a_means,a_time_mean,a_time_std,time_b_means,b_time_mean,b_time_std,time_diff_means,diff_mean_time,diff_time_std=bootstrap_diff(pickups_time_a,pickups_time_b,a_size,b_size,iters)"
   ]
  },
  {
   "cell_type": "code",
   "execution_count": 133,
   "metadata": {},
   "outputs": [
    {
     "data": {
      "image/png": "[encoded data removed]",
      "text/plain": [
       "<matplotlib.figure.Figure at 0x223d929fbe0>"
      ]
     },
     "metadata": {},
     "output_type": "display_data"
    }
   ],
   "source": [
    "plt.hist(time_a_means,bins=60)\n",
    "plt.hist(time_b_means,bins=60,alpha=0.5)\n",
    "plt.title('График bootstrap распредления среднего времени сессии для выборок 1 и 2')\n",
    "plt.axvline(a_time_mean, color='green')\n",
    "plt.axvline(b_time_mean, color='red')\n",
    "plt.show()"
   ]
  },
  {
   "cell_type": "code",
   "execution_count": 134,
   "metadata": {},
   "outputs": [
    {
     "name": "stdout",
     "output_type": "stream",
     "text": [
      "Для выборки А:(1979.9153000283156, 1979.980986247565)\n",
      "Для выборки B:(1995.136240528218, 1995.1203947020088)\n"
     ]
    }
   ],
   "source": [
    "# Посмотрим на теоретические средние и средние полученые в ходе симуляции по выборка \n",
    "print(f'Для выборки А:{(pickups_time_a.mean(), a_time_mean)}')\n",
    "print(f'Для выборки B:{(pickups_time_b.mean(), b_time_mean)}')"
   ]
  },
  {
   "cell_type": "code",
   "execution_count": 135,
   "metadata": {},
   "outputs": [
    {
     "name": "stdout",
     "output_type": "stream",
     "text": [
      "Для выборки А:(7.434815881885382, 7.48621567950039)\n",
      "Для выборки B:(7.590865703070589, 7.570287834003135)\n"
     ]
    }
   ],
   "source": [
    "# Аналогично рассмотрим теоритечкие и симулированные стандартные отклонения\n",
    "print(f'Для выборки А:{(pickups_time_a.std()/(a_size ** 0.5), a_time_std)}')\n",
    "print(f'Для выборки B:{(pickups_time_b.std()/(b_size ** 0.5), b_time_std)}')"
   ]
  },
  {
   "cell_type": "code",
   "execution_count": 136,
   "metadata": {
    "collapsed": true
   },
   "outputs": [],
   "source": [
    "diff_means_shifted = time_diff_means - diff_mean_time - 0"
   ]
  },
  {
   "cell_type": "code",
   "execution_count": 137,
   "metadata": {
    "collapsed": true
   },
   "outputs": [],
   "source": [
    "emp_diff_means = pickups_time_b.mean() - pickups_time_a.mean() "
   ]
  },
  {
   "cell_type": "code",
   "execution_count": 138,
   "metadata": {
    "collapsed": true
   },
   "outputs": [],
   "source": [
    "emp_diff_pctile_rnk = stats.percentileofscore(diff_means_shifted, emp_diff_means)"
   ]
  },
  {
   "cell_type": "code",
   "execution_count": 139,
   "metadata": {},
   "outputs": [
    {
     "data": {
      "image/png": "[encoded data removed]",
      "text/plain": [
       "<matplotlib.figure.Figure at 0x223d9263860>"
      ]
     },
     "metadata": {},
     "output_type": "display_data"
    }
   ],
   "source": [
    "plt.hist(time_diff_means,bins=60)\n",
    "plt.title('График bootstrap распредления разности среднего времени сессии для выборок 1 и 2')\n",
    "plt.show()"
   ]
  },
  {
   "cell_type": "code",
   "execution_count": 140,
   "metadata": {},
   "outputs": [
    {
     "name": "stdout",
     "output_type": "stream",
     "text": [
      "Разность эмпирических значений средних двух выборок: 15.221\n",
      "AUC to the left: 0.9219\n",
      "AUC to the right: 0.0781\n"
     ]
    }
   ],
   "source": [
    "auc_left = round(emp_diff_pctile_rnk / 100, 4)\n",
    "auc_rght = round(1 - emp_diff_pctile_rnk / 100, 4)\n",
    "print(f'Разность эмпирических значений средних двух выборок: {round(emp_diff_means, 3)}')\n",
    "print(f'AUC to the left: {auc_left}')\n",
    "print(f'AUC to the right: {auc_rght}')"
   ]
  },
  {
   "cell_type": "code",
   "execution_count": 141,
   "metadata": {},
   "outputs": [
    {
     "name": "stdout",
     "output_type": "stream",
     "text": [
      "P-value: 0.1562\n"
     ]
    }
   ],
   "source": [
    "auc_tail = auc_left if auc_left < auc_rght else auc_rght\n",
    "p_val = round(auc_tail * 2, 4)\n",
    "print(\"P-value:\", p_val)"
   ]
  },
  {
   "cell_type": "code",
   "execution_count": 142,
   "metadata": {},
   "outputs": [
    {
     "name": "stdout",
     "output_type": "stream",
     "text": [
      "Не можем отклонить нулевую гипотезу при 90% уровне значимости так как p_val=0.1562>0.10.\n"
     ]
    }
   ],
   "source": [
    "print(f'Не можем отклонить нулевую гипотезу при 90% уровне значимости так как p_val={p_val}>0.10.')"
   ]
  },
  {
   "cell_type": "markdown",
   "metadata": {},
   "source": [
    "Рассмотрим метрику средней выручки за сессию\n",
    "Гипотезы:\n",
    "H0: mean(session_revenue_b)-mean(session_revenue_a)=0\n",
    "H1: mean(session_revenue_b)-mean(session_revenue_a)<>0\n",
    "Двусторонняя гипотеза"
   ]
  },
  {
   "cell_type": "code",
   "execution_count": 143,
   "metadata": {
    "collapsed": true
   },
   "outputs": [],
   "source": [
    "pickups_revenue_a=AB_data[AB_data['ab_group']=='1']['revenue']\n",
    "pickups_revenue_b=AB_data[AB_data['ab_group']=='2']['revenue']"
   ]
  },
  {
   "cell_type": "code",
   "execution_count": 144,
   "metadata": {
    "collapsed": true
   },
   "outputs": [],
   "source": [
    "a_size=int(round(len(pickups_revenue_a)*0.1,0))\n",
    "b_size=int(round(len(pickups_revenue_b)*0.1,0))"
   ]
  },
  {
   "cell_type": "code",
   "execution_count": 145,
   "metadata": {
    "collapsed": true
   },
   "outputs": [],
   "source": [
    "revenue_a_means,a_revenue_mean,a_revenue_std,revenue_b_means,b_revenue_mean,b_revenue_std,revenue_diff_means,diff_mean_revenue,diff_revenue_std=bootstrap_diff(pickups_revenue_a,pickups_revenue_b,a_size,b_size,iters)"
   ]
  },
  {
   "cell_type": "code",
   "execution_count": 146,
   "metadata": {},
   "outputs": [
    {
     "data": {
      "image/png": "[encoded data removed]",
      "text/plain": [
       "<matplotlib.figure.Figure at 0x223e5dac438>"
      ]
     },
     "metadata": {},
     "output_type": "display_data"
    }
   ],
   "source": [
    "plt.hist(revenue_a_means,bins=60)\n",
    "plt.hist(revenue_b_means,bins=60,alpha=0.5)\n",
    "plt.title('График bootstrap распредления средней выручки сессии для выборок 1 и 2')\n",
    "plt.axvline(a_revenue_mean, color='green')\n",
    "plt.axvline(b_revenue_mean, color='red')\n",
    "plt.show()"
   ]
  },
  {
   "cell_type": "code",
   "execution_count": 147,
   "metadata": {},
   "outputs": [
    {
     "name": "stdout",
     "output_type": "stream",
     "text": [
      "Для выборки А:(0.16463824890179687, 0.16419841797636056)\n",
      "Для выборки B:(0.14917897707383013, 0.14895219053773864)\n"
     ]
    }
   ],
   "source": [
    "# Посмотрим на теоретические средние и средние полученые в ходе симуляции по выборка \n",
    "print(f'Для выборки А:{(pickups_revenue_a.mean(), a_revenue_mean)}')\n",
    "print(f'Для выборки B:{(pickups_revenue_b.mean(), b_revenue_mean)}')"
   ]
  },
  {
   "cell_type": "code",
   "execution_count": 148,
   "metadata": {},
   "outputs": [
    {
     "name": "stdout",
     "output_type": "stream",
     "text": [
      "Для выборки А:(0.0396040109683316, 0.03948827720077032)\n",
      "Для выборки B:(0.038000408213550635, 0.03809975949743797)\n"
     ]
    }
   ],
   "source": [
    "# Аналогично рассмотрим теоритечкие и симулированные стандартные отклонения\n",
    "print(f'Для выборки А:{(pickups_revenue_a.std()/(a_size ** 0.5), a_revenue_std)}')\n",
    "print(f'Для выборки B:{(pickups_revenue_b.std()/(b_size ** 0.5), b_revenue_std)}')"
   ]
  },
  {
   "cell_type": "code",
   "execution_count": 149,
   "metadata": {
    "collapsed": true
   },
   "outputs": [],
   "source": [
    "diff_means_shifted = revenue_diff_means - diff_mean_revenue - 0"
   ]
  },
  {
   "cell_type": "code",
   "execution_count": 150,
   "metadata": {
    "collapsed": true
   },
   "outputs": [],
   "source": [
    "emp_diff_means = pickups_revenue_b.mean() - pickups_revenue_a.mean() "
   ]
  },
  {
   "cell_type": "code",
   "execution_count": 151,
   "metadata": {
    "collapsed": true
   },
   "outputs": [],
   "source": [
    "emp_diff_pctile_rnk = stats.percentileofscore(diff_means_shifted, emp_diff_means)"
   ]
  },
  {
   "cell_type": "code",
   "execution_count": 152,
   "metadata": {},
   "outputs": [
    {
     "data": {
      "image/png": "[encoded data removed]",
      "text/plain": [
       "<matplotlib.figure.Figure at 0x223e5eaf780>"
      ]
     },
     "metadata": {},
     "output_type": "display_data"
    }
   ],
   "source": [
    "plt.hist(revenue_diff_means,bins=60)\n",
    "plt.title('График bootstrap распредления разности средней выручки сессии для выборок 1 и 2')\n",
    "plt.show()"
   ]
  },
  {
   "cell_type": "code",
   "execution_count": 153,
   "metadata": {},
   "outputs": [
    {
     "name": "stdout",
     "output_type": "stream",
     "text": [
      "Разность эмпирических значений средних двух выборок: -0.015\n",
      "AUC to the left: 0.3872\n",
      "AUC to the right: 0.6128\n"
     ]
    }
   ],
   "source": [
    "auc_left = round(emp_diff_pctile_rnk / 100, 4)\n",
    "auc_rght = round(1 - emp_diff_pctile_rnk / 100, 4)\n",
    "print(f'Разность эмпирических значений средних двух выборок: {round(emp_diff_means, 3)}')\n",
    "print(f'AUC to the left: {auc_left}')\n",
    "print(f'AUC to the right: {auc_rght}')"
   ]
  },
  {
   "cell_type": "code",
   "execution_count": 154,
   "metadata": {},
   "outputs": [
    {
     "name": "stdout",
     "output_type": "stream",
     "text": [
      "P-value: 0.7744\n"
     ]
    }
   ],
   "source": [
    "auc_tail = auc_left if auc_left < auc_rght else auc_rght\n",
    "p_val = round(auc_tail * 2, 4)\n",
    "print(\"P-value:\", p_val)"
   ]
  },
  {
   "cell_type": "code",
   "execution_count": 155,
   "metadata": {},
   "outputs": [
    {
     "name": "stdout",
     "output_type": "stream",
     "text": [
      "Не можем отклонить нулевую гипотезу при 90% уровне значимости так как p_val=0.7744>0.10.\n"
     ]
    }
   ],
   "source": [
    "print(f'Не можем отклонить нулевую гипотезу при 90% уровне значимости так как p_val={p_val}>0.10.')"
   ]
  },
  {
   "cell_type": "markdown",
   "metadata": {},
   "source": [
    "Рассмотрим метрику доли платящих пользователей \n",
    "Гипотезы:\n",
    "H0: mean(percent_paid_b)-mean(percent_paid_a)=0\n",
    "H1: mean(percent_paid_b)-mean(percent_paid_a)<>0\n",
    "Двусторонняя гипотеза"
   ]
  },
  {
   "cell_type": "code",
   "execution_count": 156,
   "metadata": {},
   "outputs": [
    {
     "data": {
      "text/html": [
       "<div>\n",
       "<style>\n",
       "    .dataframe thead tr:only-child th {\n",
       "        text-align: right;\n",
       "    }\n",
       "\n",
       "    .dataframe thead th {\n",
       "        text-align: left;\n",
       "    }\n",
       "\n",
       "    .dataframe tbody tr th {\n",
       "        vertical-align: top;\n",
       "    }\n",
       "</style>\n",
       "<table border=\"1\" class=\"dataframe\">\n",
       "  <thead>\n",
       "    <tr style=\"text-align: right;\">\n",
       "      <th></th>\n",
       "      <th>uid</th>\n",
       "      <th>ab_group</th>\n",
       "      <th>revenue</th>\n",
       "      <th>paid</th>\n",
       "    </tr>\n",
       "  </thead>\n",
       "  <tbody>\n",
       "    <tr>\n",
       "      <th>0</th>\n",
       "      <td>15375145</td>\n",
       "      <td>1</td>\n",
       "      <td>0.0</td>\n",
       "      <td>0</td>\n",
       "    </tr>\n",
       "    <tr>\n",
       "      <th>1</th>\n",
       "      <td>15375146</td>\n",
       "      <td>1</td>\n",
       "      <td>0.0</td>\n",
       "      <td>0</td>\n",
       "    </tr>\n",
       "    <tr>\n",
       "      <th>2</th>\n",
       "      <td>15375147</td>\n",
       "      <td>1</td>\n",
       "      <td>124.0</td>\n",
       "      <td>1</td>\n",
       "    </tr>\n",
       "    <tr>\n",
       "      <th>3</th>\n",
       "      <td>15375148</td>\n",
       "      <td>1</td>\n",
       "      <td>0.0</td>\n",
       "      <td>0</td>\n",
       "    </tr>\n",
       "    <tr>\n",
       "      <th>4</th>\n",
       "      <td>15375149</td>\n",
       "      <td>1</td>\n",
       "      <td>0.0</td>\n",
       "      <td>0</td>\n",
       "    </tr>\n",
       "  </tbody>\n",
       "</table>\n",
       "</div>"
      ],
      "text/plain": [
       "        uid ab_group  revenue  paid\n",
       "0  15375145        1      0.0     0\n",
       "1  15375146        1      0.0     0\n",
       "2  15375147        1    124.0     1\n",
       "3  15375148        1      0.0     0\n",
       "4  15375149        1      0.0     0"
      ]
     },
     "execution_count": 156,
     "metadata": {},
     "output_type": "execute_result"
    }
   ],
   "source": [
    "AB_conversion=AB_data[['uid','ab_group','revenue']].groupby(by=['uid','ab_group']).sum().reset_index()\n",
    "AB_conversion['paid']=np.where(AB_conversion['revenue'] > 0, 1, 0)\n",
    "AB_conversion.head()"
   ]
  },
  {
   "cell_type": "code",
   "execution_count": 157,
   "metadata": {},
   "outputs": [
    {
     "name": "stdout",
     "output_type": "stream",
     "text": [
      "Процент платящих игроков в группе 1:2.701% Процент платящих игроков в группе 2:2.495%\n"
     ]
    }
   ],
   "source": [
    "percent_a=round(AB_conversion[AB_conversion['ab_group']=='1']['paid'].sum()/AB_conversion[AB_conversion['ab_group']=='1'].shape[0]*100,3)\n",
    "percent_b=round(AB_conversion[AB_conversion['ab_group']=='2']['paid'].sum()/AB_conversion[AB_conversion['ab_group']=='2'].shape[0]*100,3)\n",
    "print(f'Процент платящих игроков в группе 1:{percent_a}% Процент платящих игроков в группе 2:{percent_b}%')"
   ]
  },
  {
   "cell_type": "code",
   "execution_count": 158,
   "metadata": {
    "collapsed": true
   },
   "outputs": [],
   "source": [
    "emp_diff=round(percent_b-percent_a,3)"
   ]
  },
  {
   "cell_type": "code",
   "execution_count": 159,
   "metadata": {
    "collapsed": true
   },
   "outputs": [],
   "source": [
    "a_size=int(round(AB_conversion[AB_conversion['ab_group']=='1'].shape[0]*0.1,0))\n",
    "b_size=int(round(AB_conversion[AB_conversion['ab_group']=='2'].shape[0]*0.1,0))"
   ]
  },
  {
   "cell_type": "code",
   "execution_count": 160,
   "metadata": {
    "collapsed": true
   },
   "outputs": [],
   "source": [
    "iters=100000"
   ]
  },
  {
   "cell_type": "code",
   "execution_count": 161,
   "metadata": {
    "collapsed": true
   },
   "outputs": [],
   "source": [
    "def bootstrap_diff_ratios(data_a,data_b,a_size,b_size,iterations):\n",
    "    sample_props_a = []\n",
    "    sample_props_b = []\n",
    "    sample_diff=[]\n",
    "    for _ in range(iterations):\n",
    "        sample_a = np.random.choice(data_a, size=a_size)\n",
    "        a_ratio=round(len(sample_a[sample_a>0])/a_size*100,3)\n",
    "        sample_props_a.append(a_ratio)        \n",
    "        sample_b = np.random.choice(data_b, size=b_size)\n",
    "        b_ratio=round(len(sample_b[sample_b>0])/b_size*100,3)\n",
    "        sample_props_b.append(round(len(sample_b[sample_b>0])/b_size*100,3))\n",
    "        sample_diff.append(b_ratio-a_ratio)\n",
    "    simulated_mean_a = np.mean(sample_props_a)\n",
    "    simulated_mean_b = np.mean(sample_props_b)\n",
    "    simulated_mean_diff = np.mean(sample_diff)\n",
    "    simulated_std_a = np.std(sample_props_a)\n",
    "    simulated_std_b = np.std(sample_props_b)\n",
    "    simulated_std_diff = np.std(simulated_mean_diff)    \n",
    "    return sample_props_a,simulated_mean_a,simulated_std_a,sample_props_b,simulated_mean_b,simulated_std_b,sample_diff,simulated_mean_diff,simulated_std_diff"
   ]
  },
  {
   "cell_type": "code",
   "execution_count": 162,
   "metadata": {
    "collapsed": true
   },
   "outputs": [],
   "source": [
    "ratio_a_means,a_ratio_mean,a_ratio_std,ratio_b_means,b_ratio_mean,b_ratio_std,ratio_diff_means,diff_mean_ratio,diff_ratio_std=bootstrap_diff_ratios(data_a,data_b,a_size,b_size,iters)"
   ]
  },
  {
   "cell_type": "code",
   "execution_count": 163,
   "metadata": {},
   "outputs": [
    {
     "data": {
      "image/png": "[encoded data removed]",
      "text/plain": [
       "<matplotlib.figure.Figure at 0x223d7b69c88>"
      ]
     },
     "metadata": {},
     "output_type": "display_data"
    }
   ],
   "source": [
    "plt.hist(ratio_a_means,bins=60,alpha=0.7,rwidth=1,color='green')\n",
    "plt.hist(ratio_b_means,bins=60,alpha=0.5,rwidth=1,color='blue')\n",
    "plt.title('График bootstrap распредления средней доли платящих пользователей для выборок 1 и 2')\n",
    "plt.axvline(a_ratio_mean, color='green')\n",
    "plt.axvline(b_ratio_mean, color='blue')\n",
    "plt.show()"
   ]
  },
  {
   "cell_type": "code",
   "execution_count": 164,
   "metadata": {},
   "outputs": [
    {
     "name": "stdout",
     "output_type": "stream",
     "text": [
      "Для выборки А:(2.700587084148728, 2.70097963)\n",
      "Для выборки B:(2.494887525562372, 2.49221913)\n"
     ]
    }
   ],
   "source": [
    "# Посмотрим на теоретические средние и средние полученые в ходе симуляции по выборка \n",
    "print(f'Для выборки А:{(data_a.mean()*100, a_ratio_mean)}')\n",
    "print(f'Для выборки B:{(data_b.mean()*100, b_ratio_mean)}')"
   ]
  },
  {
   "cell_type": "code",
   "execution_count": 165,
   "metadata": {},
   "outputs": [
    {
     "name": "stdout",
     "output_type": "stream",
     "text": [
      "Для выборки А:(0.7171603189718958, 0.7171498355121217)\n",
      "Для выборки B:(0.705389776462395, 0.7034960852997286)\n"
     ]
    }
   ],
   "source": [
    "# Аналогично рассмотрим теоритечкие и симулированные стандартные отклонения\n",
    "print(f'Для выборки А:{(data_a.std()/(a_size ** 0.5)*100, a_ratio_std)}')\n",
    "print(f'Для выборки B:{(data_b.std()/(b_size ** 0.5)*100, b_ratio_std)}')"
   ]
  },
  {
   "cell_type": "code",
   "execution_count": 166,
   "metadata": {
    "collapsed": true
   },
   "outputs": [],
   "source": [
    "diff_means_shifted = ratio_diff_means - diff_mean_ratio - 0"
   ]
  },
  {
   "cell_type": "code",
   "execution_count": 167,
   "metadata": {
    "collapsed": true
   },
   "outputs": [],
   "source": [
    "emp_diff_pctile_rnk = stats.percentileofscore(diff_means_shifted, emp_diff)"
   ]
  },
  {
   "cell_type": "code",
   "execution_count": 168,
   "metadata": {},
   "outputs": [
    {
     "data": {
      "image/png": "[encoded data removed]",
      "text/plain": [
       "<matplotlib.figure.Figure at 0x223d8f82da0>"
      ]
     },
     "metadata": {},
     "output_type": "display_data"
    }
   ],
   "source": [
    "plt.hist(ratio_diff_means,bins=60)\n",
    "plt.title('График bootstrap распредления разности средней доли платящих пользователей для выборок 1 и 2')\n",
    "plt.show()"
   ]
  },
  {
   "cell_type": "code",
   "execution_count": 169,
   "metadata": {},
   "outputs": [
    {
     "name": "stdout",
     "output_type": "stream",
     "text": [
      "Разность эмпирических значений средних двух выборок: -0.206\n",
      "AUC to the left: 0.4276\n",
      "AUC to the right: 0.5724\n"
     ]
    }
   ],
   "source": [
    "auc_left = round(emp_diff_pctile_rnk / 100, 4)\n",
    "auc_rght = round(1 - emp_diff_pctile_rnk / 100, 4)\n",
    "print(f'Разность эмпирических значений средних двух выборок: {round(emp_diff, 3)}')\n",
    "print(f'AUC to the left: {auc_left}')\n",
    "print(f'AUC to the right: {auc_rght}')"
   ]
  },
  {
   "cell_type": "code",
   "execution_count": 170,
   "metadata": {},
   "outputs": [
    {
     "name": "stdout",
     "output_type": "stream",
     "text": [
      "P-value: 0.8552\n"
     ]
    }
   ],
   "source": [
    "auc_tail = auc_left if auc_left < auc_rght else auc_rght\n",
    "p_val = round(auc_tail * 2, 4)\n",
    "print(\"P-value:\", p_val)"
   ]
  },
  {
   "cell_type": "code",
   "execution_count": 171,
   "metadata": {},
   "outputs": [
    {
     "name": "stdout",
     "output_type": "stream",
     "text": [
      "Не можем отклонить нулевую гипотезу при 90% уровне значимости так как p_val=0.8552>0.10.\n"
     ]
    }
   ],
   "source": [
    "print(f'Не можем отклонить нулевую гипотезу при 90% уровне значимости так как p_val={p_val}>0.10.')"
   ]
  },
  {
   "cell_type": "markdown",
   "metadata": {},
   "source": [
    "Для ответа на вопрос касательно остановки эксперимента рассмотрим динамику доли платящих пользователей. \n",
    "В данном ключе я рассматриваю динамику этой доли в качестве динамики конверсии.\n",
    "Из графика можно сделать вывод, что доля платящих пользователей сходится для групп 1 и 2 ,т.е графики колеблются примерно на одном уровне, следовательно можно заключить, что накапливавть доп данные не имеет особого смысла (если динамика была бы расходящейся или были явно видны какие-либо сезонные эффекты я бы задумался над продложением эксперимента).\n",
    "\n",
    "Стоило ли останавливать эксперимент раньше ?\n",
    "Мне было комфортно работать с теми объемами выборки, которые были представлены.\n",
    "Возможно его можно было остановить раньше, однако с точки зрения проведения стат.тестов, объемы выборок позволяют сделать статистически значимые выводы."
   ]
  },
  {
   "cell_type": "code",
   "execution_count": 172,
   "metadata": {},
   "outputs": [
    {
     "data": {
      "text/html": [
       "<div>\n",
       "<style>\n",
       "    .dataframe thead tr:only-child th {\n",
       "        text-align: right;\n",
       "    }\n",
       "\n",
       "    .dataframe thead th {\n",
       "        text-align: left;\n",
       "    }\n",
       "\n",
       "    .dataframe tbody tr th {\n",
       "        vertical-align: top;\n",
       "    }\n",
       "</style>\n",
       "<table border=\"1\" class=\"dataframe\">\n",
       "  <thead>\n",
       "    <tr style=\"text-align: right;\">\n",
       "      <th></th>\n",
       "      <th>date</th>\n",
       "      <th>ab_group</th>\n",
       "      <th>unique_users</th>\n",
       "      <th>sum_conversions</th>\n",
       "      <th>conversion_rate</th>\n",
       "    </tr>\n",
       "  </thead>\n",
       "  <tbody>\n",
       "    <tr>\n",
       "      <th>0</th>\n",
       "      <td>1</td>\n",
       "      <td>1</td>\n",
       "      <td>112</td>\n",
       "      <td>2</td>\n",
       "      <td>1.785714</td>\n",
       "    </tr>\n",
       "    <tr>\n",
       "      <th>1</th>\n",
       "      <td>1</td>\n",
       "      <td>2</td>\n",
       "      <td>107</td>\n",
       "      <td>0</td>\n",
       "      <td>0.000000</td>\n",
       "    </tr>\n",
       "    <tr>\n",
       "      <th>2</th>\n",
       "      <td>2</td>\n",
       "      <td>1</td>\n",
       "      <td>204</td>\n",
       "      <td>1</td>\n",
       "      <td>0.490196</td>\n",
       "    </tr>\n",
       "    <tr>\n",
       "      <th>3</th>\n",
       "      <td>2</td>\n",
       "      <td>2</td>\n",
       "      <td>205</td>\n",
       "      <td>0</td>\n",
       "      <td>0.000000</td>\n",
       "    </tr>\n",
       "    <tr>\n",
       "      <th>4</th>\n",
       "      <td>3</td>\n",
       "      <td>1</td>\n",
       "      <td>297</td>\n",
       "      <td>2</td>\n",
       "      <td>0.673401</td>\n",
       "    </tr>\n",
       "    <tr>\n",
       "      <th>5</th>\n",
       "      <td>3</td>\n",
       "      <td>2</td>\n",
       "      <td>310</td>\n",
       "      <td>0</td>\n",
       "      <td>0.000000</td>\n",
       "    </tr>\n",
       "    <tr>\n",
       "      <th>6</th>\n",
       "      <td>4</td>\n",
       "      <td>1</td>\n",
       "      <td>383</td>\n",
       "      <td>3</td>\n",
       "      <td>0.783290</td>\n",
       "    </tr>\n",
       "    <tr>\n",
       "      <th>7</th>\n",
       "      <td>4</td>\n",
       "      <td>2</td>\n",
       "      <td>406</td>\n",
       "      <td>0</td>\n",
       "      <td>0.000000</td>\n",
       "    </tr>\n",
       "    <tr>\n",
       "      <th>8</th>\n",
       "      <td>5</td>\n",
       "      <td>1</td>\n",
       "      <td>474</td>\n",
       "      <td>1</td>\n",
       "      <td>0.210970</td>\n",
       "    </tr>\n",
       "    <tr>\n",
       "      <th>9</th>\n",
       "      <td>5</td>\n",
       "      <td>2</td>\n",
       "      <td>519</td>\n",
       "      <td>0</td>\n",
       "      <td>0.000000</td>\n",
       "    </tr>\n",
       "  </tbody>\n",
       "</table>\n",
       "</div>"
      ],
      "text/plain": [
       "   date ab_group  unique_users  sum_conversions  conversion_rate\n",
       "0     1        1           112                2         1.785714\n",
       "1     1        2           107                0         0.000000\n",
       "2     2        1           204                1         0.490196\n",
       "3     2        2           205                0         0.000000\n",
       "4     3        1           297                2         0.673401\n",
       "5     3        2           310                0         0.000000\n",
       "6     4        1           383                3         0.783290\n",
       "7     4        2           406                0         0.000000\n",
       "8     5        1           474                1         0.210970\n",
       "9     5        2           519                0         0.000000"
      ]
     },
     "execution_count": 172,
     "metadata": {},
     "output_type": "execute_result"
    }
   ],
   "source": [
    "AB_data_conversions=AB_data[['date','ab_group','uid','revenue']].groupby(['date','ab_group','uid']).sum().reset_index()\n",
    "AB_data_conversions['conversion'] = np.where(AB_data['revenue'] > 0, 1, 0)\n",
    "AB_data_conversions=AB_data.groupby(['date','ab_group'],as_index=False).agg({'uid':['count'], \n",
    "                         'conversion':'sum'})\n",
    "AB_data_conversions.columns= AB_data_conversions.columns.droplevel(-1)\n",
    "AB_data_conversions.rename(columns = {'uid': 'unique_users', 'conversion': 'sum_conversions'}, inplace = True)\n",
    "AB_data_conversions['conversion_rate']=AB_data_conversions['sum_conversions']/AB_data_conversions['unique_users']*100\n",
    "AB_data_conversions.set_index('date')\n",
    "AB_data_conversions.head(10)"
   ]
  },
  {
   "cell_type": "code",
   "execution_count": 173,
   "metadata": {},
   "outputs": [
    {
     "data": {
      "image/png": "[encoded data removed]",
      "text/plain": [
       "<matplotlib.figure.Figure at 0x223dd3e86a0>"
      ]
     },
     "metadata": {},
     "output_type": "display_data"
    }
   ],
   "source": [
    "y1=AB_data_conversions[AB_data_conversions['ab_group']=='1']['conversion_rate']\n",
    "y2=AB_data_conversions[AB_data_conversions['ab_group']=='2']['conversion_rate']\n",
    "x=AB_data_conversions[AB_data_conversions['ab_group']=='2']['date']\n",
    "plt.plot(x, y1, label = \"conversion dynamic 1\")\n",
    "plt.plot(x, y2, label = \"conversion dynamic 2\")\n",
    "plt.xlabel('дата')\n",
    "plt.ylabel('динамика доли платящих пользователей')\n",
    "plt.title('График динамики доли платящих пользователей ')\n",
    "plt.legend()\n",
    "plt.show()"
   ]
  },
  {
   "cell_type": "code",
   "execution_count": 188,
   "metadata": {},
   "outputs": [
    {
     "name": "stdout",
     "output_type": "stream",
     "text": [
      "Ответы на вопросы:\n",
      "Ответ1:\n",
      "15.221 - разность среднего времени сессии для выборок 1 и 2\n",
      "-0.015 - разность средней выручки сессии для выборок 1 и 2\n",
      "-0.206- разность доли платящих пользователей для выборок 1 и 2 \n",
      "Ответ2:\n",
      "Статистическая значимость не позволила отвергнуть ни одну гипотезу на 90% уровне значимости\n",
      "Ответ3:\n",
      "Исходя из стат. тестов внердрение новой кривой сложности не приводит к заметным эффектам\n",
      "Ответ4:\n",
      "На мой взгляд интересный фактор в данных - это распределение средней выручки сессии, которое явно указывает \n",
      "на то что игра F2P, так очень большое количество сессий не приности выручки.\n",
      "Также меня смутило бимодальное распределение среднего времени сессии\n",
      "Ответ5:\n",
      "Для ответа на вопрос касательно остановки эксперимента рассмотрим динамику доли \n",
      "платящих пользователей. В данном ключе я рассматриваю динамику этой доли в качестве динамики конверсии. Из графика можно сделать вывод, что \n",
      "доля платящих пользователей сходится для групп 1 и 2 ,т.е графики колеблются примерно на одном уровне, следовательно можно заключить, что накапливавть доп данные \n",
      "не имеет особого смысла (если динамика была бы расходящейся или были явно видны какие-либо сезонные эффекты я бы задумался над продложением эксперимента).\n",
      "Стоило ли останавливать эксперимент раньше ? Мне было комфортно работать с теми объемами выборки, которые были представлены. Возможно его можно было остановить раньше, \n",
      "однако с точки зрения проведения стат.тестов, объемы выборок позволяют сделать статистически значимые выводы.\n"
     ]
    }
   ],
   "source": [
    "print('Ответы на вопросы:')\n",
    "print('Ответ1:')\n",
    "print (f'{round(pickups_time_b.mean() - pickups_time_a.mean(),3)} - разность среднего времени сессии для выборок 1 и 2') \n",
    "print (f'{round(pickups_revenue_b.mean() - pickups_revenue_a.mean(),3)} - разность средней выручки сессии для выборок 1 и 2')\n",
    "print (f'{round(percent_b-percent_a,3)}- разность доли платящих пользователей для выборок 1 и 2 ')\n",
    "print('Ответ2:')\n",
    "print('Статистическая значимость не позволила отвергнуть ни одну гипотезу на 90% уровне значимости')\n",
    "print('Ответ3:')\n",
    "print('Исходя из стат. тестов внердрение новой кривой сложности не приводит к заметным эффектам')\n",
    "print('Ответ4:')\n",
    "print('На мой взгляд интересный фактор в данных - это распределение средней выручки сессии, которое явно указывает \\nна то что игра F2P, так очень большое количество сессий не приности выручки.\\nТакже меня смутило бимодальное распределение среднего времени сессии')\n",
    "print('Ответ5:')\n",
    "print ('Для ответа на вопрос касательно остановки эксперимента рассмотрим динамику доли \\nплатящих пользователей. В данном ключе я рассматриваю динамику этой доли в качестве динамики конверсии. Из графика можно сделать вывод, что \\nдоля платящих пользователей сходится для групп 1 и 2 ,т.е графики колеблются примерно на одном уровне, следовательно можно заключить, что накапливавть доп данные \\nне имеет особого смысла (если динамика была бы расходящейся или были явно видны какие-либо сезонные эффекты я бы задумался над продложением эксперимента).\\nСтоило ли останавливать эксперимент раньше ? Мне было комфортно работать с теми объемами выборки, которые были представлены. Возможно его можно было остановить раньше, \\nоднако с точки зрения проведения стат.тестов, объемы выборок позволяют сделать статистически значимые выводы.')"
   ]
  },
  {
   "cell_type": "markdown",
   "metadata": {},
   "source": [
    "P.S \n",
    "1) Мне откровенно не понравилось распрделение разности долей платящих пользователей , возможно \n",
    "данную метрику следовало бы исследовать более детально\n",
    "2)Если бы было чуть больше времени я бы также провел Permutation-test , для проверки гипотезы о том что обе выборки \n",
    "имеют идентичным параметры. "
   ]
  }
 ],
 "metadata": {
  "kernelspec": {
   "display_name": "Python 3",
   "language": "python",
   "name": "python3"
  },
  "language_info": {
   "codemirror_mode": {
    "name": "ipython",
    "version": 3
   },
   "file_extension": ".py",
   "mimetype": "text/x-python",
   "name": "python",
   "nbconvert_exporter": "python",
   "pygments_lexer": "ipython3",
   "version": "3.6.1"
  }
 },
 "nbformat": 4,
 "nbformat_minor": 5
}
