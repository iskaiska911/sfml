{
 "cells": [
  {
   "cell_type": "markdown",
   "metadata": {},
   "source": [
    "# SkillFactory\n",
    "## Введение в ML, введение в sklearn"
   ]
  },
  {
   "cell_type": "markdown",
   "metadata": {},
   "source": [
    "В этом задании мы с вами рассмотрим данные с конкурса [Задача предсказания отклика клиентов ОТП Банка](http://www.machinelearning.ru/wiki/index.php?title=%D0%97%D0%B0%D0%B4%D0%B0%D1%87%D0%B0_%D0%BF%D1%80%D0%B5%D0%B4%D1%81%D0%BA%D0%B0%D0%B7%D0%B0%D0%BD%D0%B8%D1%8F_%D0%BE%D1%82%D0%BA%D0%BB%D0%B8%D0%BA%D0%B0_%D0%BA%D0%BB%D0%B8%D0%B5%D0%BD%D1%82%D0%BE%D0%B2_%D0%9E%D0%A2%D0%9F_%D0%91%D0%B0%D0%BD%D0%BA%D0%B0_%28%D0%BA%D0%BE%D0%BD%D0%BA%D1%83%D1%80%D1%81%29)"
   ]
  },
  {
   "cell_type": "code",
   "execution_count": 1,
   "metadata": {
    "collapsed": true
   },
   "outputs": [],
   "source": [
    "import pandas as pd\n",
    "import numpy as np\n",
    "import matplotlib.pyplot as plt\n",
    "\n",
    "%matplotlib inline\n",
    "\n",
    "plt.style.use('ggplot')\n",
    "plt.rcParams['figure.figsize'] = (12,5)"
   ]
  },
  {
   "cell_type": "markdown",
   "metadata": {},
   "source": [
    "### Грузим данные"
   ]
  },
  {
   "cell_type": "markdown",
   "metadata": {},
   "source": [
    "Считаем описание данных"
   ]
  },
  {
   "cell_type": "code",
   "execution_count": 2,
   "metadata": {
    "collapsed": true
   },
   "outputs": [],
   "source": [
    "df_descr = pd.read_csv('C:/Users/Alexander/Desktop/skill facotry/HW2/data/otp_description.csv', sep='\\t', encoding='utf8')"
   ]
  },
  {
   "cell_type": "code",
   "execution_count": 3,
   "metadata": {},
   "outputs": [
    {
     "data": {
      "text/html": [
       "<div>\n",
       "<style>\n",
       "    .dataframe thead tr:only-child th {\n",
       "        text-align: right;\n",
       "    }\n",
       "\n",
       "    .dataframe thead th {\n",
       "        text-align: left;\n",
       "    }\n",
       "\n",
       "    .dataframe tbody tr th {\n",
       "        vertical-align: top;\n",
       "    }\n",
       "</style>\n",
       "<table border=\"1\" class=\"dataframe\">\n",
       "  <thead>\n",
       "    <tr style=\"text-align: right;\">\n",
       "      <th></th>\n",
       "      <th>ПОЛЕ</th>\n",
       "      <th>ОПИСАНИЕ</th>\n",
       "    </tr>\n",
       "  </thead>\n",
       "  <tbody>\n",
       "    <tr>\n",
       "      <th>0</th>\n",
       "      <td>AGREEMENT_RK</td>\n",
       "      <td>уникальный идентификатор объекта в выборке</td>\n",
       "    </tr>\n",
       "    <tr>\n",
       "      <th>1</th>\n",
       "      <td>AGE</td>\n",
       "      <td>возраст клиента</td>\n",
       "    </tr>\n",
       "    <tr>\n",
       "      <th>2</th>\n",
       "      <td>SOCSTATUS_WORK_FL</td>\n",
       "      <td>социальный статус клиента относительно работы ...</td>\n",
       "    </tr>\n",
       "    <tr>\n",
       "      <th>3</th>\n",
       "      <td>SOCSTATUS_PENS_FL</td>\n",
       "      <td>социальный статус клиента относительно пенсии ...</td>\n",
       "    </tr>\n",
       "    <tr>\n",
       "      <th>4</th>\n",
       "      <td>GENDER</td>\n",
       "      <td>пол клиента (1- женщины, 0-мужчины)</td>\n",
       "    </tr>\n",
       "    <tr>\n",
       "      <th>5</th>\n",
       "      <td>CHILD_TOTAL</td>\n",
       "      <td>количество детей клиента</td>\n",
       "    </tr>\n",
       "    <tr>\n",
       "      <th>6</th>\n",
       "      <td>DEPENDANTS</td>\n",
       "      <td>количество иждивенцев клиента</td>\n",
       "    </tr>\n",
       "    <tr>\n",
       "      <th>7</th>\n",
       "      <td>EDUCATION</td>\n",
       "      <td>образование</td>\n",
       "    </tr>\n",
       "    <tr>\n",
       "      <th>8</th>\n",
       "      <td>MARITAL_STATUS</td>\n",
       "      <td>семейное положение</td>\n",
       "    </tr>\n",
       "    <tr>\n",
       "      <th>9</th>\n",
       "      <td>GEN_INDUSTRY</td>\n",
       "      <td>отрасль работы клиента</td>\n",
       "    </tr>\n",
       "    <tr>\n",
       "      <th>10</th>\n",
       "      <td>GEN_TITLE</td>\n",
       "      <td>должность</td>\n",
       "    </tr>\n",
       "    <tr>\n",
       "      <th>11</th>\n",
       "      <td>ORG_TP_STATE</td>\n",
       "      <td>форма собственности компании</td>\n",
       "    </tr>\n",
       "    <tr>\n",
       "      <th>12</th>\n",
       "      <td>ORG_TP_FCAPITAL</td>\n",
       "      <td>отношение к иностранному капиталу</td>\n",
       "    </tr>\n",
       "    <tr>\n",
       "      <th>13</th>\n",
       "      <td>JOB_DIR</td>\n",
       "      <td>направление деятельности в нутри компании</td>\n",
       "    </tr>\n",
       "    <tr>\n",
       "      <th>14</th>\n",
       "      <td>FAMILY_INCOME</td>\n",
       "      <td>семейный доход (несколько категорий)</td>\n",
       "    </tr>\n",
       "    <tr>\n",
       "      <th>15</th>\n",
       "      <td>PERSONAL_INCOME</td>\n",
       "      <td>личный доход клиента (в рублях)</td>\n",
       "    </tr>\n",
       "    <tr>\n",
       "      <th>16</th>\n",
       "      <td>REG_ADDRESS_PROVINCE</td>\n",
       "      <td>область регистрации клиента</td>\n",
       "    </tr>\n",
       "    <tr>\n",
       "      <th>17</th>\n",
       "      <td>FACT_ADDRESS_PROVINCE</td>\n",
       "      <td>область фактического пребывания клиента</td>\n",
       "    </tr>\n",
       "    <tr>\n",
       "      <th>18</th>\n",
       "      <td>POSTAL_ADDRESS_PROVINCE</td>\n",
       "      <td>почтовый адрес область</td>\n",
       "    </tr>\n",
       "    <tr>\n",
       "      <th>19</th>\n",
       "      <td>TP_PROVINCE</td>\n",
       "      <td>область торговой точки, где клиент брал послед...</td>\n",
       "    </tr>\n",
       "    <tr>\n",
       "      <th>20</th>\n",
       "      <td>REGION_NM</td>\n",
       "      <td>регион РФ</td>\n",
       "    </tr>\n",
       "    <tr>\n",
       "      <th>21</th>\n",
       "      <td>REG_FACT_FL</td>\n",
       "      <td>адрес регистрации и адрес фактического пребыва...</td>\n",
       "    </tr>\n",
       "    <tr>\n",
       "      <th>22</th>\n",
       "      <td>FACT_POST_FL</td>\n",
       "      <td>адрес фактического пребывания клиента и его по...</td>\n",
       "    </tr>\n",
       "    <tr>\n",
       "      <th>23</th>\n",
       "      <td>REG_POST_FL</td>\n",
       "      <td>адрес регистрации клиента и его почтовый адрес...</td>\n",
       "    </tr>\n",
       "    <tr>\n",
       "      <th>24</th>\n",
       "      <td>REG_FACT_POST_FL</td>\n",
       "      <td>почтовый, фактический и адрес регистрации совп...</td>\n",
       "    </tr>\n",
       "    <tr>\n",
       "      <th>25</th>\n",
       "      <td>REG_FACT_POST_TP_FL</td>\n",
       "      <td>область регистрации, фактического пребывания, ...</td>\n",
       "    </tr>\n",
       "    <tr>\n",
       "      <th>26</th>\n",
       "      <td>FL_PRESENCE_FL</td>\n",
       "      <td>наличие в собственности квартиры (1 - есть, 0 ...</td>\n",
       "    </tr>\n",
       "    <tr>\n",
       "      <th>27</th>\n",
       "      <td>OWN_AUTO</td>\n",
       "      <td>кол-во автомобилей в собственности</td>\n",
       "    </tr>\n",
       "    <tr>\n",
       "      <th>28</th>\n",
       "      <td>AUTO_RUS_FL</td>\n",
       "      <td>наличие в собственности автомобиля российского...</td>\n",
       "    </tr>\n",
       "    <tr>\n",
       "      <th>29</th>\n",
       "      <td>HS_PRESENCE_FL</td>\n",
       "      <td>наличие в собственности загородного дома (1 - ...</td>\n",
       "    </tr>\n",
       "    <tr>\n",
       "      <th>30</th>\n",
       "      <td>COT_PRESENCE_FL</td>\n",
       "      <td>наличие в собственности котеджа (1 - есть, 0 -...</td>\n",
       "    </tr>\n",
       "    <tr>\n",
       "      <th>31</th>\n",
       "      <td>GAR_PRESENCE_FL</td>\n",
       "      <td>наличие в собственности гаража (1 - есть, 0 - ...</td>\n",
       "    </tr>\n",
       "    <tr>\n",
       "      <th>32</th>\n",
       "      <td>LAND_PRESENCE_FL</td>\n",
       "      <td>наличие в собственности земельного участка (1 ...</td>\n",
       "    </tr>\n",
       "    <tr>\n",
       "      <th>33</th>\n",
       "      <td>CREDIT</td>\n",
       "      <td>сумма последнего кредита клиента (в рублях)</td>\n",
       "    </tr>\n",
       "    <tr>\n",
       "      <th>34</th>\n",
       "      <td>TERM</td>\n",
       "      <td>срок кредита</td>\n",
       "    </tr>\n",
       "    <tr>\n",
       "      <th>35</th>\n",
       "      <td>FST_PAYMENT</td>\n",
       "      <td>первоначальный взнос (в рублях)</td>\n",
       "    </tr>\n",
       "    <tr>\n",
       "      <th>36</th>\n",
       "      <td>DL_DOCUMENT_FL</td>\n",
       "      <td>в анкете клиент указал водительское удостовере...</td>\n",
       "    </tr>\n",
       "    <tr>\n",
       "      <th>37</th>\n",
       "      <td>GPF_DOCUMENT_FL</td>\n",
       "      <td>в анкете клиен указал ГПФ (1 - указал, 0 - не ...</td>\n",
       "    </tr>\n",
       "    <tr>\n",
       "      <th>38</th>\n",
       "      <td>FACT_LIVING_TERM</td>\n",
       "      <td>количество месяцев проживания по месту фактиче...</td>\n",
       "    </tr>\n",
       "    <tr>\n",
       "      <th>39</th>\n",
       "      <td>WORK_TIME</td>\n",
       "      <td>время работы на текущем месте (в месяцах)</td>\n",
       "    </tr>\n",
       "    <tr>\n",
       "      <th>40</th>\n",
       "      <td>FACT_PHONE_FL</td>\n",
       "      <td>наличие в заявке телефона по фактическому мест...</td>\n",
       "    </tr>\n",
       "    <tr>\n",
       "      <th>41</th>\n",
       "      <td>REG_PHONE_FL</td>\n",
       "      <td>наличие в заявке телефона по месту регистрации</td>\n",
       "    </tr>\n",
       "    <tr>\n",
       "      <th>42</th>\n",
       "      <td>GEN_PHONE_FL</td>\n",
       "      <td>наличие в заявке рабочего телефона</td>\n",
       "    </tr>\n",
       "    <tr>\n",
       "      <th>43</th>\n",
       "      <td>LOAN_NUM_TOTAL</td>\n",
       "      <td>количество ссуд клиента</td>\n",
       "    </tr>\n",
       "    <tr>\n",
       "      <th>44</th>\n",
       "      <td>LOAN_NUM_CLOSED</td>\n",
       "      <td>количество погашенных ссуд клиента</td>\n",
       "    </tr>\n",
       "    <tr>\n",
       "      <th>45</th>\n",
       "      <td>LOAN_NUM_PAYM</td>\n",
       "      <td>количество платежей, которые сделал клиент</td>\n",
       "    </tr>\n",
       "    <tr>\n",
       "      <th>46</th>\n",
       "      <td>LOAN_DLQ_NUM</td>\n",
       "      <td>количество просрочек, допущенных клиентом</td>\n",
       "    </tr>\n",
       "    <tr>\n",
       "      <th>47</th>\n",
       "      <td>LOAN_MAX_DLQ</td>\n",
       "      <td>номер максимальной просрочки, допущенной клиентом</td>\n",
       "    </tr>\n",
       "    <tr>\n",
       "      <th>48</th>\n",
       "      <td>LOAN_AVG_DLQ_AMT</td>\n",
       "      <td>средняя сумма просрочки (в рублях)</td>\n",
       "    </tr>\n",
       "    <tr>\n",
       "      <th>49</th>\n",
       "      <td>LOAN_MAX_DLQ_AMT</td>\n",
       "      <td>максимальная сумма просрочки (в рублях)</td>\n",
       "    </tr>\n",
       "    <tr>\n",
       "      <th>50</th>\n",
       "      <td>PREVIOUS_CARD_NUM_UTILIZED</td>\n",
       "      <td>количество уже утилизированных карт ( если пус...</td>\n",
       "    </tr>\n",
       "  </tbody>\n",
       "</table>\n",
       "</div>"
      ],
      "text/plain": [
       "                          ПОЛЕ  \\\n",
       "0                 AGREEMENT_RK   \n",
       "1                          AGE   \n",
       "2            SOCSTATUS_WORK_FL   \n",
       "3            SOCSTATUS_PENS_FL   \n",
       "4                       GENDER   \n",
       "5                  CHILD_TOTAL   \n",
       "6                   DEPENDANTS   \n",
       "7                    EDUCATION   \n",
       "8               MARITAL_STATUS   \n",
       "9                 GEN_INDUSTRY   \n",
       "10                   GEN_TITLE   \n",
       "11                ORG_TP_STATE   \n",
       "12             ORG_TP_FCAPITAL   \n",
       "13                     JOB_DIR   \n",
       "14               FAMILY_INCOME   \n",
       "15             PERSONAL_INCOME   \n",
       "16        REG_ADDRESS_PROVINCE   \n",
       "17       FACT_ADDRESS_PROVINCE   \n",
       "18     POSTAL_ADDRESS_PROVINCE   \n",
       "19                 TP_PROVINCE   \n",
       "20                   REGION_NM   \n",
       "21                 REG_FACT_FL   \n",
       "22                FACT_POST_FL   \n",
       "23                 REG_POST_FL   \n",
       "24            REG_FACT_POST_FL   \n",
       "25         REG_FACT_POST_TP_FL   \n",
       "26              FL_PRESENCE_FL   \n",
       "27                    OWN_AUTO   \n",
       "28                 AUTO_RUS_FL   \n",
       "29              HS_PRESENCE_FL   \n",
       "30             COT_PRESENCE_FL   \n",
       "31             GAR_PRESENCE_FL   \n",
       "32            LAND_PRESENCE_FL   \n",
       "33                      CREDIT   \n",
       "34                        TERM   \n",
       "35                 FST_PAYMENT   \n",
       "36              DL_DOCUMENT_FL   \n",
       "37             GPF_DOCUMENT_FL   \n",
       "38            FACT_LIVING_TERM   \n",
       "39                   WORK_TIME   \n",
       "40               FACT_PHONE_FL   \n",
       "41                REG_PHONE_FL   \n",
       "42                GEN_PHONE_FL   \n",
       "43              LOAN_NUM_TOTAL   \n",
       "44             LOAN_NUM_CLOSED   \n",
       "45               LOAN_NUM_PAYM   \n",
       "46                LOAN_DLQ_NUM   \n",
       "47                LOAN_MAX_DLQ   \n",
       "48            LOAN_AVG_DLQ_AMT   \n",
       "49            LOAN_MAX_DLQ_AMT   \n",
       "50  PREVIOUS_CARD_NUM_UTILIZED   \n",
       "\n",
       "                                             ОПИСАНИЕ  \n",
       "0          уникальный идентификатор объекта в выборке  \n",
       "1                                     возраст клиента  \n",
       "2   социальный статус клиента относительно работы ...  \n",
       "3   социальный статус клиента относительно пенсии ...  \n",
       "4                 пол клиента (1- женщины, 0-мужчины)  \n",
       "5                            количество детей клиента  \n",
       "6                       количество иждивенцев клиента  \n",
       "7                                         образование  \n",
       "8                                  семейное положение  \n",
       "9                              отрасль работы клиента  \n",
       "10                                          должность  \n",
       "11                       форма собственности компании  \n",
       "12                  отношение к иностранному капиталу  \n",
       "13          направление деятельности в нутри компании  \n",
       "14               семейный доход (несколько категорий)  \n",
       "15                    личный доход клиента (в рублях)  \n",
       "16                        область регистрации клиента  \n",
       "17            область фактического пребывания клиента  \n",
       "18                             почтовый адрес область  \n",
       "19  область торговой точки, где клиент брал послед...  \n",
       "20                                          регион РФ  \n",
       "21  адрес регистрации и адрес фактического пребыва...  \n",
       "22  адрес фактического пребывания клиента и его по...  \n",
       "23  адрес регистрации клиента и его почтовый адрес...  \n",
       "24  почтовый, фактический и адрес регистрации совп...  \n",
       "25  область регистрации, фактического пребывания, ...  \n",
       "26  наличие в собственности квартиры (1 - есть, 0 ...  \n",
       "27                кол-во автомобилей в собственности   \n",
       "28  наличие в собственности автомобиля российского...  \n",
       "29  наличие в собственности загородного дома (1 - ...  \n",
       "30  наличие в собственности котеджа (1 - есть, 0 -...  \n",
       "31  наличие в собственности гаража (1 - есть, 0 - ...  \n",
       "32  наличие в собственности земельного участка (1 ...  \n",
       "33        сумма последнего кредита клиента (в рублях)  \n",
       "34                                       срок кредита  \n",
       "35                    первоначальный взнос (в рублях)  \n",
       "36  в анкете клиент указал водительское удостовере...  \n",
       "37  в анкете клиен указал ГПФ (1 - указал, 0 - не ...  \n",
       "38  количество месяцев проживания по месту фактиче...  \n",
       "39          время работы на текущем месте (в месяцах)  \n",
       "40  наличие в заявке телефона по фактическому мест...  \n",
       "41     наличие в заявке телефона по месту регистрации  \n",
       "42                 наличие в заявке рабочего телефона  \n",
       "43                            количество ссуд клиента  \n",
       "44                 количество погашенных ссуд клиента  \n",
       "45         количество платежей, которые сделал клиент  \n",
       "46          количество просрочек, допущенных клиентом  \n",
       "47  номер максимальной просрочки, допущенной клиентом  \n",
       "48                 средняя сумма просрочки (в рублях)  \n",
       "49            максимальная сумма просрочки (в рублях)  \n",
       "50  количество уже утилизированных карт ( если пус...  "
      ]
     },
     "execution_count": 3,
     "metadata": {},
     "output_type": "execute_result"
    }
   ],
   "source": [
    "df_descr"
   ]
  },
  {
   "cell_type": "markdown",
   "metadata": {},
   "source": [
    "Считаем обучающую выборки и тестовую (которую мы как бы не видим)"
   ]
  },
  {
   "cell_type": "code",
   "execution_count": 4,
   "metadata": {
    "collapsed": true
   },
   "outputs": [],
   "source": [
    "df_train = pd.read_csv('C:/Users/Alexander/Desktop/skill facotry/HW2/data/otp_train.csv', sep='\\t', encoding='utf8')"
   ]
  },
  {
   "cell_type": "code",
   "execution_count": 5,
   "metadata": {},
   "outputs": [
    {
     "data": {
      "text/plain": [
       "(15223, 52)"
      ]
     },
     "execution_count": 5,
     "metadata": {},
     "output_type": "execute_result"
    }
   ],
   "source": [
    "df_train.shape"
   ]
  },
  {
   "cell_type": "code",
   "execution_count": 6,
   "metadata": {
    "collapsed": true
   },
   "outputs": [],
   "source": [
    "df_test = pd.read_csv('C:/Users/Alexander/Desktop/skill facotry/HW2/data/otp_test.csv', sep='\\t', encoding='utf8')"
   ]
  },
  {
   "cell_type": "code",
   "execution_count": 7,
   "metadata": {},
   "outputs": [
    {
     "data": {
      "text/plain": [
       "(14910, 52)"
      ]
     },
     "execution_count": 7,
     "metadata": {},
     "output_type": "execute_result"
    }
   ],
   "source": [
    "df_test.shape"
   ]
  },
  {
   "cell_type": "code",
   "execution_count": 8,
   "metadata": {},
   "outputs": [
    {
     "data": {
      "text/html": [
       "<div>\n",
       "<style>\n",
       "    .dataframe thead tr:only-child th {\n",
       "        text-align: right;\n",
       "    }\n",
       "\n",
       "    .dataframe thead th {\n",
       "        text-align: left;\n",
       "    }\n",
       "\n",
       "    .dataframe tbody tr th {\n",
       "        vertical-align: top;\n",
       "    }\n",
       "</style>\n",
       "<table border=\"1\" class=\"dataframe\">\n",
       "  <thead>\n",
       "    <tr style=\"text-align: right;\">\n",
       "      <th></th>\n",
       "      <th>AGREEMENT_RK</th>\n",
       "      <th>TARGET</th>\n",
       "      <th>AGE</th>\n",
       "      <th>SOCSTATUS_WORK_FL</th>\n",
       "      <th>SOCSTATUS_PENS_FL</th>\n",
       "      <th>GENDER</th>\n",
       "      <th>CHILD_TOTAL</th>\n",
       "      <th>DEPENDANTS</th>\n",
       "      <th>EDUCATION</th>\n",
       "      <th>MARITAL_STATUS</th>\n",
       "      <th>...</th>\n",
       "      <th>REG_PHONE_FL</th>\n",
       "      <th>GEN_PHONE_FL</th>\n",
       "      <th>LOAN_NUM_TOTAL</th>\n",
       "      <th>LOAN_NUM_CLOSED</th>\n",
       "      <th>LOAN_NUM_PAYM</th>\n",
       "      <th>LOAN_DLQ_NUM</th>\n",
       "      <th>LOAN_MAX_DLQ</th>\n",
       "      <th>LOAN_AVG_DLQ_AMT</th>\n",
       "      <th>LOAN_MAX_DLQ_AMT</th>\n",
       "      <th>PREVIOUS_CARD_NUM_UTILIZED</th>\n",
       "    </tr>\n",
       "  </thead>\n",
       "  <tbody>\n",
       "    <tr>\n",
       "      <th>0</th>\n",
       "      <td>59910150</td>\n",
       "      <td>0</td>\n",
       "      <td>49</td>\n",
       "      <td>1</td>\n",
       "      <td>0</td>\n",
       "      <td>1</td>\n",
       "      <td>2</td>\n",
       "      <td>1</td>\n",
       "      <td>Среднее специальное</td>\n",
       "      <td>Состою в браке</td>\n",
       "      <td>...</td>\n",
       "      <td>0</td>\n",
       "      <td>1</td>\n",
       "      <td>1</td>\n",
       "      <td>1</td>\n",
       "      <td>6</td>\n",
       "      <td>2</td>\n",
       "      <td>1</td>\n",
       "      <td>1580</td>\n",
       "      <td>1580</td>\n",
       "      <td>NaN</td>\n",
       "    </tr>\n",
       "    <tr>\n",
       "      <th>1</th>\n",
       "      <td>59910230</td>\n",
       "      <td>0</td>\n",
       "      <td>32</td>\n",
       "      <td>1</td>\n",
       "      <td>0</td>\n",
       "      <td>1</td>\n",
       "      <td>3</td>\n",
       "      <td>3</td>\n",
       "      <td>Среднее</td>\n",
       "      <td>Состою в браке</td>\n",
       "      <td>...</td>\n",
       "      <td>0</td>\n",
       "      <td>1</td>\n",
       "      <td>1</td>\n",
       "      <td>1</td>\n",
       "      <td>6</td>\n",
       "      <td>1</td>\n",
       "      <td>1</td>\n",
       "      <td>4020</td>\n",
       "      <td>4020</td>\n",
       "      <td>NaN</td>\n",
       "    </tr>\n",
       "    <tr>\n",
       "      <th>2</th>\n",
       "      <td>59910525</td>\n",
       "      <td>0</td>\n",
       "      <td>52</td>\n",
       "      <td>1</td>\n",
       "      <td>0</td>\n",
       "      <td>1</td>\n",
       "      <td>4</td>\n",
       "      <td>0</td>\n",
       "      <td>Неполное среднее</td>\n",
       "      <td>Состою в браке</td>\n",
       "      <td>...</td>\n",
       "      <td>0</td>\n",
       "      <td>1</td>\n",
       "      <td>2</td>\n",
       "      <td>1</td>\n",
       "      <td>11</td>\n",
       "      <td>0</td>\n",
       "      <td>0</td>\n",
       "      <td>0</td>\n",
       "      <td>0</td>\n",
       "      <td>NaN</td>\n",
       "    </tr>\n",
       "    <tr>\n",
       "      <th>3</th>\n",
       "      <td>59910803</td>\n",
       "      <td>0</td>\n",
       "      <td>39</td>\n",
       "      <td>1</td>\n",
       "      <td>0</td>\n",
       "      <td>1</td>\n",
       "      <td>1</td>\n",
       "      <td>1</td>\n",
       "      <td>Высшее</td>\n",
       "      <td>Состою в браке</td>\n",
       "      <td>...</td>\n",
       "      <td>1</td>\n",
       "      <td>1</td>\n",
       "      <td>1</td>\n",
       "      <td>1</td>\n",
       "      <td>6</td>\n",
       "      <td>3</td>\n",
       "      <td>1</td>\n",
       "      <td>1589,92333333333</td>\n",
       "      <td>1590</td>\n",
       "      <td>NaN</td>\n",
       "    </tr>\n",
       "    <tr>\n",
       "      <th>4</th>\n",
       "      <td>59911781</td>\n",
       "      <td>0</td>\n",
       "      <td>30</td>\n",
       "      <td>1</td>\n",
       "      <td>0</td>\n",
       "      <td>0</td>\n",
       "      <td>0</td>\n",
       "      <td>0</td>\n",
       "      <td>Среднее</td>\n",
       "      <td>Состою в браке</td>\n",
       "      <td>...</td>\n",
       "      <td>0</td>\n",
       "      <td>1</td>\n",
       "      <td>2</td>\n",
       "      <td>1</td>\n",
       "      <td>16</td>\n",
       "      <td>2</td>\n",
       "      <td>1</td>\n",
       "      <td>1152,15</td>\n",
       "      <td>2230</td>\n",
       "      <td>NaN</td>\n",
       "    </tr>\n",
       "  </tbody>\n",
       "</table>\n",
       "<p>5 rows × 52 columns</p>\n",
       "</div>"
      ],
      "text/plain": [
       "   AGREEMENT_RK  TARGET  AGE  SOCSTATUS_WORK_FL  SOCSTATUS_PENS_FL  GENDER  \\\n",
       "0      59910150       0   49                  1                  0       1   \n",
       "1      59910230       0   32                  1                  0       1   \n",
       "2      59910525       0   52                  1                  0       1   \n",
       "3      59910803       0   39                  1                  0       1   \n",
       "4      59911781       0   30                  1                  0       0   \n",
       "\n",
       "   CHILD_TOTAL  DEPENDANTS            EDUCATION  MARITAL_STATUS  \\\n",
       "0            2           1  Среднее специальное  Состою в браке   \n",
       "1            3           3              Среднее  Состою в браке   \n",
       "2            4           0     Неполное среднее  Состою в браке   \n",
       "3            1           1               Высшее  Состою в браке   \n",
       "4            0           0              Среднее  Состою в браке   \n",
       "\n",
       "             ...             REG_PHONE_FL GEN_PHONE_FL LOAN_NUM_TOTAL  \\\n",
       "0            ...                        0            1              1   \n",
       "1            ...                        0            1              1   \n",
       "2            ...                        0            1              2   \n",
       "3            ...                        1            1              1   \n",
       "4            ...                        0            1              2   \n",
       "\n",
       "  LOAN_NUM_CLOSED LOAN_NUM_PAYM LOAN_DLQ_NUM LOAN_MAX_DLQ  LOAN_AVG_DLQ_AMT  \\\n",
       "0               1             6            2            1              1580   \n",
       "1               1             6            1            1              4020   \n",
       "2               1            11            0            0                 0   \n",
       "3               1             6            3            1  1589,92333333333   \n",
       "4               1            16            2            1           1152,15   \n",
       "\n",
       "  LOAN_MAX_DLQ_AMT PREVIOUS_CARD_NUM_UTILIZED  \n",
       "0             1580                        NaN  \n",
       "1             4020                        NaN  \n",
       "2                0                        NaN  \n",
       "3             1590                        NaN  \n",
       "4             2230                        NaN  \n",
       "\n",
       "[5 rows x 52 columns]"
      ]
     },
     "execution_count": 8,
     "metadata": {},
     "output_type": "execute_result"
    }
   ],
   "source": [
    "df_train.head()"
   ]
  },
  {
   "cell_type": "markdown",
   "metadata": {},
   "source": [
    "## Объединим две выборки\n",
    "\n",
    "Так как пока мы пока не умеем работать sklearn  Pipeline, то для того, чтобы после предобработки столбцы в двух выборках находились на своих местах.\n",
    "\n",
    "Для того, чтобы в дальнейшем отделить их введем новый столбец \"sample\""
   ]
  },
  {
   "cell_type": "code",
   "execution_count": 9,
   "metadata": {
    "collapsed": true
   },
   "outputs": [],
   "source": [
    "df_train.loc[:, 'sample'] = 'train'\n",
    "df_test.loc[:, 'sample'] = 'test'"
   ]
  },
  {
   "cell_type": "code",
   "execution_count": 10,
   "metadata": {
    "collapsed": true
   },
   "outputs": [],
   "source": [
    "df = df_test.append(df_train).reset_index(drop=True)"
   ]
  },
  {
   "cell_type": "code",
   "execution_count": 11,
   "metadata": {},
   "outputs": [
    {
     "data": {
      "text/plain": [
       "(30133, 53)"
      ]
     },
     "execution_count": 11,
     "metadata": {},
     "output_type": "execute_result"
    }
   ],
   "source": [
    "df.shape"
   ]
  },
  {
   "cell_type": "markdown",
   "metadata": {},
   "source": [
    "### Чуть-чуть посмотрим на данные"
   ]
  },
  {
   "cell_type": "markdown",
   "metadata": {
    "collapsed": true
   },
   "source": [
    "Посмотрим типы данных и их заполняемость"
   ]
  },
  {
   "cell_type": "code",
   "execution_count": 12,
   "metadata": {
    "scrolled": false
   },
   "outputs": [
    {
     "name": "stdout",
     "output_type": "stream",
     "text": [
      "<class 'pandas.core.frame.DataFrame'>\n",
      "RangeIndex: 30133 entries, 0 to 30132\n",
      "Data columns (total 53 columns):\n",
      "AGREEMENT_RK                  30133 non-null int64\n",
      "TARGET                        30133 non-null int64\n",
      "AGE                           30133 non-null int64\n",
      "SOCSTATUS_WORK_FL             30133 non-null int64\n",
      "SOCSTATUS_PENS_FL             30133 non-null int64\n",
      "GENDER                        30133 non-null int64\n",
      "CHILD_TOTAL                   30133 non-null int64\n",
      "DEPENDANTS                    30133 non-null int64\n",
      "EDUCATION                     30133 non-null object\n",
      "MARITAL_STATUS                30133 non-null object\n",
      "GEN_INDUSTRY                  27420 non-null object\n",
      "GEN_TITLE                     27420 non-null object\n",
      "ORG_TP_STATE                  27420 non-null object\n",
      "ORG_TP_FCAPITAL               27425 non-null object\n",
      "JOB_DIR                       27420 non-null object\n",
      "FAMILY_INCOME                 30133 non-null object\n",
      "PERSONAL_INCOME               30133 non-null object\n",
      "REG_ADDRESS_PROVINCE          30133 non-null object\n",
      "FACT_ADDRESS_PROVINCE         30133 non-null object\n",
      "POSTAL_ADDRESS_PROVINCE       30133 non-null object\n",
      "TP_PROVINCE                   29543 non-null object\n",
      "REGION_NM                     30131 non-null object\n",
      "REG_FACT_FL                   30133 non-null int64\n",
      "FACT_POST_FL                  30133 non-null int64\n",
      "REG_POST_FL                   30133 non-null int64\n",
      "REG_FACT_POST_FL              30133 non-null int64\n",
      "REG_FACT_POST_TP_FL           30133 non-null int64\n",
      "FL_PRESENCE_FL                30133 non-null int64\n",
      "OWN_AUTO                      30133 non-null int64\n",
      "AUTO_RUS_FL                   30133 non-null int64\n",
      "HS_PRESENCE_FL                30133 non-null int64\n",
      "COT_PRESENCE_FL               30133 non-null int64\n",
      "GAR_PRESENCE_FL               30133 non-null int64\n",
      "LAND_PRESENCE_FL              30133 non-null int64\n",
      "CREDIT                        30133 non-null object\n",
      "TERM                          30133 non-null int64\n",
      "FST_PAYMENT                   30133 non-null object\n",
      "DL_DOCUMENT_FL                30133 non-null int64\n",
      "GPF_DOCUMENT_FL               30133 non-null int64\n",
      "FACT_LIVING_TERM              30133 non-null int64\n",
      "WORK_TIME                     27416 non-null float64\n",
      "FACT_PHONE_FL                 30133 non-null int64\n",
      "REG_PHONE_FL                  30133 non-null int64\n",
      "GEN_PHONE_FL                  30133 non-null int64\n",
      "LOAN_NUM_TOTAL                30133 non-null int64\n",
      "LOAN_NUM_CLOSED               30133 non-null int64\n",
      "LOAN_NUM_PAYM                 30133 non-null int64\n",
      "LOAN_DLQ_NUM                  30133 non-null int64\n",
      "LOAN_MAX_DLQ                  30133 non-null int64\n",
      "LOAN_AVG_DLQ_AMT              30133 non-null object\n",
      "LOAN_MAX_DLQ_AMT              30133 non-null object\n",
      "PREVIOUS_CARD_NUM_UTILIZED    600 non-null float64\n",
      "sample                        30133 non-null object\n",
      "dtypes: float64(2), int64(32), object(19)\n",
      "memory usage: 12.2+ MB\n"
     ]
    }
   ],
   "source": [
    "df.info()"
   ]
  },
  {
   "cell_type": "markdown",
   "metadata": {
    "collapsed": true
   },
   "source": [
    "Видим, что часть данных - object, скорее всего стоки.\n",
    "\n",
    "\n",
    "Давайте выведем эти значения для каждого столбца"
   ]
  },
  {
   "cell_type": "code",
   "execution_count": 13,
   "metadata": {},
   "outputs": [
    {
     "name": "stdout",
     "output_type": "stream",
     "text": [
      "==========\n",
      "EDUCATION\n",
      "{'Неполное среднее', 'Среднее специальное', 'Неоконченное высшее', 'Ученая степень', 'Среднее', 'Два и более высших образования', 'Высшее'}\n",
      "\n",
      "\n",
      "==========\n",
      "MARITAL_STATUS\n",
      "{'Разведен(а)', 'Не состоял в браке', 'Гражданский брак', 'Вдовец/Вдова', 'Состою в браке'}\n",
      "\n",
      "\n",
      "==========\n",
      "GEN_INDUSTRY\n",
      "{nan, 'Строительство', 'Страхование', 'Образование', 'Транспорт', 'СМИ/Реклама/PR-агенства', 'Здравоохранение', 'Подбор персонала', 'Информационные технологии', 'Недвижимость', 'Развлечения/Искусство', 'Наука', 'Нефтегазовая промышленность', 'Банк/Финансы', 'Металлургия/Промышленность/Машиностроение', 'Энергетика', 'Туризм', 'ЧОП/Детективная д-ть', 'Юридические услуги/нотариальные услуги', 'Информационные услуги', 'Управляющая компания', 'Сборочные производства', 'Салоны красоты и здоровья', 'Логистика', 'Сельское хозяйство', 'Коммунальное хоз-во/Дорожные службы', 'Маркетинг', 'Торговля', 'Ресторанный бизнес/Общественное питание', 'Государственная служба', 'Другие сферы', 'Химия/Парфюмерия/Фармацевтика'}\n",
      "\n",
      "\n",
      "==========\n",
      "GEN_TITLE\n",
      "{'Руководитель среднего звена', 'Руководитель высшего звена', nan, 'Руководитель низшего звена', 'Служащий', 'Высококвалифиц. специалист', 'Другое', 'Рабочий', 'Военнослужащий по контракту', 'Индивидуальный предприниматель', 'Партнер', 'Работник сферы услуг', 'Специалист'}\n",
      "\n",
      "\n",
      "==========\n",
      "ORG_TP_STATE\n",
      "{nan, 'Государственная комп./учреж.', 'Индивидуальный предприниматель', 'Частная ком. с инос. капиталом', 'Некоммерческая организация', 'Частная компания'}\n",
      "\n",
      "\n",
      "==========\n",
      "ORG_TP_FCAPITAL\n",
      "{nan, 'Без участия', 'С участием'}\n",
      "\n",
      "\n",
      "==========\n",
      "JOB_DIR\n",
      "{nan, 'Служба безопасности', 'Пр-техн. обесп. и телеком.', 'Участие в основ. деятельности', 'Юридическая служба', 'Бухгалтерия, финансы, планир.', 'Снабжение и сбыт', 'Адм-хоз. и трансп. службы', 'Кадровая служба и секретариат', 'Вспомогательный техперсонал', 'Реклама и маркетинг'}\n",
      "\n",
      "\n",
      "==========\n",
      "FAMILY_INCOME\n",
      "{'от 20000 до 50000 руб.', 'от 5000 до 10000 руб.', 'до 5000 руб.', 'от 10000 до 20000 руб.', 'свыше 50000 руб.'}\n",
      "\n",
      "\n",
      "==========\n",
      "PERSONAL_INCOME\n",
      "{'4330', '7100', '9240', '7600', '49000', '16900', '50000', '170000', '7850', '10400', '4300', '13900', '55000', '9330', '25800', '5900', '12600', '36000', '42000', '17700', '14800', '10900', '10600', '21500', '6900', '7050', '26000', '8700', '7640', '5360', '17404', '15600', '13700', '46000', '24500', '23800', '48000', '77000', '22500', '12400', '4360', '13600', '6400', '67700', '4950', '18700', '9000', '33000', '5446', '12900', '9400', '11200', '21800', '14700', '32000', '5400', '8100', '43000', '11640', '11900', '5300', '9700', '19600', '54000', '11600', '31000', '13450', '7101', '4590', '6700', '13800', '12300', '9800', '4515', '12500', '8900', '18200', '7251', '22000', '10300', '10500', '8400', '12700', '4600', '5200', '42500', '15400', '15300', '11800', '29000', '16000', '30000', '6670', '6359', '12100', '7500', '6800', '5339', '4340', '75000', '3400', '5582', '32640', '51000', '4700', '9628', '4100', '34000', '100000', '44000', '53000', '12000', '13160', '37000', '19500', '16500', '8066', '10200', '52000', '5500', '35000', '6000', '17500', '7250', '26500', '14358', '9900', '20646,16', '4200', '8200', '7900', '11300', '5460', '14300', '17200', '5050', '13400', '4400', '47000', '13150', '5680', '13500', '29500', '3000', '12800', '7220', '28000', '12650', '6200', '45000', '5790', '11700', '6299,19', '23000', '19800', '38000', '14500', '27300', '4500', '18000', '9600', '250000', '10800', '11000', '27000', '6500', '15380', '13000', '15000', '5800', '15500', '9300', '8800', '21000', '5600', '7550', '150000', '15200', '19000', '16050', '8350', '11400', '13200', '18500', '4800', '65000', '17600', '3900', '23100', '16200', '4900', '13300', '5000', '2800', '6600', '7650', '5350', '8600', '1950', '40000', '25000', '11500', '67000', '17000', '9340', '7400', '4000', '41900', '7700', '7200', '60000', '16700', '20500', '22955', '3300', '17800', '56000', '5230', '160000', '9500', '3200', '7830', '6608', '8500', '6100', '5425', '14000', '8000', '16800', '28300', '6180', '16100', '17900', '5100', '39000', '5700', '3100', '220000', '3600', '15560', '23500', '10100', '110000', '8726', '10000', '2300', '19300', '7800', '3700', '5088', '24000', '9200', '3800', '10700', '19700', '3500', '70000', '24', '2000', '24800', '7300', '8250', '41000', '6300', '92000', '29800', '20000', '18600', '68000', '9100', '8300', '2100', '7000', '80000'}\n",
      "\n",
      "\n",
      "==========\n",
      "REG_ADDRESS_PROVINCE\n",
      "{'Курганская область', 'Рязанская область', 'Коми', 'Ямало-Ненецкий АО', 'Кабардино-Балкария', 'Челябинская область', 'Пензенская область', 'Марийская республика', 'Санкт-Петербург', 'Горный Алтай', 'Самарская область', 'Калмыкия', 'Калужская область', 'Ярославская область', 'Томская область', 'Камчатская область', 'Оренбургская область', 'Кировская область', 'Мордовская республика', 'Архангельская область', 'Курская область', 'Красноярский край', 'Владимирская область', 'Ульяновская область', 'Татарстан', 'Омская область', 'Алтайский край', 'Дагестан', 'Астраханская область', 'Ростовская область', 'Ставропольский край', 'Нижегородская область', 'Бурятия', 'Тверская область', 'Сахалинская область', 'Хабаровский край', 'Калининградская область', 'Саратовская область', 'Псковская область', 'Карачаево-Черкесия', 'Еврейская АО', 'Агинский Бурятский АО', 'Башкирия', 'Орловская область', 'Амурская область', 'Якутия', 'Иркутская область', 'Новгородская область', 'Воронежская область', 'Брянская область', 'Московская область', 'Усть-Ордынский Бурятский АО', 'Пермская область', 'Мурманская область', 'Москва', 'Липецкая область', 'Чувашия', 'Эвенкийский АО', 'Удмуртия', 'Костромская область', 'Тамбовская область', 'Белгородская область', 'Волгоградская область', 'Новосибирская область', 'Краснодарский край', 'Ленинградская область', 'Кемеровская область', 'Ханты-Мансийский АО', 'Адыгея', 'Вологодская область', 'Свердловская область', 'Ивановская область', 'Приморский край', 'Смоленская область', 'Магаданская область', 'Читинская область', 'Тюменская область', 'Северная Осетия', 'Тульская область', 'Хакасия', 'Карелия'}\n",
      "\n",
      "\n",
      "==========\n",
      "FACT_ADDRESS_PROVINCE\n",
      "{'Курганская область', 'Рязанская область', 'Коми', 'Ямало-Ненецкий АО', 'Кабардино-Балкария', 'Челябинская область', 'Пензенская область', 'Марийская республика', 'Санкт-Петербург', 'Горный Алтай', 'Самарская область', 'Калмыкия', 'Калужская область', 'Ярославская область', 'Томская область', 'Камчатская область', 'Оренбургская область', 'Кировская область', 'Мордовская республика', 'Архангельская область', 'Курская область', 'Красноярский край', 'Владимирская область', 'Ульяновская область', 'Татарстан', 'Омская область', 'Алтайский край', 'Дагестан', 'Астраханская область', 'Ростовская область', 'Ставропольский край', 'Нижегородская область', 'Бурятия', 'Тверская область', 'Сахалинская область', 'Хабаровский край', 'Калининградская область', 'Саратовская область', 'Псковская область', 'Карачаево-Черкесия', 'Еврейская АО', 'Агинский Бурятский АО', 'Башкирия', 'Орловская область', 'Амурская область', 'Якутия', 'Иркутская область', 'Новгородская область', 'Воронежская область', 'Брянская область', 'Московская область', 'Усть-Ордынский Бурятский АО', 'Пермская область', 'Мурманская область', 'Москва', 'Липецкая область', 'Чувашия', 'Эвенкийский АО', 'Удмуртия', 'Костромская область', 'Тамбовская область', 'Белгородская область', 'Волгоградская область', 'Новосибирская область', 'Краснодарский край', 'Ленинградская область', 'Кемеровская область', 'Ханты-Мансийский АО', 'Адыгея', 'Вологодская область', 'Свердловская область', 'Ивановская область', 'Приморский край', 'Смоленская область', 'Магаданская область', 'Читинская область', 'Тюменская область', 'Северная Осетия', 'Тульская область', 'Хакасия', 'Карелия'}\n",
      "\n",
      "\n",
      "==========\n",
      "POSTAL_ADDRESS_PROVINCE\n",
      "{'Курганская область', 'Рязанская область', 'Коми', 'Ямало-Ненецкий АО', 'Кабардино-Балкария', 'Челябинская область', 'Пензенская область', 'Марийская республика', 'Санкт-Петербург', 'Горный Алтай', 'Самарская область', 'Калмыкия', 'Калужская область', 'Ярославская область', 'Томская область', 'Камчатская область', 'Оренбургская область', 'Кировская область', 'Мордовская республика', 'Архангельская область', 'Курская область', 'Красноярский край', 'Владимирская область', 'Ульяновская область', 'Татарстан', 'Омская область', 'Алтайский край', 'Астраханская область', 'Ростовская область', 'Ставропольский край', 'Нижегородская область', 'Бурятия', 'Тверская область', 'Сахалинская область', 'Хабаровский край', 'Калининградская область', 'Саратовская область', 'Псковская область', 'Карачаево-Черкесия', 'Еврейская АО', 'Агинский Бурятский АО', 'Башкирия', 'Орловская область', 'Амурская область', 'Якутия', 'Иркутская область', 'Новгородская область', 'Воронежская область', 'Брянская область', 'Московская область', 'Усть-Ордынский Бурятский АО', 'Пермская область', 'Мурманская область', 'Москва', 'Липецкая область', 'Чувашия', 'Эвенкийский АО', 'Удмуртия', 'Костромская область', 'Тамбовская область', 'Белгородская область', 'Волгоградская область', 'Новосибирская область', 'Краснодарский край', 'Ленинградская область', 'Кемеровская область', 'Ханты-Мансийский АО', 'Адыгея', 'Вологодская область', 'Свердловская область', 'Ивановская область', 'Приморский край', 'Смоленская область', 'Магаданская область', 'Читинская область', 'Тюменская область', 'Северная Осетия', 'Тульская область', 'Хакасия', 'Карелия'}\n",
      "\n",
      "\n",
      "==========\n",
      "TP_PROVINCE\n",
      "{nan, 'Рязанская область', 'Коми', 'Кабардино-Балкария', 'Челябинская область', 'Пензенская область', 'Марийская республика', 'Санкт-Петербург', 'Горный Алтай', 'Самарская область', 'Калужская область', 'Ярославская область', 'Томская область', 'Камчатская область', 'Оренбургская область', 'Кировская область', 'Мордовская республика', 'Архангельская область', 'Курская область', 'Красноярский край', 'Владимирская область', 'Ульяновская область', 'Татарстан', 'Омская область', 'Алтайский край', 'Астраханская область', 'Ставропольский край', 'Ростовская область', 'Нижегородская область', 'Бурятия', 'Тверская область', 'Сахалинская область', 'Хабаровский край', 'Калининградская область', 'Саратовская область', 'Псковская область', 'Еврейская АО', 'Башкирия', 'Орловская область', 'Амурская область', 'Якутия', 'Иркутская область', 'Новгородская область', 'Воронежская область', 'Брянская область', 'Пермская область', 'Мурманская область', 'Москва', 'Липецкая область', 'Чувашия', 'Удмуртия', 'Костромская область', 'Тамбовская область', 'Белгородская область', 'Волгоградская область', 'Новосибирская область', 'Краснодарский край', 'Кемеровская область', 'Ханты-Мансийский АО', 'Адыгея', 'Вологодская область', 'Свердловская область', 'Ивановская область', 'Приморский край', 'Смоленская область', 'Магаданская область', 'Читинская область', 'Тюменская область', 'Тульская область', 'Курганская область', 'Карелия'}\n",
      "\n",
      "\n",
      "==========\n",
      "REGION_NM\n",
      "{nan, 'ВОСТОЧНО-СИБИРСКИЙ', 'ПРИВОЛЖСКИЙ', 'ЦЕНТРАЛЬНЫЙ ОФИС', 'ЦЕНТРАЛЬНЫЙ 1', 'ДАЛЬНЕВОСТОЧНЫЙ', 'СЕВЕРО-ЗАПАДНЫЙ', 'ЗАПАДНО-СИБИРСКИЙ', 'ЮЖНЫЙ', 'УРАЛЬСКИЙ', 'ЦЕНТРАЛЬНЫЙ 2', 'ПОВОЛЖСКИЙ'}\n",
      "\n",
      "\n",
      "==========\n",
      "CREDIT\n",
      "{'12080', '5178', '8071', '3827', '3660', '7797,6', '6799', '14383', '6209', '5259', '19051', '20768', '16350', '6189,92', '9759', '13918', '23297', '4150,95', '14938', '13980', '12053', '8095', '17372', '19830', '9990', '27356', '9573,1', '17476', '32828', '23715', '17567', '43353', '17330', '8268', '6710', '7845', '27208', '4390', '4970', '22091', '17380', '28310', '10500', '3928', '17962', '8753', '3561', '11855', '10134', '20987', '23659', '25301', '3357', '4628', '2150', '38832', '12741', '15624', '35250', '9128', '19966', '6000', '19810', '5678', '21484', '4664', '11583', '28288', '19286', '16064', '25199', '4520', '17106', '9290', '12646', '7194,72', '12478', '16310', '15482', '3768', '5760', '6863', '15000', '12250', '34900', '12816', '18010', '21736,2', '3910', '9870', '4057', '4892', '11100', '17099,1', '6691', '22050', '7996', '19125', '52930', '14595', '14420', '15481', '31460', '15897,92', '7950', '28400', '4377', '70000', '16748,1', '12854', '27400', '19220', '44500', '3448,8', '21648', '5859', '9425', '9457', '4648', '55846', '20090', '18910', '20600', '9480', '16786', '23104', '34557,1', '10611', '14678,63', '11927', '2660', '13263', '27228', '20242', '18631', '30974', '7574', '27860', '23861', '14598', '27971', '2759', '30150', '10483', '14107', '14513', '8763', '8610', '5849', '5688', '15985', '25990', '13382', '17117', '44700', '20317', '6800', '7985', '26819', '13780,82', '8361', '52000', '9557,1', '8697', '22233', '3220', '28059', '4379', '16870', '20488', '7084,28', '27350', '11810', '32810', '8033', '11754', '3385,83', '3825', '22588', '6053', '2050', '11600,6', '23780', '4088', '18250', '6544', '7492', '6424', '5193', '3650', '21770', '6747', '4460', '14390,92', '86071', '26140', '18724', '19799', '24502', '13332', '11580', '14031', '7140', '7296', '63776', '26740', '22290', '25520', '9620', '7629', '40050', '19300', '11890', '23552', '15314', '9200', '2955', '11804', '16052', '19404', '24800', '14200', '6499', '32980', '5272', '11130', '22498,2', '12699', '12345', '15580', '25632', '8515,7', '6978', '12606', '28500', '26780', '25920', '10760', '5540', '17769', '23800', '11978', '41620', '9167', '47529,91', '12745', '19128,41', '15240', '27360', '12029', '17949', '8118', '18528', '59398,2', '5109', '13387', '24667', '18702', '19522', '26241,6', '3575', '6105', '9998', '10279', '4851,81', '13745', '96860', '13090', '10616', '14260', '25340', '6108', '4196', '12550', '6982', '19751', '11719', '9438', '23186', '22349', '47195,92', '6354', '3647', '6027', '23355', '12990', '15320', '7369', '15760', '25588', '20871', '19095', '23029', '29037,12', '30360', '17480', '21150', '6498', '12340', '46800', '10844', '17756', '6115', '9326', '19296', '12127', '19945,35', '3000', '15524', '15186', '7720', '6449', '5867', '10990,2', '21069,8', '6367', '3391', '15221', '15200', '25177', '19289', '30011', '6086', '8127', '11441', '6192', '4592', '5451', '18472', '10158', '4318,2', '40410', '7795', '10084', '12599,9', '27945', '13439', '15870', '29384', '5605', '14000', '8000', '17900', '2700', '20877', '19419', '2380', '30813', '10457', '11399', '10113', '3933', '7391', '29526,12', '30729', '4013', '20790', '11997,2', '4779', '20990', '18328,6', '11305', '29750', '38058', '11524,79', '9100', '34280', '3989', '6240', '14998', '24210', '30324', '9651', '12166', '9720', '17890', '13620', '16630', '6940', '95441', '8260', '9597', '10836', '24650', '8640', '14081', '11748', '34140', '7977', '43373', '8412', '18900', '11322', '26300', '22384', '4008', '19358', '11518', '13198', '22338,94', '6609', '20999', '9009', '4945', '14850', '35991', '15840', '10185', '4202', '22345', '7735', '5545', '2031', '30000', '3520', '23020', '19840', '50929,82', '7949', '51570', '33680', '49750', '15750,91', '4479', '3760', '17247', '22495', '6291', '24200', '37069', '12130', '28039', '4291', '19315', '6675', '21910', '4265', '39090', '8590', '5995,46', '66578', '5542', '10298', '3290', '10429', '28640', '9422', '22530', '26886', '10712', '16050', '32397', '9499', '14755', '9999', '10394', '4125', '34630', '12148', '4039', '20680', '8902', '11280', '23240', '9237', '5032', '9347', '5208', '4743', '16180', '16899', '5490', '4175', '14856', '7796', '25740', '3222,9', '35770', '6938', '6605', '13567', '9490', '19491', '35091', '8955', '8997', '14996', '4560', '3167', '21877', '24367', '25385', '12947', '10456', '11589', '15990', '11321', '8441', '36093', '25662', '9971,89', '21960', '98030', '15127,38', '16908', '4837', '18540', '26200', '13476', '4360', '10990', '6467', '26988', '26930', '26164', '4208', '75535,08', '8811', '16965', '9072', '41929', '5189', '9251', '26340', '31450', '27130', '9529', '3610', '9789', '17428', '19377', '23396', '6081', '7954', '9009,91', '7679', '46500', '4887', '20550', '79380', '4302', '10389', '21290', '12197', '7336', '5023', '13098', '3553', '20294', '20519', '22760', '21838', '6980', '26660,2', '11167', '29780', '11539', '9599', '9406', '4182', '19342', '5480', '8286', '28186', '13254', '61832', '20620', '13875', '4869', '20209', '5190', '3979', '11789', '19021', '21381,12', '13184', '20670', '22250', '38108', '27381', '4099,9', '7650', '8420', '5005,8', '20196', '26941', '25727', '6707', '15850', '56000', '5152', '10431', '6639', '33700', '16576,2', '19615', '13747', '23315', '26928', '17541', '24119', '9728', '15016', '18934', '26379', '7259', '23500', '23980', '11426', '27170', '6454,8', '41837', '24380', '8918', '10410', '4392', '19324', '33126', '3089', '14925', '9790', '11691', '23577', '8097', '15110', '15904', '5292', '10373', '17250', '20536', '10635', '62800', '15246', '8460', '16380', '29001', '7170', '8156', '16395', '9393', '14718', '19993,4', '29493', '10538', '7990', '9350', '22214,69', '37881', '9341', '5970', '13689', '34100', '15269', '9930', '17885', '21475', '3173', '13550', '15523', '6899', '3744', '11030', '41397', '4830', '15403,02', '3450', '31096', '17920', '4248', '25991', '11558', '9550', '4072', '3960', '3322', '14185', '10189', '12559', '10660', '15279', '18696', '17873,75', '32700', '29699', '6945', '16063', '5357', '7540', '50652,94', '98644', '5765', '17075', '21570', '16687', '14280', '14717', '23352', '9248', '10499', '21105', '4349', '18549', '7598', '27800', '3537', '4853', '13978', '18799', '4967', '3140', '34190', '18121', '23793', '56340', '12608', '4580', '19860', '30735', '5517', '4923', '15315', '11190', '12849', '9606', '18460', '2871', '4372,2', '27540', '3941', '41490', '2950', '4826', '23124', '24929', '14787', '22230', '21195', '3051', '17633', '21850', '12845', '16198', '25498', '3860', '27180', '12360', '13905', '14201', '13320', '3109', '2595', '11940', '13443', '5929,95', '12455', '29640', '32540', '15547', '10600', '6900', '17399,2', '22299', '52200', '19250', '39422', '7790', '18800', '12520', '16367', '24840', '7752', '10048', '24362', '23750', '5499', '3820', '15822', '71500', '19790', '33255', '33900', '6097,5', '25179', '5489', '7995', '27570', '8148', '10116', '13312', '4100', '8870', '25168', '25881', '17622', '19082,3', '23667', '18319', '20609', '17997', '2511,82', '25460', '3628', '20536,1', '7891', '74482', '4840', '27000', '71400', '16789,98', '18573', '16783', '17572,68', '21589,9', '24290', '18187', '47691', '10529', '25897,4', '28070', '13750', '24300', '18358', '2798', '7208', '25937', '24236', '5980', '33510', '33088,5', '35201', '15650', '4575', '5095', '6191', '22490', '12651', '14340', '7586', '22930', '21464', '2470', '5232', '9536', '4984', '4938', '3299', '16893', '17130', '22427', '15272', '35767,4', '21696', '30756', '25998', '5020', '35332', '34990,8', '3385', '63306', '16547,3', '22959', '6950,7', '17538', '17700', '8398,1', '2638', '99308', '15520', '7181', '9290,91', '11892', '7240', '9826', '6210', '82800', '29697', '17568,3', '24550', '6204', '7040,92', '21620', '14849', '21598', '10508', '5306', '26022', '14337', '22880', '10347', '10526', '15948', '16070', '5888', '18740,5', '25420', '3930,81', '2751', '27446', '5218', '10790', '11755', '5045', '2290,7', '35000', '25020', '40574', '18296', '4243', '4726', '10034', '40824', '31810', '9919', '13496', '4089', '24990', '8487', '33292', '32415', '35060', '16859', '20980', '30980', '5180', '28590', '13020', '23100', '27598', '6099', '93947', '4816', '10665', '22240', '5350', '27939', '3034', '11202,3', '9230,9', '11540', '72885,57', '23822', '14571', '3490', '31885', '11264,25', '3850,85', '8589', '6023,7', '10495', '13410', '11196', '31466', '15099', '79910', '25440', '17060', '4140,2', '26138', '27060', '17546', '3095', '15810', '10420', '28600', '7541', '9054', '17499', '14490', '22394', '21380', '3875', '12784', '29430', '20059', '21482', '10052', '22395', '18090', '17098,2', '15190,5', '4761', '15327', '13690', '10194', '64660', '21665', '10220', '10920', '3030', '20995', '18067', '3474', '23370', '25587', '9351', '62468', '6386', '29760', '2928', '28079,84', '16194', '19769', '11363,99', '6050', '7515', '2689', '6319', '3874', '5198', '30720', '13134', '5588', '9550,82', '23148', '2088', '4510', '19750', '28350', '20132', '6301', '12599', '10935', '12780', '5516', '18027', '12919', '5500', '6538', '14593', '16692', '23584', '19497', '12908', '16648', '3205', '5829', '6643', '10697', '23202', '25480', '4910', '26750', '24480', '89196', '11833', '22962', '21405', '2819', '8056', '33598', '31474', '31190', '21440', '8951', '7909', '7088', '13890', '25360', '11259', '2219', '32940', '22870', '9246', '13462', '3630', '5687', '6904', '12989', '13380,56', '18115', '5936,81', '3950', '26900', '5575', '24000', '10320', '24174', '34390', '23470', '7478', '5299', '10995', '25278,14', '15512', '21430', '3906', '28421', '3674', '11211', '17790', '3307', '61000', '19350', '14130', '9899,92', '16425', '10898', '11136', '6329', '38406', '4980', '16920', '5225', '18689', '37150', '22147', '10424,6', '29006', '7169', '19205', '11240', '40180', '9349,92', '4310', '25966', '3138', '6272', '12670', '11669', '16105', '8988', '6867', '6266', '8380', '5599', '7638', '19475', '11180', '23745', '14446,3', '15115', '22881', '16290', '42300', '18162', '12136', '19224', '3076', '8386', '9577,8', '12425', '27750', '27340', '12850', '17231', '34650', '9144', '26910', '8150', '10445', '32280', '35955', '3330', '8698,1', '15490', '6624', '14209', '4489', '39388', '8228', '61915', '7150', '3413', '3900', '3509', '20297', '26818', '7580', '6327', '27541', '6075', '6782', '17339', '8840', '28160', '4070', '31499', '5329', '25491', '14730', '17496', '10040', '13770', '24881', '5932', '21240', '13895', '3779', '11871', '4284', '9664,5', '3114', '16460', '25271', '7876', '6460', '18180', '34150', '27150', '9955', '21800', '7000', '4645', '18850', '21858', '50000', '22212', '16489,9', '18906', '10245', '4504', '3123', '4607', '17763', '21400', '5131', '10989', '6138', '3640', '4120', '28060', '11639', '17950', '2878', '21717,92', '16766', '25887', '13644', '16999', '3930', '8625', '6594', '13926', '12500', '23985', '35700', '2360', '3740', '14338', '6545', '10755', '16740', '14219', '21746', '10936', '4040', '11955', '13235', '25459,3', '6941', '11560', '12384', '21390', '6848', '7486,1', '44440', '16362', '21238', '28509', '18990', '13336', '32765', '29470', '10398', '70705,96', '45034', '37456', '17230', '3385,92', '7280', '4629', '9342', '13456,82', '5806', '11055', '20324,92', '3834', '10240', '4533', '7563', '20356', '9468', '29950', '13441', '5097', '21062', '3717,9', '15340', '12490', '11409', '24864', '38830', '11488', '17091,9', '7272', '3376,8', '14637', '5300,9', '14044', '6575', '39590', '7830', '7991', '16227', '4951', '7191', '5830', '17146', '15704', '14528', '10930,52', '24711', '16992', '8438', '9021', '18246', '29400', '4186', '9090', '10987', '8680', '43631', '24945', '2200', '34466,4', '8899', '13479', '3798,9', '23945', '9308', '16045,2', '45297', '11243', '4495', '18857', '23450', '17640', '17880', '10551', '21688', '4230', '6692', '19950', '29198', '17660', '10339', '20562,2', '3130', '29942', '9980', '11595', '27934', '38340', '15999', '32617', '37517', '5143', '15034', '2572', '14460', '9497', '22000', '6109', '20874', '13981,8', '5871', '9839', '12240', '45500', '27645', '9768', '89200', '6970', '37752', '3010', '18300', '69500', '20249', '27620', '6020', '10442', '58490', '8650', '11297', '20490', '11113', '5797', '12890,92', '5805', '18413', '4780', '7556', '16561', '21350', '11819', '2831,97', '15036', '6245', '50098', '13010,94', '35320', '10708', '16507', '13498', '2189', '23488', '15220', '21298', '6898', '13000', '11160', '6470', '13383', '13785', '5408', '15625', '14150', '17780', '16392', '96000', '5090', '13541', '9061', '22656', '32790,9', '21209', '19970', '12750', '24850', '6136,58', '21717', '2961', '9840', '6540', '26580', '8091', '5555', '4860', '17310', '6776', '12580', '29691', '15347', '10874', '23347', '5620', '22977', '10286', '45665', '3275', '7410', '3399', '13225', '7337', '18749', '16690', '21726', '37790', '2100', '26700', '23197', '16776', '6831', '20700', '19819', '26099', '10801', '4579', '2322', '15700', '7863', '21940', '23517', '12810,94', '35165', '7022,7', '23259', '21494', '18698', '3752,9', '12737', '17099', '12730', '7815', '81000', '25720', '12742', '5827', '16669', '21728', '20706', '7089', '27480', '23696', '5913', '13138', '8735', '11989', '15400', '97220', '46671', '83871', '6479', '44900', '24160', '26315', '8195', '10238', '13435', '24220', '14450', '9367', '94358', '13891,5', '31502', '8492', '11753', '24587', '41907', '19840,5', '51140', '12695', '4563', '29500', '26524', '18048', '7230', '13421', '26529', '29880', '10268', '3311', '22789', '39110', '11576', '2797', '3731', '3690', '27065', '35100', '14880', '18547', '13989', '21907', '14453', '7910', '18960', '17600', '6036', '14885', '18578', '18470', '6024', '25870', '19602', '22650', '11502', '6559', '2580', '24810', '16110', '28775', '4870', '12325', '12672', '10775', '4638', '32449', '10210', '20155', '7152', '16322', '4949', '3951', '12099,1', '23140', '8292', '32387', '12789', '10580', '9412', '22944', '14355', '23037', '13302', '12191', '8289', '10149', '25506,19', '19650', '25400', '29478', '13930', '58947', '16320', '10147', '5544', '30599', '33450', '12570', '6990', '12498', '29450', '3943', '22498', '24871', '7872', '20882', '4548', '27950', '6407,5', '13825', '23351', '14207,1', '22102', '9750', '15480', '5099', '27313', '46695', '8355', '14648', '14046', '5018', '9630', '16781', '5772', '30224', '16977', '2390', '3616', '4879,8', '11323', '9264,69', '51700,5', '9432', '7160', '15226', '27589', '6527', '16879', '7083,05', '19047', '8892', '72890', '6033', '15210', '3959', '4760', '6269', '12508,2', '16979', '6793', '11250', '30738', '29650', '5051', '46385', '10448', '10542', '22145,1', '21901', '8940', '12610', '28221', '20598', '6585', '2490', '31520', '6616', '11619,84', '28755', '8883', '11529', '7859', '17580', '13229', '5530', '21619', '22075', '5261', '2009', '11860', '4134,4', '16730', '10225', '33183,4', '23830', '10085,9', '10770', '12822', '8102,08', '9997', '4555', '33850', '20500', '18414', '10630', '21895', '4919', '4941', '26370', '11808', '12760', '28490', '25390,94', '30825', '13166', '10795', '16447', '2000', '21771', '11958', '29949,7', '16407', '4030', '20580', '10804', '12935', '9845', '9278', '19417', '9830', '27700', '23459', '12447', '13698', '8308,35', '7472', '26690', '7373', '6590', '5389', '36000', '11514', '8346', '7510', '10737', '14520', '13455', '13999', '14288', '8797', '17400', '6136', '18374', '23290', '3393', '11723,2', '21578', '20295', '20169', '7549,89', '8849', '19844', '14390', '13389', '12380', '31833', '12228', '22275', '4290,91', '33476', '3448', '10260', '3681', '6985', '74319', '14370', '2880', '6856', '18290', '18686', '12734', '34695', '16519', '44225', '3752', '9007', '13860', '31696', '12702', '8373', '26889', '43880', '62550', '15907', '23395', '7209', '3961', '21015', '4098', '29445', '18216', '53169', '10021', '13592', '19740', '7498,9', '14890', '38250', '6281', '85100', '14980', '5505', '11938', '19343', '22528', '18481', '4115', '10618', '11159', '6469', '12628,91', '26060', '20313', '16185', '9278,1', '17712', '4290', '20305', '23706', '7820', '16600', '5435', '42740', '4888', '42320', '27501', '5681', '28472', '7660,42', '3230', '23044', '25105,1', '23689', '22558', '6530', '7116', '16040', '13257', '17320', '16991', '11750', '7495', '8088', '15127,4', '8639', '9560', '22660', '28420', '19998', '13409', '9655,2', '6290', '24389', '3898,1', '19503', '61250', '35669', '15290', '8442', '23912', '19498', '12980', '3484', '11410', '7711', '28110', '3920', '22361', '10536', '22097', '19719', '21083', '5199', '21900', '12914', '11697,1', '9823', '18515,03', '16897', '6346', '9820', '31716', '4790', '20205', '8068', '12236', '7077', '9931', '26080', '41171', '19781', '5650', '29205', '16883', '22674', '28230', '3103,2', '18175', '22098', '13178', '20779', '12342', '35326', '4351', '14348', '20397', '10884', '21021,9', '9837', '17802', '10022', '7590,31', '30313', '12991,82', '4785', '28790', '4810', '3894', '6440', '22369', '10024', '5730', '22320', '78800', '24750', '8581', '8984', '11698', '4900', '26339', '9850', '6650', '29600', '36290', '25897', '6748', '17290', '44495', '3168', '4845', '9340', '28340', '7988', '6935', '34449', '4890,2', '7523', '16940', '9963', '40313', '22124', '10699', '22419', '21750', '3600', '14618', '13615', '4170', '29490', '22692,96', '10912', '12366', '21927', '6622', '2190,2', '27990,91', '6967', '48700', '17010', '14651', '12390', '17509', '16796', '8110', '38700', '5965', '18654', '6958,92', '32114', '14205', '34295', '13790', '15036,21', '4889', '10991', '46729', '26961', '9949', '5482,3', '21990', '17460', '9574', '8006,1', '23550', '26183,5', '47309', '19489,91', '67500', '18471', '9085', '3442', '7473', '5144', '7618', '7920', '54000', '5718', '7609,5', '20640', '31990', '75500', '21120', '26547,1', '23399,2', '98996', '19170', '17560', '18890', '3400', '9680', '3904,3', '2039', '27398', '24357', '14092', '21420', '4878', '9940', '4476', '6840', '8977', '27005', '19110', '9995', '3353', '12597', '26920', '34479', '12120', '10735', '11116', '6969', '14670', '42335', '17690', '28224', '6745', '11266', '26990', '14690', '23990,83', '3350', '13039', '5364', '16799,4', '13815', '11080', '15427', '16491', '29065', '16824', '21080', '28220', '15299', '26276', '29690', '14999', '16993', '13009', '14204', '27372', '7366', '5710', '9759,4', '30946,29', '6073', '78000', '42950', '30510', '33978,63', '18334', '11133', '16170', '2704', '23160', '24281', '3080', '9282', '2934', '2450', '6263', '19490', '6379', '15680', '5445', '7386,75', '16653', '44415', '3222', '18450,8', '26091', '16579', '5632', '18582', '26082', '6546', '6165', '20179', '22792', '4370', '10720', '18711,05', '17592', '5155', '23498', '17998', '8369', '29336,4', '7105', '6928', '10940', '78120', '12898', '25732,2', '21398', '14279', '3389', '17528', '73300', '32822', '29590', '27456', '7858', '7880', '21388', '3916', '23575', '7381', '6342', '3711', '18497', '3868', '26543', '5800', '19736', '10999', '9098', '22896', '22589', '4608', '10478', '5000', '26346', '8600', '5091', '31263', '10528,3', '16512', '17199', '16400', '27886', '6880', '5230', '5309', '11389', '16300', '14910', '14796', '16499', '16544', '13990,92', '5630', '16501', '24950', '28820', '12720', '11389,2', '13941', '7439', '9908', '29206', '5011', '15865,65', '6783', '20431', '6377', '2030', '15393', '9074', '21974', '5304', '7070', '4031', '15017', '17184', '21499', '24059', '6720', '12239', '21778', '22969', '8090', '11359', '42436', '2872', '4004', '5770', '20691', '12309', '12189', '13599', '11212', '30500', '18426', '5689', '7999', '24771', '6400', '20751', '25730', '10740', '20370', '14356', '26999,2', '3659,5', '3869', '16128', '38520', '10840', '9554', '14527', '49653', '22430', '18445', '2555', '39800', '15045', '13351', '15067', '15350', '31014', '11034', '8995', '84000', '16098', '47600', '16450', '8754', '5456', '27790', '8648', '6299,72', '29382', '9461,5', '14580', '11986', '7589', '23713', '15085', '11970', '25240', '4963', '10470', '28745', '37100', '7480', '9648', '15685', '13289', '19079', '18463', '27518', '11950', '15255', '9551', '14438', '6390', '7570', '23095', '18140', '17800', '14930', '6785', '20565', '23204', '19895', '37710', '97000', '14189', '8298', '18790', '21270', '24399', '7327', '18398', '4132,5', '9594', '4140', '19589', '4746', '36194', '3816', '10818', '29285', '20748', '6217', '13539,2', '21410', '6698,3', '33190', '14097', '8904', '14245', '28842', '25950', '6260', '14800', '7590', '9025', '22310', '10163', '13591', '3312', '14659,2', '12711', '19897,1', '11496', '57581', '35793', '14350', '3493', '6071', '2489,4', '5280', '20767', '2263', '23137', '23820', '36910', '8633,7', '6040', '2999', '3392', '15291', '5780', '21805', '2421,9', '3294', '16988', '4469', '30696', '33192', '11020', '17215', '6744', '19316', '4452,91', '5715', '5832', '5746', '14441', '14193', '39638', '27347', '2095', '25140', '17688', '25250', '19572,1', '12150', '7588', '8233,95', '14006', '7385', '6556', '8389,91', '17826', '7599', '5184', '33358,84', '27796', '17415', '4690', '6200', '31882', '18318', '6787,8', '4131', '50879,83', '3923', '7336,3', '9718', '13173', '9300', '12598,1', '37415', '4430', '3033,9', '49100', '45863', '17760', '5243', '24680', '80973', '7898', '17854', '26872', '9059,92', '6959', '24940', '26457', '7760', '4169', '11689', '13260', '5749', '4781', '18984', '87880', '19745', '17850', '22616', '18777', '27190', '2724', '8694', '50568', '10617', '3045', '21340', '3700', '14921', '36800', '4940', '9835', '8290', '11930', '6096,13', '33678,2', '40200', '7443', '9660', '18176', '7327,8', '22167,6', '14050', '7582', '10073', '8564', '26321', '25050', '7558', '18113', '25940', '6197', '16996', '2629,8', '15030', '24100,83', '10778', '29475', '17076,2', '15450', '5920', '15503', '22490,91', '23397', '42180', '5140', '19210', '7619', '18251', '4280', '17952', '15950', '9127', '61487', '25167', '3337', '16670', '22598,1', '27200', '8377', '6570', '20046', '35596', '16280', '7228,2', '16849', '23971', '20464', '18376', '8770', '5748,3', '42408', '19340', '19730', '25980', '8020', '18240', '16114', '25702', '20298', '11345', '6906', '6950', '21994', '20985,62', '13150', '7544', '20381', '13670', '5496', '11586', '30799', '18068', '17966', '2125', '3996,9', '23772,27', '13489,91', '11048', '17329,92', '8220', '19521', '6513', '2610', '8880', '21615', '8775', '8556', '16498', '119700', '15890', '6489', '21265', '34148', '21724', '34699', '11520', '9793', '7060', '19983', '4801', '13248', '12995', '4177', '20320', '9504', '21086', '39980', '5426', '11536', '10992', '15165', '16175', '10097', '17453', '22509', '18949', '39450', '7469', '13640', '6519', '4703', '2299', '12331', '11487', '24370', '8297', '10610', '12506', '13288', '12219', '2070', '12393', '26896', '19734', '15824', '7050', '5895', '28162', '20495', '22398', '11999', '10690', '7197', '20100', '23185', '34120', '10130', '24933', '17865', '8730', '10342', '13456', '31090', '4653', '35683', '11900', '6999,3', '23226', '6219', '2540', '7182', '10904', '22747,4', '11551', '6697', '5419', '5415', '20802', '39327,2', '8253', '4758', '9280', '8237', '35744', '7917', '33996', '3619', '33030', '34020', '20610', '19993', '78150', '19177', '11725', '29663', '5592', '9396', '30361', '4319', '24889', '10769', '60080', '19150', '10520', '10496', '5548', '7399', '7902', '15927', '28722', '3460', '17671,2', '14917', '10290', '4190', '3591', '2119', '62100', '8920', '7490', '4000', '5890', '6309', '9260', '25182,4', '27925', '3023,58', '24110', '32499', '30545', '8117', '87786', '6993', '21050', '39720', '5279', '4842', '19140', '21860', '12790', '10591', '15582', '12495', '34700', '27744', '13985', '9341,5', '16440', '22905', '8250', '27472', '24346', '6999,9', '26642', '42928', '8011', '29948', '25683', '5670', '20698,2', '15079,91', '17422', '25158', '3614', '9380', '11042', '5639', '2909', '6475', '26355', '6477', '17276', '40970', '14133', '7478,2', '80440', '31224', '14119', '11764', '9810', '13078', '9360', '7210', '14472', '3769', '6552', '8188,04', '13006', '18240,91', '29199', '5942', '4658', '26390', '20095', '18200', '11434', '17702', '4365', '27498', '14440', '17851', '13768', '11126', '14600', '19278', '11778', '4079', '35950', '3119', '14229', '24027', '2151', '7888', '5857', '6503', '21510', '88000', '20050', '11990', '21246', '3808', '9669', '32444', '13030', '8421', '4710', '5345', '22323', '5129', '3190', '21673', '5906', '6256,8', '3340', '3110', '10687', '17778', '26650', '8793', '21700', '4978', '25992', '14660', '25700', '15790', '21075', '25100', '4366', '2341', '15930', '4904', '5683', '17714', '14991', '19670', '16872,3', '36500', '25584', '4979', '15800', '21030', '4114', '7249', '4117,5', '27196,1', '20190', '43682', '26770', '6925', '19415', '5580', '21802', '27880', '3046', '21915', '27850', '6090', '50950', '30686', '22082', '9430,38', '6964', '33500', '2633', '23109', '17280', '17991', '22700', '3682', '9580', '25298', '20530', '4750', '5720', '20440', '17112', '3604', '4080', '19295', '27490', '16284', '46649', '27250', '5083', '11304', '2241', '9690', '31610', '3850', '12902', '15460', '13949', '3285', '19765', '11450,9', '4399', '14857', '10910', '14758', '19889,92', '43996', '35522', '3237', '31491', '8429', '4680', '9498', '9675', '14443', '31200', '20229', '29220', '5077', '14387', '10530', '7404', '4040,1', '16467', '4572', '3877', '17860', '17599', '18080', '16479', '8568', '23930', '23310', '17811', '9655', '29905', '18740', '5562', '11623', '22898', '19133', '7578', '9160', '9900', '24195', '29615', '12396', '5247', '22750', '25627', '6916', '12397', '14798', '4380', '20007', '17398,2', '7416', '18096', '25623', '9050', '14080', '17896', '19020', '22480', '17272', '42930', '11680', '2072,7', '26461', '7163', '11288', '12542', '12173', '69282', '12575', '11049', '29877,3', '10841', '12348', '7400', '15863', '25999', '18100', '9445', '5005', '2372', '9689', '8723', '11489,91', '15616', '17203', '39000', '21300', '2748', '14599', '12762', '18575,2', '20903,5', '12385', '33300', '7595', '24741', '30930', '9470', '17595', '55500', '21890', '35369,4', '9240', '31680', '28930', '5231', '4350', '5174', '34493', '6049', '27854', '13366', '6652', '5335', '7640', '21950', '5360', '32175', '7020', '9814', '22162', '18882', '19580', '8381', '34555', '35775', '3899', '11289', '4477', '14406', '16438', '7068', '17490', '7593', '24520', '43010', '12159', '31020', '14096', '8225', '21180', '10058,5', '2680', '24233', '18099', '12541', '21214', '3598', '14175', '11800', '18006', '12810', '13355', '22070', '6507', '33340', '30131', '5296', '19990', '15230', '14540,04', '10759', '8990,9', '6490,5', '17573', '18392,91', '23783', '28273', '5359', '6640', '22575', '3070', '5694', '16010', '13356', '26790', '29799', '11333', '11787', '20300', '31091', '6892', '24275', '29040', '17605', '9053', '2165,4', '4633', '7281,94', '20379,5', '7440', '20989', '6166', '12572', '10576', '12070', '11776', '7369,7', '10978', '13366,2', '5487', '7110', '15832', '21473', '23598', '14645', '15309', '5735,7', '22864', '20237', '22072', '6430', '11422', '29334', '30340', '81423', '9176', '12616', '6883', '56700', '17090', '27283', '23711', '4812', '20290', '9298', '17448', '24717', '7017', '9898', '87600', '11340', '3651', '58900', '10497', '31278', '41000', '12830', '5450', '34821', '5355', '17670', '14320', '28661', '23390', '28850', '8935', '6889', '23900', '6336', '19809', '12465', '13965', '16701', '14480', '4990', '8549,9', '50020', '20433', '27600', '14609', '11398', '4589', '5333', '8929', '2573', '16598', '24778', '53162', '12095', '16732', '23425', '8190', '19880', '93000', '6145', '14560', '6792', '16999,82', '21124', '4435', '21166', '39254', '82910', '8400', '13520', '6514', '6809', '10021,5', '74466', '14385', '11217', '7289', '39690', '2330', '11115', '12092', '36617', '3983', '17025', '4675', '16250', '7394', '3854', '17370', '6190', '7747', '7511', '7101', '33862', '14494', '31596,92', '7980', '3929', '21899,94', '9600', '11429', '3240', '10506,76', '11565', '7998', '11099', '22057', '20833', '18498', '2529,61', '25936', '17308', '17940', '9621', '8901', '2719,2', '17998,2', '4701,6', '3093', '5535', '4095', '16455', '7198', '79770', '12996', '12428,7', '10890', '79959', '18603', '9338', '5100', '2048', '3420', '25783', '26397', '7984', '6228', '10656', '24132', '26174', '16798,2', '4405', '17575', '19700', '12537', '5430', '22450', '26997', '18190', '8825', '24125', '14170', '6021', '23377', '12687', '10112,8', '9910', '28666', '10274', '24070', '16880', '99540', '21624', '6678', '16390', '6264', '17300', '61540', '22180', '6168', '2435', '3301', '18004', '2389', '6311', '8185', '22390', '86900', '27680', '3321', '15759', '7794', '3565', '17609', '12262', '5210', '23944', '3356', '19360', '8389', '23400', '17190', '3059', '14481', '18260', '19089', '11290', '29376', '6983', '2428,2', '11227', '4909', '17815', '20786', '10752', '2183', '28502', '10969', '10088', '3501', '18050', '18840', '17838', '13577', '18144', '8047', '8998', '7900', '17501', '36308', '2099', '32400', '15010', '3358', '15128', '23795', '27062', '20710', '17615', '21330', '3032', '5135', '11635', '30170', '3789', '26365,6', '6202', '7690', '3329', '34999', '9755', '16838', '11298', '4968', '18602', '17361,76', '31333', '99313', '11039', '3743', '7247', '26600', '10750', '10280', '37656', '19129', '69000', '20499', '9840,6', '19627', '6790', '6854', '21279', '11528', '15280', '10349', '19513', '23025', '3520,8', '7123', '7867', '8393', '3383', '15647', '19610', '5798', '10191', '26865', '7452,4', '29177', '3547,42', '14550', '19905', '10238,82', '49860', '17379', '6619', '16875', '9866', '17297,6', '59590', '9189', '23146', '14388,3', '3430', '16416', '46000', '12260', '3580', '15170', '2268', '29900', '29388', '18425', '15084', '4973', '14168', '6881', '29622', '5424', '5793,3', '37440', '11880', '6920', '5179', '32370', '81743,87', '23539', '18667', '2800,85', '8957', '23358', '4490', '6948', '18360', '4336,2', '27986', '21597', '19857', '13140', '43200', '11175', '8829', '3269', '7250', '14990,95', '12591', '16680', '3898', '6525', '4400', '56130', '2792', '11786,85', '10555', '4241', '6750', '41125,88', '8010', '7459,6', '13025', '7450', '5723', '22617', '3771', '7137', '19460', '3798', '12365,2', '23852', '12493', '11204', '21009', '18797', '20220', '3970', '3645', '3100', '74690', '7698', '8889', '7908', '41700', '29580', '13139', '4891', '16245', '13122', '6490', '4911', '87570', '10837', '19046', '25220', '28580', '7763', '33280', '11926', '11740', '29742', '22904', '47247', '11390', '35550', '21670', '21100', '6299,2', '60500', '20650', '13835', '25150', '9917', '7132', '6830', '24470', '7710', '19269', '5105,7', '3308', '3152', '20699,1', '6700', '13800', '4165', '70936,32', '24344', '4220', '4369', '8499', '6995', '9889', '9920', '5431,2', '37531', '8489', '5288', '21460', '10479', '5936', '28242', '24458', '6435', '14100', '13488', '14574', '11720', '29990', '30999', '10200', '2600', '9268', '14165', '28674', '14300', '36086', '10233', '4756,5', '2499', '2090', '13665', '9530', '3354', '11279', '31933', '29280', '27900', '5465,26', '3792,92', '5955', '12209,5', '14994,6', '12840', '22269', '23737', '31672', '37800', '21487', '19130', '16715', '6130', '12463', '12110', '29653', '10330', '29250', '14240', '11710', '18734', '28215', '8275', '12251', '19772', '4398', '19890', '17198', '12843', '18410', '9862', '18225', '13776', '14290', '17270', '11495', '23774', '22599', '2990', '15883', '31498', '6299', '56310', '17590', '24272', '22329,67', '15560', '14215', '22515', '28778,3', '18970', '15695', '9510', '9107', '23663', '10360', '9748', '15890,9', '12490,9', '14845', '28950', '51200', '13179', '3550', '6665', '6030', '10879', '13530', '10029,92', '6374,78', '10256,1', '20343', '8830', '7709', '5984', '3555', '13344', '14469', '33990', '2679', '11362', '7433', '8108', '11936', '39741', '5080', '9928', '17424', '19746', '6360', '17810,82', '13433', '10779', '18707,1', '12405', '22945', '3680', '4491', '50970', '12398', '14700', '17091', '10295', '5300', '3882', '7020,9', '14632', '22947', '6361', '13100', '7348,52', '15237,1', '5899', '16865', '25896', '16048', '75000', '21808', '5568', '19500', '6990,92', '13080', '6779', '12474', '6893,7', '4896', '3990', '7063', '18138', '5669', '6411,72', '24900', '18895', '26379,91', '6056', '7812', '2745,9', '10205,5', '13350', '13016', '11499', '30190', '16823', '7874', '16260', '3924', '17134', '6758', '11897', '11260', '4035,2', '21000', '9310', '28955', '22672', '16145', '2799', '2180', '14990', '12509,9', '9173,88', '6820', '2447', '6630', '10060', '30200', '3942', '30196', '4428,1', '14040', '7112', '9681,5', '12680', '19989', '8128', '8620', '16662', '6598', '31800', '8299', '4487,4', '28551', '3715', '5748', '11977', '21880', '23411', '15090', '25600', '10216', '10846', '23437', '18054', '10089', '7715', '18030', '59760', '19938', '19843', '37780', '16833', '84570', '2028,56', '3849', '19502', '4462', '4602', '5754', '19689', '12598,2', '10738,5', '10714', '7135', '15293', '13916', '7497', '26999', '7975', '29700', '16961,1', '4982,4', '5150', '12077', '15214', '7290', '9986', '4729', '37200', '27706', '17170', '13959', '19900', '17649', '23998', '5640', '41730', '14365', '9800', '2000,51', '2790', '6549,83', '40521', '12566', '15887', '21597,8', '5312', '16485', '4276', '11960', '22980', '16070,5', '19410', '9652', '7847', '22105', '6445', '6101', '8580', '39600', '7970', '8445', '8480', '9235', '7220', '29100', '8311,29', '14295', '9212', '14316', '13325', '27260', '6560', '25695', '21481', '23000', '37495,2', '4250', '14497', '14725', '19660', '25320', '24700', '15565,5', '18020', '20755', '3998', '6236', '3440', '16285', '14696', '17804', '7173', '2282', '8540', '7614', '21295', '12488,25', '35940', '5847', '4550', '15078', '10695,13', '21220', '7869,61', '30455', '22198,1', '15748', '6875', '20296', '23410', '25315', '22286', '5700', '13294', '13232,88', '7693', '4996,8', '13275', '21920', '23499', '18001,28', '7368', '32391', '4041,9', '24030', '5025', '20720', '20200', '12410', '3800', '5773', '14397', '27890', '13872', '5611', '58567', '16080', '22293', '21123', '19620', '24777', '3480', '7766', '3999', '8999', '3516', '11081,52', '18750', '15498', '17955', '5707,8', '3418,5', '22121,1', '37480', '11470', '8790', '14230', '14960', '8295', '22525', '43515', '15984', '37508', '6283', '3889', '11060', '17020', '83000', '10432', '36400', '5265', '22317', '19540', '18972', '4700', '10413', '7390', '31560', '16990', '11748,2', '2310', '5825', '4339', '3894,2', '20280', '8950', '18085', '7632', '18553', '24479', '25263', '6298,6', '12090', '20630', '14747,1', '19680', '6181,09', '2855', '23300', '24408', '6018,39', '2160', '39276', '9010', '27020', '10190', '17594', '18500', '3245', '19630', '6348', '4660', '8210', '28999', '23992', '8941', '8603', '84630', '36136', '4050', '3434', '28208', '19839', '2974,15', '7700', '9738', '21845', '6129', '26547', '17397', '10248,2', '28810', '5058', '8049', '48920', '15806', '11219', '20587', '4642', '11199', '60829', '11898', '11302', '25680', '19798', '23975', '15763', '10540', '17430', '17531', '29294', '23070,6', '11968', '30590,92', '5755', '42940', '21600', '12059,1', '40490,91', '11330', '20900', '23684', '7776', '23579', '4240', '16379', '49838', '19280', '34422', '24500', '22302', '22798', '18962', '19005', '24179', '9456', '21984,55', '2690', '16840', '8037', '9846', '23990', '14148', '19218', '10105', '16868', '21160', '4590,2', '9533', '4148', '16240', '10188', '4841', '6930', '7769', '17006', '12678', '18820', '30580', '16000', '22960', '2890', '7645', '16090', '12160', '12868', '3897', '6273', '3919', '25765', '7919', '8278', '47000', '6966', '46156', '13780', '4962', '3815', '13130', '21814', '7739', '16985', '14190', '12889', '12835', '16834', '3540,2', '16669,84', '23999', '5037', '8980', '4493', '3498', '23680', '2075', '3762', '18693', '82700,9', '10734', '17346', '3271,5', '30600', '2135,14', '5103', '15998', '8771', '26199', '12499', '3069,9', '45160', '13489', '77210', '9060', '11477', '5169', '8199', '23792', '23854', '11651', '15658', '41990', '8609,92', '46921', '17505', '4436', '11269', '17990', '15097', '20430', '7157', '22810', '2907', '6732', '24833', '49490', '19080', '16540', '3735', '17770', '6089', '15895', '23170', '4879', '14629', '22455', '11040', '17988', '19106', '13430', '17279,2', '13420', '6733', '8340', '22040', '28172', '10193', '19570', '4754', '5222', '14430', '25515', '4454', '4743,68', '5950', '6163', '22236', '39900', '3984', '13678', '5708', '4546', '19008', '24830', '5930', '15570', '6715,2', '11154', '16647', '18660', '3464', '7360', '15120', '16830', '7317', '9325', '16389', '18730', '12290,94', '4189', '5612', '19877', '3764', '6142', '23251', '34199', '15440', '3199', '5750', '14765', '15602,5', '19929', '14400', '17111', '4455', '3602', '12170', '20375', '8235', '32041', '6058,1', '2489', '18468', '21730', '5120', '12140', '14891', '18784', '5745,12', '7780', '13975', '3470', '21827', '12749', '27510', '8419', '14950', '16257', '24570', '65250', '6520', '17650', '9532', '18119', '12903', '4905', '27898', '6504', '18130', '14661', '8570', '35750', '5297', '9570', '30630', '6313', '25812,5', '29592', '4725', '3784', '5088', '12655', '37857,2', '20088', '12411', '4103', '5634', '11911', '4499', '24772', '41100', '4869,66', '31294', '8416', '27298', '10704', '7032', '20326', '28440', '22800', '8280', '24835', '13740', '43732,8', '5928,1', '4788', '12782', '35990', '14196', '4773', '41211', '7180,9', '26440', '26490', '10773', '35400', '4661', '9567', '6375', '13450', '21112', '3179', '5839', '26848', '7084', '13494', '5676', '10640', '16092', '8078', '11637', '19547', '25145,79', '40534', '58541', '5380', '23304,6', '13720', '5869', '22330', '13888', '22213', '9979', '2240', '4885', '13680', '13005', '4843', '17261', '17775', '4915', '8370', '30796', '7459', '53673', '84800', '13191', '7460', '12061', '7965', '9534', '2910', '15795', '19800', '19795', '27080', '3540', '15602', '15857', '6230', '13829', '4769', '30879,55', '8717', '3780', '12060', '15912', '3490,91', '16200', '15468', '6495', '13650', '32292', '13155', '10480', '19797,1', '3255', '12443', '9902', '17082', '18599', '31895,48', '20263', '6492', '8991', '45900', '12210', '21889,92', '19560', '11529,91', '7454', '5721', '8832', '65400', '7262', '11150', '15313', '28781', '8262', '23954', '19470', '8456', '13267', '18012', '5185', '7100', '8792', '23060', '14875', '9573', '40700', '32844', '4387', '10953', '21861', '7340', '7319', '10799', '28922', '4630', '21500', '29782', '24475', '23128', '8700', '24740', '11445', '3072', '10046', '4966', '3949,92', '35145', '88440', '9004', '14636', '17906', '3880', '6610', '33475', '8186', '11430', '12097', '22711,21', '5616,15', '18490,91', '9013', '7431', '4020', '37818', '14760', '14588', '21082', '12860', '7892', '4930', '2995', '12317', '20943', '28210', '9760', '20977', '29460', '30110', '15838', '17366', '8430', '50700', '39028', '23050', '6481,8', '19520', '51900', '7651', '17956', '8360', '19699', '27010', '17200', '5680', '16720', '21250', '13733', '11692', '15442', '8960', '9973', '20393', '10090', '16814', '2007', '7730', '13390', '2439', '16605', '54700', '2680,4', '4500', '5742', '30596', '19120', '30681', '3128,2', '6255,15', '8188', '4961', '3314', '34154', '26595', '7235', '52469,87', '13250', '20160', '25000', '17390', '15215', '38120', '9130', '13221', '18885', '24263', '2270', '10575', '30220', '22951', '10466', '21590', '26090', '8116', '10512', '13952,73', '13499', '15430', '6480', '8943', '84500', '17049', '10419', '5589', '13580', '17043', '9397', '33570', '35360', '19791', '2671,2', '8050', '24250', '87673', '16364', '5130', '6118', '5482', '16900', '12581,89', '51300', '2498', '32819', '6672', '4738', '37017', '5377', '26710', '71243', '10428', '20570', '5197', '5427', '9913', '8648,5', '19145', '5968', '9429', '30370', '19044', '32090', '28338', '20505', '17399,1', '14978', '26170', '7258', '33000', '4922', '16011', '38032', '7190', '28041', '17946,2', '31000', '4191', '11349', '6397', '6323', '10492', '7313', '4320', '7838', '9595', '6518', '20133', '10198', '5625', '10438', '4408', '10061', '41936', '9927', '21847', '28750', '6347', '15899', '6141,75', '15670', '17379,99', '16596', '5908', '5253', '13999,2', '33330', '3717', '22872', '11377', '7875', '28000', '5850', '12716', '19590', '7441', '43573', '10124', '14243', '22011', '9158', '4074', '28728', '20648', '26280', '13136', '4800', '8846', '2060', '6161', '4326', '17765', '5889', '8424', '4729,72', '26337,6', '22692', '4221', '17000', '8741', '4947', '60000', '6270', '11990,95', '3300', '28247', '3040', '33120', '9500', '15201', '7376', '18810', '9899', '21450', '77762', '5040', '23677', '25200', '10646,2', '11212,06', '34500', '22550', '25080', '28983', '22645', '3530', '20646', '3231', '88300', '15856', '12546', '22140', '18780', '8055', '41600', '9592', '22621', '38725', '28845', '12512', '19611', '5211', '16140', '8718,1', '4765', '3699', '86618', '8099', '25109', '6584', '17483', '18670', '19200', '21660', '2691,9', '14916', '20925', '16448', '8777,1', '13137', '7417,5', '29200', '11630', '3196', '5897', '6537', '17466', '11817', '6494', '42746', '39830', '37360', '17613', '13480', '15290,7', '8750', '4252', '25830', '4600', '13897', '4311', '22280', '5339', '8685', '12899', '25211', '15270', '27690', '7507', '6048', '4540', '15555', '15830', '25570', '7147', '16490', '2420', '4274', '4139', '4275', '19925', '3375', '12904', '23280', '6510', '16745', '3840', '25639', '31317', '17999', '13110', '24405,4', '8994', '5590', '15653', '22570', '73230', '15325', '17510', '8800', '49798,1', '16998', '18789', '14680', '3028', '10590', '19184', '6822', '10352', '29120', '4936', '9590', '8833', '2619', '3284', '11460', '5438', '7648', '4995', '17459', '38553', '9040', '9427', '6781', '38200', '8560', '5060', '11225', '20477', '27759', '31300', '6947', '14197', '12960', '2870', '2699', '14052', '20592', '15319', '11050', '17398,1', '25386', '12454', '35825', '5931,8', '16660', '9315', '16750', '5684', '20698', '4097', '56673', '10646', '13679', '4290,95', '7839', '22210', '28970', '26219', '22520', '20979', '8171', '5818,5', '4950', '7180', '10057', '17980', '2936', '14750', '3396', '39025', '24844', '19400', '17470', '3710', '11098,8', '29858', '19457', '10300', '4463', '18648', '11368', '19797', '19382', '17248', '10071', '7500', '23600', '15770', '31991', '24340', '47704', '7370', '17704', '3892', '46600', '17451', '27348', '5219', '31050', '3335', '8244', '8270', '9991', '28932', '18819', '5017,9', '9450', '15100,82', '4018', '9588', '45000', '20069,33', '22830', '30391', '65747', '4867', '28238', '30299', '16381', '14709', '4026,55', '35563', '9137', '16197', '7637,63', '4770', '27124', '15750', '7174,6', '10366', '9555', '5330', '5796', '9520', '25225', '11286', '10981,82', '40000', '14993', '28565', '24423', '3060', '12320', '3990,92', '26950', '15466', '15900', '14773', '23453', '10319', '22522', '10450', '32580', '24330', '5276', '24897', '15914', '24647', '28241', '17100', '21243', '13598', '13995', '26970,6', '5076', '4188', '29599', '9080', '9749', '5660', '19665', '13165', '14391', '13205', '23440', '6991', '12389', '23989', '2873', '16613', '5160', '3067', '9287', '12424', '17220', '8067', '19189', '17324', '8498', '13699', '11768', '32750', '33660', '25350', '10939', '14330', '19040', '12232', '7183', '31588', '5695', '21588', '8689', '7551', '7597', '16060', '30418', '36490', '38810', '13669', '3749', '5994', '28460', '3528', '20939', '11699', '11315', '33725', '3410', '24506', '14257,91', '17240', '9994', '2350', '3185', '21938', '23608', '8285', '50177', '17930', '11724', '5573', '3014', '4375', '5195', '21146,4', '15784', '60300', '6381', '5220', '12198', '23268', '16590', '27970', '10971', '15360', '53000', '30100', '6865', '16616', '17500', '13157', '9301', '32846', '12725', '7610', '47223', '6903', '4930,95', '4918', '11335', '23216', '14047', '4059', '33821', '8080', '8470', '18286', '9452,97', '4244', '9417', '3535', '5751', '6680', '4596', '21999', '12639', '38244', '23331', '12645', '17593', '3031', '34766', '10359', '15599', '60888', '12280', '21930', '6461', '33830', '20252', '10925', '13993', '7860', '63657', '4005', '38718', '63000', '5353,5', '23485', '6457', '7019', '12283', '33920', '29345', '10354', '9416', '13492', '3786', '3549', '22635', '22413', '12284', '30428', '5661', '9250', '5016', '8666', '12999', '14380', '22194', '6873', '6658', '5449', '11798', '7604', '26489', '8057', '16950', '6190,92', '6004', '17080', '18899', '15027', '13686', '13558', '20850', '9614', '18760,75', '12959', '19045', '9180', '5912', '15552', '4180', '18491', '9525', '8406', '4983', '11230', '17995', '7729', '30837', '11296', '14399', '3305', '4314', '58670', '2245', '6998', '6330', '13990', '16214', '23920', '15245', '10115', '2223', '70300', '12213', '10782', '15389', '3515', '18550', '5436', '23490', '10917', '6893', '6939', '42689', '13321', '31806', '6199', '18280', '12560,01', '16657', '5119', '16890', '5995', '9349', '9295', '18719', '29612', '5824', '13848', '5391', '10019', '6746', '10850', '26084', '18999,2', '6116', '5015', '21919', '17895', '9842', '21355', '9034', '18495', '11943', '16700', '4110', '76360', '11980', '10805', '11750,31', '12450', '28469', '12138', '22139', '30960', '14872', '11590', '21505', '24630', '6247,8', '9950', '20690', '6380', '6189,3', '7750', '5579', '26837', '15806,5', '13447', '6470,9', '26695,8', '3239', '18898', '8715', '4499,2', '18600', '18891', '13315', '2430', '19290', '9899,1', '31694', '45110', '14090', '10525,01', '2990,92', '28879', '20009', '11188,14', '56964,6', '22252', '9733', '18990,5', '11850', '7493', '27096', '9224', '13465', '98042', '6578', '25713', '44560', '27166', '41400', '5405', '9923', '28991', '13689,86', '67795', '18105', '22640', '5399', '15035', '27673', '19883', '6999', '23950', '4195', '6690', '19977', '10803,84', '53091', '15192', '5337', '6130,8', '8064', '14398', '13623', '8180', '27550', '37305', '4505', '4270', '26485', '8549', '10964', '13934', '7660', '3099', '3490,92', '27670', '4099', '19626', '20820,44', '20450', '9774', '22756', '9971,3', '22440', '51685', '4527', '30820', '28517', '19959', '18022', '17420', '11876', '2248', '14493', '28990,91', '31015', '36177', '4485', '5533', '7899', '18624', '7199', '20443', '18720', '3328', '25904', '13570', '7200', '39780', '6529', '23516,84', '9972', '13265', '10140', '7639', '13040', '5988', '22458', '16100', '7470', '17263', '18880', '3215', '19240', '2635', '31500', '11666', '5175', '11751', '11270', '23758', '41470', '4330', '8160', '7342', '27493', '76738', '17388', '12799', '14144', '25800', '4679', '8669', '23661', '17631', '5989', '2259,9', '26560', '13793', '5170', '7680', '7905', '24059,83', '28530', '5837', '9198', '16112', '13063', '4799', '20856', '10471', '17981,9', '16063,29', '14495,35', '4450', '36570', '14461', '13507', '3935', '5298,1', '21349', '16860', '18370', '28900', '32335', '6373', '59224', '10151', '39240', '2650', '28280', '10439', '4827', '7677', '6060', '17325', '5242,3', '17450', '15199', '16263', '15100', '9215', '21197', '13287', '9890', '13400', '4872', '18045', '46540', '5790', '28450', '17298', '5550', '17503', '6919', '10830', '37235', '20272', '3150', '83106', '10322', '21948', '40037', '36267', '30198', '18630', '10706', '13710', '7649', '23390,91', '14098,1', '5221', '10860', '26510', '8360,92', '20079', '2333', '5019', '9484', '6699', '6653', '10671', '27270', '4890', '26890', '3895', '10080', '34740', '10780', '13880', '22460', '20277', '11996', '18690', '16743', '8878', '13649', '25989', '3876', '33470', '11519,1', '8300', '24519', '7002', '20928', '15629', '10418', '7850', '2366', '5900', '15299,9', '15889', '6730', '42000', '93400', '29680', '6338', '7829', '13180', '8912', '10548', '5712', '20091', '26085', '15780', '7499', '20800', '4617', '12024', '4838', '8448', '61290', '9710', '8508', '9447', '13921,52', '24495', '8100', '38850', '18669,2', '19060', '6828', '14169,1', '11148', '10350', '11135', '7740', '4921', '70360', '7189,6', '27895', '13050', '45750', '11718,94', '3316', '43376', '32990', '18566', '90590', '3035', '13170', '12057', '8102', '13920', '8550', '21650', '25900', '20475', '13386', '7940', '4401', '15292', '15639', '14292', '4240,91', '10628', '13624', '18380', '10852', '26479', '29461,34', '30390', '25983', '9460', '23882', '7655', '7999,1', '37466', '31646', '3061,45', '5977', '16190', '30656', '15518', '24690', '32310', '24085', '22536', '7530', '27428', '29677', '4168,8', '27736', '21936', '12848', '20480', '9730', '13469', '32970', '26054', '3654', '22799', '5410', '7713', '21630', '82162', '20000', '11655', '10680', '21470', '24490', '6719', '10287', '4440', '38570', '33320', '15020', '27234', '29933,4', '6039', '8597', '26800', '34396', '28170', '8532', '3143', '16020', '15363', '27370', '19464', '19446', '23126', '4858', '4850', '6835', '12300', '20390', '4939', '2599,2', '5757,1', '10668', '26395', '15300', '11601', '20310', '12100', '10463', '21866', '20601', '28016', '23595', '5240', '6125', '23660', '25500', '11590,92', '6580', '20789', '19991', '17045', '6539', '12820', '21408', '5050', '49500', '7632,92', '28428', '94300', '7878', '19710', '4082', '6088', '14500', '6500', '21038', '5789', '19789', '12549,07', '15621', '3560', '4570', '13200', '8149', '12944', '5988,46', '37350', '18590', '44697', '9219', '21592', '4620', '16470', '21498', '23720', '32576,5', '2152', '6910', '10150', '5369', '11093', '6182', '18896', '22627', '16039', '58640', '4641', '26049', '5340', '32770', '6561,9', '19143', '6739', '5960', '24061', '13719', '10001', '23166', '14724', '6170', '7560', '9365', '86041', '52295', '51370', '8658', '11690', '14781', '2691', '8905', '24675,85', '18692', '10570', '3675', '13195', '6625', '11170', '20338', '9444', '11665', '7642', '18060', '10170', '22500', '47789', '17789,2', '5941', '10855', '14610', '31990,6', '4041', '26462', '9400', '23451', '6069', '7430', '9230', '14530', '19782', '98136', '11416', '9116', '21328', '9031', '35960', '5645', '31587', '30300', '16371', '3310', '36900', '7207', '23382', '13115', '10609,2', '13259', '16615', '32706', '37000', '19567', '29390', '21762', '21646', '10880', '7667', '18150', '20575', '9719', '10670', '10422', '6796', '22970', '11450', '11700', '6766,4', '11690,91', '24466', '10599', '6279', '5990', '6550', '5030', '10250', '34195', '3424', '69188', '4640', '31250', '5285', '12590', '37400', '10523', '6600', '20636,91', '32593', '17630', '6323,33', '26051', '6452', '2495', '6250', '6455', '12910', '24420', '2889', '4745', '8034,2', '3159', '26055', '21536', '4118', '4470', '20862', '20498,1', '29694', '8530', '24301', '12511', '15070', '32900', '19260', '10789', '16629', '26499', '7035', '23480', '15575', '8453', '10648', '10900', '3542', '14820', '27470', '7770', '7625', '4535', '4730', '9045', '3748', '14688', '38880', '19770', '5390', '22497', '27110', '5488', '28971', '14060', '6246', '5879', '16880,91', '18458', '10230', '6561', '18270', '16571', '4362', '10020', '21480', '89344', '31850', '23230', '32450', '17820', '30940', '19854', '4160', '7978', '29380', '2190', '24280', '7090', '8399', '12472', '51000', '11385', '36701', '46960', '7630', '9395', '21881', '14942', '7229', '3419', '2569', '8869', '16169', '26875', '4741', '4200', '3160', '13500', '7448', '3039', '6419,78', '4619', '19980', '25625', '24459', '8491,82', '28098', '19674', '9042', '41498', '32293', '18868', '6415', '63320', '30603', '5162', '20653', '23009', '8170', '12890', '7581', '12554', '10659', '39627', '7799', '3107,7', '22990', '6364', '8641', '3006', '6365', '19976', '4047', '41994', '50940', '20910', '18650', '3250', '4498', '10331', '8341', '5347', '24120', '12421', '3411', '30430', '32200', '16278', '19960', '6834', '16551', '6289', '7040', '9150', '22618', '4789,92', '27342,5', '22225', '12328', '2899', '5807', '90747,9', '19542', '23147', '28933', '9153', '32490', '5409', '16420', '45438', '27369', '18217', '25840', '14489,2', '44760', '7307', '28055', '5282', '11648', '6682', '22860', '30826', '13301', '27877', '34806', '116360', '26450', '11765', '5207', '39160', '8755', '20792', '70245', '25599', '28042', '20750', '12480', '2559', '23890', '15771', '34720', '7348', '19420', '16704', '23825', '2940', '7621', '92951', '2255,4', '5478', '38300', '24867', '12800', '20863', '7937', '14331', '12650', '21190', '11440', '17520', '5865', '19085', '45280', '57209', '4410', '21850,94', '15380', '25137', '23154', '5600', '34391', '5794', '8490,92', '14658', '14250', '14065', '12896', '7299', '76730', '7362', '30372', '2045', '4986', '8617', '10265', '8198', '24923', '5840', '18340', '13399', '14360', '23391', '16150', '31490', '5268,47', '23220', '11392', '4775', '15556', '22264', '16760', '10025', '17875', '15065', '15756', '8886', '99000', '33800', '13087', '4403', '16160', '7471', '7981', '7279', '6887', '15859', '4064', '3885', '5239', '22080', '18304', '2238', '6679', '3001', '5228', '24017', '4522', '8606', '16222', '8440', '4670', '11138', '2720', '27980', '24605', '40581', '17558', '4500,95', '8844', '11935', '17530', '9629', '19550', '21840', '5267', '6797', '29386', '17050', '15102', '24400', '12200', '26820', '23840', '9000', '11677', '26410', '5938', '17173', '7547,2', '4935', '22085', '20129', '62000', '32076', '14160', '14487', '5351', '7357', '27846', '41500', '14396', '11760', '4328,1', '12510', '27088', '20250', '3599', '8410', '34618', '13989,4', '14766', '18361', '4209,2', '31404', '3339', '5064', '5910', '19439', '7849', '10231', '6819', '31415', '4727', '12048', '7498', '16736', '15372', '4107', '10381,5', '2500', '9702', '12330', '7982', '18239', '11498', '6975', '12631', '7755', '35600', '5268', '22324', '17720', '26020', '23749,76', '10490', '7488', '18517,1', '17561,8', '18224', '11446', '12696', '5043', '13846', '6007', '22600', '5835', '14678', '5570', '13889', '12417', '9809', '8856', '8767', '6180', '17360', '20852', '12884', '12199', '25820', '19037,2', '10467,1', '21128', '14611', '9097', '10075', '12950', '17556', '8515', '3886', '16265', '4475', '12451', '6843', '26720', '8547', '13653', '16399', '9443', '18209', '19011', '35500', '7703,1', '4580,92', '20400', '21479', '14947', '3987', '21980', '7455', '14089', '7011', '6870', '36350', '23850', '4492', '56518', '13600', '28715', '5370', '21347', '2412', '3048', '8970', '14361', '31726', '13208', '39020', '18964', '4590', '50400', '20820,2', '11325', '31040', '35520', '15610', '7687', '12412', '7353', '9907,2', '13227,7', '34916', '15690', '15336', '20931', '9546', '36980', '12249', '7505', '35529', '24190', '21204', '19593', '21097', '7870', '8725', '22987', '4212,8', '29830', '32100', '10853', '23130', '11489', '13695', '49743', '13630', '18197', '32907,5', '14780', '34641', '25227', '33760', '14083', '28090', '20063', '15844', '9695', '7115', '19728', '18980', '16620', '3238', '5759', '48900', '15033', '14094', '2158', '22900', '11195', '15164', '15640', '14521', '30050', '20883', '18185', '5510', '3909', '20658,2', '11394', '44030', '2243,7', '31875,3', '4644', '22499', '20510', '4329', '8500', '5085', '3545', '17795', '3499', '17193', '15980', '15354', '16480', '3639', '9924', '9985', '22015', '14619', '13388', '20699', '13318', '6146', '5724,2', '26774', '4299', '48580', '4647', '3489', '7151', '4624', '26538', '16519,02', '13769,2', '21170', '5388', '6220', '18204', '51750', '13240', '9448', '37450', '13727', '18390', '50678', '6596', '15540', '6193', '19924', '12870', '10248', '16765', '31900', '8780', '23152', '33100', '24328', '12339', '11600', '7947', '35142', '9140', '11910', '14498', '7605', '15359', '23399', '16949', '8041', '7516', '14840', '54105', '12000', '11899', '9405', '28431', '26330', '14646', '20659', '37500', '6696', '20355', '8303', '5966,7', '16418', '4534', '23406', '5820', '31509', '10390', '7611', '3879,17', '3415', '5508', '3646', '20040', '13284', '10374', '26760', '9120', '2224,8', '10128,8', '9217', '12290', '35097,66', '12044', '27449', '17439', '11456', '46881', '23511', '15147', '8070', '18170', '15789', '21809', '3270', '16800', '27780', '11510', '40500', '5010', '5699', '5999', '14140', '4150', '19760', '16272', '13326,5', '31221', '16621', '14639', '29471', '10323', '9622,77', '19116', '3289', '14860', '80000', '13950', '16370', '25540', '61600', '12593,7', '16358', '8978', '15003', '19999', '7798', '8204', '48600', '13280', '11730', '3296', '11779', '3547', '25280', '13748', '9791', '14770', '20053', '23110', '6127', '14927,83', '17316', '89018', '6858', '14284', '8675', '31910', '5400', '11795', '19050', '35450', '13448', '30597', '7695', '28861', '7128', '17752', '4809', '7092', '11376', '16099', '3510', '10972', '2104', '16220', '2165,16', '5531,8', '14321', '6491', '4598,6', '6660', '20330', '3720', '29094', '16980', '13112', '15920', '27962', '4542', '38800', '3722', '6997', '14596', '3170', '21810', '26115', '18171', '24270', '81612', '8860', '23797', '18399', '48572', '4010', '9538', '25290', '65000', '11615,4', '5606', '21999,2', '15897', '8858,8', '18269', '14989', '31702', '35943', '9799', '2120', '6651', '19850', '11192', '16199,2', '24795', '30990', '4768', '11916', '50330', '23647', '22469', '25641', '77860', '30344', '22482', '22781', '7310', '16634,5', '27149', '10950', '9545', '16324', '12310,91', '11650', '10000', '22560', '14570', '11383', '18825', '9398', '19430', '12350', '67950', '7080', '19920', '5404', '3149', '7513', '9496', '25299', '2930', '6757', '4740', '25180', '9650', '89640', '13197', '7350', '25317', '52509', '37880', '27040', '5602', '8979', '8544', '35530', '5921', '10647', '3718', '29012', '5448', '4135', '11790', '4999', '12427,1', '6070', '22221', '9858', '19254', '30422', '17432', '4042', '22770', '8330', '8788', '12460', '18206', '9880', '6839', '22263', '8490', '8900', '7187', '41210', '5089', '12700', '16850', '17888', '29000', '9420', '10693', '10672', '11830', '21200', '13300,91', '16045', '22150', '9576', '16500', '24223', '2590', '18598', '27070', '13021', '6502', '25313', '6247', '18881', '2844', '7189', '10539', '91536', '5440', '6599', '5398', '10447', '56277', '8396', '9996', '35992', '14949', '9654', '3187', '34804', '11877', '6282', '18538', '11021', '21187', '21685', '8322,77', '45672', '11490', '29997,24', '13001', '11853', '3195,9', '17089,9', '20645', '18220', '15615', '16989,92', '24103', '19375', '9095', '24035,5', '22110', '14013', '19591,36', '3890', '44290', '5738', '8857', '23030', '10100', '3276', '10990,91', '15696', '16141', '5778', '94330', '6429', '17869', '15975', '5860', '6741', '7395', '21550', '53499', '5877', '22188', '14625', '13148', '5852', '13590', '5799', '4611', '9464', '26000', '6080', '9540', '13841', '10960', '5110', '28641', '16820', '30350', '28700', '3538', '6562', '90200', '24260', '17960', '34499,2', '7745', '28557', '7107', '19600', '8744', '32935', '4920', '14669', '2957', '6201', '19301', '8720', '24131', '21865', '12797', '96200', '30673', '23389', '2947', '21690', '21943', '26658,9', '26120', '12945', '10655', '10310', '18782,2', '23040', '11395', '3145', '8595', '7676', '48800', '11293', '7422', '20698,1', '8230', '29944', '29980', '8098', '15160', '7380', '3730', '32800', '10430', '28594', '16002', '11796', '19608', '40080', '6517', '27448', '11685', '22999', '8350', '11310', '9069', '9729', '7302', '5432', '5706', '10675', '4835', '4048', '17273', '10338', '11500', '6278', '15619', '18400', '27637', '14456', '12265', '4389', '3141', '10980', '22761', '29970', '13326', '56899', '14035', '7895', '27012', '20180', '6150', '4508', '30420', '79200', '15720,91', '28684', '12019', '16948', '8651', '25492', '14620', '7810', '25640', '12710', '9199', '6960', '4952', '16298', '11598', '49000', '34905', '9227', '14744', '11954', '16635', '4998', '12600', '28341', '52561', '13310', '4212,9', '4820', '16910', '13700', '9956', '21740', '18580', '4212', '5799,2', '6237,03', '23940', '13230', '37016', '29052', '12900', '12435', '13940', '21216', '11799', '3360', '21286', '12829', '30471', '6119', '7824', '23320', '9526', '6647', '2400', '14795', '19597', '3745', '20520', '2970', '12755', '26555', '17367', '14110', '21320', '3398', '14976', '18997', '27500', '8652', '9430', '4880', '24599', '6396', '27990', '73306', '4576,5', '33881', '16428', '10970', '8806', '26034', '6380,91', '13641,3', '18530', '19235', '7749', '23475', '7787', '6522', '7166', '11920', '4599', '11646', '20679', '4262', '4420', '20960', '22590', '28116', '13193', '5031', '5607', '7030', '4292', '8690', '6035', '3405', '32955', '6370', '20880', '10585', '7144', '17910', '3200', '17789', '7047', '30615', '29788', '13278', '7066', '13820', '25574', '13948,2', '12833', '11966', '8390', '83194', '76550', '12246', '5848', '23057', '13491', '4899', '9263', '19035', '7204', '20590', '24465', '3380', '6350', '5740', '10400', '17970', '9813', '18725', '23735', '14848', '19083', '16785', '7291,85', '11466', '21721,1', '21218', '48000', '77000', '15739', '9855', '3128', '6850', '34891', '16550', '9440', '24552', '17350', '10584', '4720', '19886', '18198', '33459', '8432', '15470', '16330', '25508', '24640', '12050', '29789,91', '75424', '10490,91', '41132', '3050', '49227', '32481,83', '13495', '4386', '12636', '52250', '4804', '39500', '26817', '10730', '17839,92', '26960', '5745', '4021', '29234', '13921,36', '32850', '20350', '3195', '28410', '24314', '66504', '26100', '19440', '5560', '20113', '59629', '3701', '9876', '16030', '9170', '22488', '7335', '21154', '2520', '9670', '25780', '24130', '17750', '17545', '11396', '24962', '44879', '29707', '23790', '5775', '13899', '16733', '21985', '4210', '5610', '7224', '9825', '24752', '9798', '4366,8', '70047', '29975', '22920', '7885', '2440', '29661', '24760', '9970', '3500', '11660,93', '14410', '14570,01', '4852', '76300', '17549', '6288', '16995', '8529', '6918,34', '25785', '3390', '5898', '11085', '10910,6', '8630', '18710', '12557', '18040', '11189', '14030', '10990,94', '30697', '6186,7', '6462', '18510', '7098', '12400', '21870', '26547,3', '31790', '8762', '28417', '16698', '35640', '17540', '8241', '8785', '76000', '23690,91', '22047', '30925', '16530', '9389', '10650', '4928,96', '13728', '19482', '10114', '5870', '22356', '10820', '13882,92', '13360', '22195', '30918', '41451', '16218', '5232,2', '9989', '14866', '5931', '22940', '17425', '3750', '4090', '3188', '5768', '13536', '6139', '3799', '8890', '13792', '11350', '5250', '17140', '13302,83', '19187', '19720', '21496', '40756', '27905', '5940', '9596', '10315', '62700', '24199', '24721', '4260', '12598', '13365', '17610', '24450', '42228', '14510', '5078', '3703', '9477', '18499', '38408', '3407', '27714', '17251', '18592', '18615', '7908,1', '22955', '8619', '3359', '9276', '7997', '15727', '5817', '24600', '32500', '31538', '19245', '25454', '21042', '33097', '25829,1', '92000', '5922', '5455,8', '16398', '59009', '8598', '3617', '4672', '3879', '53400', '4497', '4268', '4293', '88312', '3663', '20060', '28258', '93890', '12315', '9241', '27922', '27816', '5260', '33344', '5346', '20225', '11995', '4239', '22803', '4300', '13900', '3883', '23121', '4281', '15820', '17039,91', '5149', '11670', '27820', '27599', '55174', '24015', '5055', '18049', '10870', '16436', '11070', '97026', '10525', '12940', '13998', '13527', '4185', '6597', '26596', '36805', '26871', '9371', '32000', '10010', '4735', '3015,2', '18329', '18450', '16449', '6297', '23700', '11025', '20409', '15740', '8140', '9879', '31792', '3570', '7349', '24682', '23094', '15705', '30520', '24239', '9030', '14310', '28800', '15730', '6698', '21520', '84558', '3824', '13216', '38000', '20561', '13688', '28026', '11317', '12998', '22848', '8745', '4207', '15096', '14644', '9019', '4777', '2800', '2730', '19748', '54738', '5366', '16848', '14854', '24295', '40900', '10968', '6100', '10938', '5494', '4109', '4744', '12434', '4986,5', '20143', '5520', '7425', '2300', '10435', '9586', '21207', '2900', '6181', '8517', '22300', '5614', '32348', '57593', '25146', '6393', '11303', '9259', '21060', '11308', '34335', '55000', '14948', '5290', '11223', '26730', '3590', '15600', '10505,5', '11727', '12713', '21658', '8990', '17863', '5320', '9891', '3134', '40499', '32938', '63271', '30230', '11200', '23625', '4480', '18668', '35035,2', '11674', '26590', '12304', '32525', '15910', '22244', '10446', '32914,31', '18913', '7857', '2514', '27795', '13298', '5949', '74650', '8874', '9960', '26708', '23688', '22670', '17097', '66680', '6712', '21312', '16882', '21586', '13290', '7285', '11236', '18000', '16107', '78550', '8132', '9515', '15500', '8435', '17340', '12318', '21784', '3980', '4312', '27560', '6543', '9679', '16065', '9988', '12206', '15190', '15247', '10616,4', '18855', '2089', '12872', '41170', '2305,8', '3429', '21382', '17648', '21710', '37640,77', '7788', '12906', '7509', '10864', '15121', '18632', '14005', '10757', '4060', '8644', '28308', '9769', '2065,5', '29898', '22890', '5757', '5328', '17347', '7300', '3636,9', '12948', '6295', '4345', '10631', '20826', '8917', '16189', '4290,9', '12132', '15216,06', '15843', '8169,55', '24283', '12690', '40110', '4807', '64500', '64670', '11391', '24858', '6662', '13490', '12220', '3870', '12310', '18389', '8604', '4671', '9892', '21654', '18560', '14994', '15880', '5397', '15398', '23393', '13671', '9610', '7514', '23108', '24112', '5761,9', '9370', '4021,92', '16005', '29075', '4704', '11526', '22168', '31070', '5855', '6093', '5238', '29070', '12708', '19622', '5295', '26400', '11672', '24198,2', '2979', '16450,71', '2399', '4217', '9345', '2578', '12290,9', '10417', '18999', '3737,6', '91168', '15745', '34000', '13887,68', '20715', '75581', '12012', '7741', '26500', '17716', '4767', '2975', '15040', '21780', '2490,92', '2879', '17254', '15367', '21989', '8948', '24768', '18143', '45952', '9977', '11842', '3387', '11000', '9754', '33111', '3497', '11400', '6726,1', '11405', '40480', '3180', '4595', '3348', '17040', '5070', '44690', '8221', '4673', '12953', '5880', '30197', '34990', '16975', '12597,3', '11428', '70500', '5690', '10767', '19169', '32975,3', '5840,5', '2998', '41021', '73996', '15598', '25081,98', '79679', '7240,5', '5310', '11571', '18210', '25330', '10174', '10700', '58500', '29295', '29443', '12195', '44100', '6300', '11077', '18074', '15940', '8129', '6703', '16520', '7420', '6620', '23650', '33400', '23530', '5736,6', '3541', '9117', '9801', '25855', '8835', '6770', '18610', '24145', '53364', '35580,91', '15435', '13843', '18643', '6450', '28890', '23103', '9647', '11642,3', '24003', '14328', '27769', '8543', '13438,3', '15150', '3117', '16627', '8450', '19230', '23478', '21704', '5577', '15788', '22410', '23760', '35787', '12640', '7559', '3861', '4488', '29630', '16691', '5200', '8906', '8025', '5594', '5636', '25760', '4315', '13847', '78400', '3940', '61920', '37437,66', '25490', '4056', '16081', '11769', '18849', '17073', '6944', '13635', '20770', '25447', '18350', '83407', '17901', '39865', '7848', '18940', '35900', '24580', '3668', '19805', '7550', '19000', '5525', '25899', '25538', '23784', '12803,4', '65629,5', '22090', '40084', '7539', '11063', '7620', '37560', '88555', '19820', '36730', '10785', '20753', '27686,2', '26461,91', '28059,81', '4257', '25749', '13960', '10340', '35598', '3377', '13709', '4390,91', '2881', '14940', '19390', '17624', '26329', '8850', '38778,01', '31730,91', '15250', '23365', '22561', '72000', '21490', '10998', '15732', '27617,1', '4130', '30060', '17697', '42669', '7236', '18490', '19341,2', '22927', '17911', '25960', '3690,92', '10740,64', '19100', '2250', '30627', '8638', '13402', '6838', '2850', '15638', '17550', '11151', '4683', '27580', '36527', '4199', '5301', '31060', '25260', '16960', '22850', '26641', '24983', '18535', '4650', '20424', '13734', '28402', '17162', '4297', '6780,95', '5384', '45820', '11090', '14449', '13190', '14020', '3729', '19529', '11949', '7890', '28945', '32508,2', '13566', '44000', '19930', '34200', '20268', '9538,9', '26150', '31580', '3690,82', '20086', '22307', '4969', '3790', '11295', '4994', '12289', '13392', '27995', '10800', '36260', '22400', '3770', '8076', '25406', '16317', '15390', '3320', '90000', '14270', '22950', '42135', '28294', '35610', '13300', '15098', '21595', '19099', '3492', '6756', '4228', '7452', '8184', '2676', '5472', '11687', '9296', '6780', '8047,1', '16312', '4674', '20140', '28899', '8459', '6496,1', '13730', '31255', '22662', '11370', '7800', '26232', '6890', '8699', '17529,91', '5997', '7713,42', '27450', '6860', '30800', '21760', '2745', '11480', '3955', '23865', '29875', '12347', '34162', '7600', '26380', '15725', '31400', '12470', '27740', '4610', '13018,1', '5504', '2421', '3137', '14965', '4242', '9990,91', '25122', '3801', '8381,5', '38070', '4752', '7334', '26260', '4882', '60720', '30590', '21580', '13830', '24047', '6740', '11749', '8398', '18700', '18330', '13010', '11455', '12818', '47900', '30031', '18338', '13463', '32670,79', '23200', '74700', '7315', '3750,91', '19899', '5937', '31817,2', '3033', '21237', '6345', '13120', '10361', '14177', '6749', '71740', '20583', '16189,4', '6567', '20660', '100000', '2599', '5963', '6420', '18649', '11620', '2457', '5128', '25343', '11300', '10566', '7120', '10990,92', '70410', '8910', '17150', '9804', '20992,78', '4964', '17840', '6205', '18599,4', '5987', '18440', '15370', '4525', '4689', '6340', '4934', '22160', '20644', '13850', '12530', '4652', '30325', '17842', '18230', '31484,1', '85270', '15496', '12972', '6885', '8405', '13460', '2860', '14891,92', '16773', '16244,9', '13141', '5287', '22100', '3090', '43950', '4898', '15875', '13324', '3280', '19940', '6399', '3865', '14698', '14847', '7130', '10423', '8240', '63700', '10440', '19320', '14199', '5270', '9375', '27248', '8879', '35670', '13490,2', '12514', '14206', '9467', '38625', '10854', '25631', '14900', '16650', '16199', '2620', '16649', '7968', '2781', '5294', '10560', '5176,8', '30951', '6721', '3063', '6120', '3670', '26550', '32650', '3548', '6103', '4858,1', '22428', '6789', '5665', '2570', '9270', '4122', '3725', '11550', '17110', '6876', '9700', '3848', '27810', '25898', '24970', '3370', '8038', '25068,94', '10348', '21280', '14590', '10169', '9169', '62240', '16191', '7407', '10605', '24949,09', '6979', '15755', '78390', '8200', '29300', '12038', '10262,2', '13992', '10791', '22192', '13199', '26989', '13440', '21640', '11247', '6280', '14349', '13563', '8320', '7682', '96490', '13922', '15041', '14004', '4581,87', '94720', '18861', '28050', '4458', '4908', '8120', '13060', '16591', '6984', '3199,2', '9983', '4413', '15960', '22200', '30920', '13910', '71600', '20179,3', '4428', '10550', '44660', '7201', '4077', '20540', '29266', '16780', '12518,5', '24980', '12211', '7039', '21506', '27781', '14470', '26430', '14522', '29790', '11194,06', '9390', '8536', '8698', '3892,2', '25300'}\n",
      "\n",
      "\n",
      "==========\n",
      "FST_PAYMENT\n",
      "{'1099', '3595', '293', '2952', '2647', '3214', '13790', '3660', '421', '575,2', '1000,95', '3698', '1077', '11924', '1250', '638', '16350', '7776', '1390', '2347', '120', '1899,9', '1999,2', '1615', '2210', '2916', '24500', '3078', '3822', '3969', '13519', '2247', '2665', '9574', '3872', '4027', '33694', '1219', '2690', '772,3', '5352', '3245,95', '9000', '738', '26410', '979', '3442', '960', '915', '1996', '7845', '2096', '2649', '2173', '2222', '4390', '5718', '772', '4935', '1745', '48210', '75500', '1800,2', '10500', '46832', '1661', '1651', '481,8', '1072', '16000', '40664', '2613', '3599', '1691,6', '1680', '7547,8', '2890', '938', '2749', '3400', '582', '2039', '2410', '6641', '855,9', '633', '727', '3357', '3187,74', '2186', '2150', '3186', '1796,94', '1373', '4476', '3339', '6000', '2698,89', '339', '1103', '3086', '2697', '8688,09', '13772,82', '3975', '9472', '3815', '982', '11116', '440', '44963', '1547', '1111', '810', '2500', '14190', '1690', '1921', '26565', '5760', '618', '1046', '249', '15000', '4708', '6975', '930', '927', '1620', '2532', '3910', '1369', '918', '2383', '3374', '759', '1337', '3498', '3350', '2271', '4358', '780,1', '2696', '2394', '875', '11080', '29032', '690', '567', '283', '6007', '778', '861', '1556,8', '837,91', '3846', '1102', '2340', '7950', '544', '1516', '247,2', '2763', '1240', '737', '5710', '5985', '21094', '44500', '3209', '21648', '9425', '1899,8', '1175', '4346', '9457', '965', '25089', '3735', '3995', '9480', '1703', '3830', '3080', '3097,8', '2934', '783', '2450', '6174', '2660', '1680,82', '1200,2', '2135', '60245', '15680', '1573', '1442', '3264', '439', '1813', '555,2', '860', '10136', '2835', '375,2', '5950', '1395', '8945', '54929', '570', '7670', '1290', '777', '3984', '779', '4590', '6532', '5708', '1820,94', '10098', '197', '4370', '1112', '2230', '5155', '6800', '965,92', '2999,6', '1776', '1501', '8', '424', '684', '729', '304', '9325', '1477', '5246,5', '508,5', '6320', '560', '3810', '11221,5', '60432', '1915', '2213', '29590', '3220', '10397', '10637,7', '7880', '3916', '2115', '2328', '1107', '1820', '27350', '1495', '377', '49356', '3711', '5750', '2803', '2199,95', '606,2', '9695', '311', '11754', '1883', '5800', '2253', '1660', '3126', '2204', '1331', '4455', '3602', '1499', '20890', '2050', '1281', '5000', '2358', '5120', '3092', '75570', '2419', '1045', '758', '1039', '4953', '612', '499', '2014', '1509', '1231', '3650', '6326', '1280', '400', '3511', '3470', '16400', '1823', '6325', '10557', '3252', '623', '616', '8500', '376,21', '3223', '3545', '3499', '50500', '5305', '2175', '9418', '2887', '9570', '638,7', '10227,2', '11890', '11076', '10026', '9200', '2955', '1420', '530', '24800', '2030', '4499', '1508', '2112', '1500,2', '455', '14200', '11548', '1935', '4647', '1256', '3489', '34492', '6000,1', '2149', '1394', '2019', '1987', '5038,1', '1070', '2985', '1258', '5784', '5540', '23800', '7082', '3658', '571', '10725', '4788', '409', '3318,4', '1200', '518', '388', '667', '1565', '1257', '19924', '6400', '4846,96', '2702', '1005', '541', '9663', '1431', '524', '3288', '3575', '2260', '9020', '1418', '2437', '11600', '5361', '929', '744', '2615', '1500,5', '2237', '2555', '1064,2', '10516', '4267', '1999,94', '1982', '330', '862', '9979', '48052,1', '1491', '1108', '12000', '2240', '3657', '2863', '8164', '573', '730', '6115', '4184', '2352', '1210', '1912', '14990,94', '14806', '449,1', '855', '3000', '1041', '239', '5820', '2910', '2000,6', '859', '652', '2055', '12144,42', '3415', '554', '1956', '7480', '3391', '3621,7', '3780', '3439', '3198', '1248', '460', '6495', '13650', '3787', '2935', '39487', '2700,75', '1152', '12044', '1568', '1814', '7795', '470', '2810', '627', '1071', '6785', '1363', '2375,68', '2980', '1178', '4806', '6646', '818', '799', '2192', '2110', '1059', '3270', '14000', '8000', '2700', '2380', '880', '5010', '5999', '1719', '1297', '52182', '1266', '1123', '1694', '1649', '5812', '1841,91', '3449', '2547', '430', '4746', '720,2', '15000,4', '18375', '2625', '5726,3', '7100', '3765', '475', '3774', '599,95', '2028', '6509', '5445,92', '16000,1', '1635', '6217', '6240', '1819', '4387', '3318', '5703', '1760', '3277', '323,25', '2228', '4697', '7590', '7124', '2467', '1489', '2198', '21500', '990', '903', '635', '8640', '3055', '834', '8700', '3169', '1574,1', '640', '732', '2493', '1000,92', '2414', '1050,92', '2395', '51127', '643,7', '3880', '6610', '2294', '345,3', '6127', '18900', '853', '2958', '514', '1291', '4235', '2455', '745', '6257', '10008', '1300', '5400', '2263', '1899,1', '5234', '4020', '1051', '7128', '1920', '14760', '10619', '2027,7', '2409', '4809', '522,4', '1695', '628', '2413', '2299,8', '752', '5844', '420', '5145', '8820', '3392', '728', '3510', '2004', '2553', '3000,95', '3609', '2031', '2830', '3294', '1497', '8751', '30000', '3520', '9699,69', '160', '11020', '1805', '9254', '6491', '272', '4395', '5746', '1132', '962', '6844', '2095', '4948', '3760', '565', '3720', '775', '1973', '465', '6160', '9096', '292,2', '7531', '1830', '1722', '1026', '1806', '38800', '10090', '281', '2007', '159', '337', '4690', '6200', '2500,4', '936', '305,1', '715', '1948,92', '3170', '660', '553', '4500', '3290', '1933', '7945', '558', '4335', '2159', '9300', '3538,92', '299,92', '3000,2', '1289', '22097,99', '4430', '1847', '65000', '1580', '825', '10695', '366', '2588', '2729', '25000', '3172', '5248,91', '9445,95', '2331', '11689', '4768', '4000,5', '1015', '1115', '5000,8', '1330', '2270', '1116', '365', '1557', '26090', '10950', '4743', '1831', '498,6', '2911', '10512', '1717', '1312', '677,5', '10000', '3045', '6480', '3700', '1865', '0,92', '1899', '1876', '4197', '699', '14221', '9490', '13580', '839', '19430', '1254', '1124', '7080', '2926,4', '2348,8', '5130', '7836', '3135', '1780', '3084', '631', '3149', '2930', '2567', '1575', '2498', '711', '6603', '9411', '4798', '6777', '7350', '1229', '677,3', '1247', '1135', '4360', '1567', '384', '3688', '3569', '6820,45', '2375', '10467', '653', '1500,92', '10000,2', '1047,82', '5000,91', '5140', '49038', '4280', '1686', '750', '62250', '3426', '1598', '2915', '691', '31000', '920', '1364', '586', '765', '804,5', '8900', '4000,91', '2349,6', '20235', '538', '1561', '2832', '3337', '6323', '1995', '1519', '4053', '12700', '1784,81', '814,2', '943', '1126', '4320', '921', '4245', '10095', '3610', '3795', '1055', '2220', '755', '2997', '46500', '256,2', '20550', '16500', '1955', '15670', '2590', '342', '1379', '2011', '5631', '1310,62', '8082', '279', '5460', '6950', '5023', '3717', '5226,9', '13670', '1048', '3454', '28000', '419', '353', '5850', '1961', '18152', '485,2', '490', '11762,27', '1121', '9871', '5440', '2130', '2125', '9996', '556,2', '19521', '2610', '3266', '6513', '516', '1087', '389', '2740', '2750', '1200,8', '767', '3000,4', '4800', '1430', '2060', '567,3', '4348', '11490', '1260', '488', '1588', '1004,2', '5814', '1018', '2472,5', '457', '11292', '10041', '17000', '6995,92', '9793', '868,83', '2508', '3297', '20645', '3907', '2510', '473', '1399,7', '3300', '4177', '1850', '9500', '2170', '10431', '3463', '7519', '712', '4139,36', '1348', '9016', '1841', '1885', '1383', '1103,85', '1543,5', '7259', '10097', '5000,87', '10100', '1559', '1674', '5387', '2530', '3718,2', '675', '2674', '1725', '985', '1270', '8734', '2062,5', '1340', '1671', '375', '1365', '6519', '1595', '1500', '1512', '4536', '549', '2040', '9790', '988', '60360', '3763', '7764', '1788', '1216', '7395', '337,1', '1013', '4523', '2614', '2857', '550', '525', '1740', '6151', '3363', '592', '7170', '2070', '648', '8099', '418', '4268,72', '1700', '687', '26000', '7990', '463,2', '1493', '4289', '1634', '3538', '713', '2369', '2578,8', '5002', '3687,5', '364', '16481', '362', '3677', '828', '3173', '704', '4653', '11900', '16668,82', '3650,1', '250', '13818', '5075,84', '8750', '4830', '838', '3450', '1393', '6445,86', '1704', '1693', '4600', '5437', '9550', '2540', '435', '3960', '4198', '629', '925', '4340', '1053', '1730', '8328', '2947', '7507', '4823', '2499,8', '6945', '1380', '36330', '2052', '14786', '30660', '2420', '4274', '1195', '1563', '1320', '390', '48800', '3619', '238', '1700,92', '3976,32', '3840', '4318', '2698,93', '2811', '2047', '2668', '2370', '29080,92', '1515', '2437,5', '2098', '3730', '9922', '3120', '973', '9661,66', '15939', '9248', '50442', '539,09', '1490', '8800', '858', '774', '15701', '4319', '10729', '5998', '971', '3537', '620', '9568', '2323', '3028', '1204', '3235', '5902', '4048', '3140', '3284', '4190', '11500', '0,95', '5705', '5667', '18400', '1894', '1700,95', '1525', '4000', '5890', '4995', '230,3', '2384', '3997', '4275,2', '4580', '9040', '10980', '1008', '1384', '4546,8', '1457', '5517', '1887', '4565', '5767', '8117', '5060', '13395', '658', '8263', '269,1', '31350', '5279', '610', '1958', '9784', '4138', '15886', '2485', '669,3', '2950', '16515', '2870', '3829,6', '323', '2287', '6933', '2988', '8250', '392', '2398', '500', '2290', '2000,9', '868', '7520', '2500,2', '16750', '5670', '3568', '748', '10465', '2595', '1093', '942', '2517', '12600', '1259', '2080', '1235', '4820', '6900', '9272', '13700', '4364', '601', '360', '2564', '1000,89', '868,42', '18800', '350', '5108', '734', '850', '12520', '6398', '4950', '4011', '5148', '1488', '1999,8', '3360', '326', '5499', '1159', '10162', '949', '2400', '3710', '3745', '4567', '14440', '1082', '2970', '659', '1385', '8000,91', '1517', '11382', '740', '680', '7995', '383', '2710', '7500', '3398', '3119', '700,83', '1099,9', '13526', '2151', '4100', '723', '955', '6396', '11990', '1597', '4444', '2387', '2457,9', '2840', '1845', '827', '3335', '2285', '9991', '3678', '1737', '849', '3340', '4587', '1500,95', '1591', '1139', '4018', '3110', '45000', '2869,9', '4978', '27000', '710', '2365', '1648,5', '4770', '2231', '10270', '1368', '888', '1710', '9520', '1381', '2283', '54470', '1417', '446,88', '2989', '40000', '8816', '870', '503', '13750', '217,5', '1158', '2798', '3060', '1201', '7964', '6370', '552', '15900', '596', '5980', '749', '1284', '371', '1129', '413', '309', '3200', '5095', '22399', '11597', '830', '2454', '513', '5580', '1058', '138', '3534', '1370', '7586', '5660', '2470', '1609', '2901', '8390', '41774', '790', '10527', '3299', '1150', '250,6', '1824', '1215', '1453', '3064', '4393', '7174,87', '1610', '21696', '4750', '786', '947', '276', '878', '3380', '4080', '3385', '10400', '32750', '2006', '10000,1', '3162,71', '1273', '1922', '950', '393', '813', '1091', '2293', '2241', '7240', '1534', '3850', '873', '6832', '3260', '2549', '3666,2', '4399', '5038', '10460', '1089', '200', '4720', '4925', '13539', '4680', '9498', '3410', '948', '2350', '742', '496', '17930', '495', '3050', '1528', '509', '3014', '1829', '10723', '981', '1864', '1650', '18080', '19355', '16070', '1313', '20595', '1828', '1608', '0', '2751', '2920', '542,2', '5045', '5562', '3749,74', '2574', '3195', '431', '17500', '950,92', '35000', '3304', '594', '9900', '3319,7', '1340,92', '977', '413,1', '12335', '5560', '6399,9', '2999,9', '4000,9', '2698', '2015', '3597', '795', '2316', '2538', '705', '63219', '2520', '10489,92', '5350', '4739', '1243', '1333', '2067', '672', '3416', '7400', '3298,92', '480', '1361', '432', '54910', '1952', '1399', '2372', '2200,91', '3490', '2805', '833', '1392', '4210', '437', '5610', '4005', '3100,1', '2703', '479,8', '2440', '3334', '1994', '4980,91', '835', '7019', '456', '1207', '1272', '3500', '1809', '315', '2000,85', '11660', '1703,2', '787', '1978', '3183', '824', '1161', '358,1', '3095', '39910', '5786', '10502', '5928', '9250', '848', '1290,6', '1264', '1469', '7541', '4350', '1143', '12999', '519', '1050,33', '3390', '599', '2937', '1438', '18589', '7020', '1310', '54080', '2155', '225', '4343', '7811', '2444', '2429', '1708,5', '439,95', '4983,2', '3899', '3030', '1233,2', '1800', '1011', '2459', '1360,92', '1888', '1632', '4916', '729,1', '10650', '639', '1610,4', '3502', '2680', '1020', '469', '1016', '1251', '6050', '2689', '645', '515', '3874', '17669', '5198', '1199', '8342,38', '11230', '352', '11800', '655', '8349', '13360', '1295', '2515', '2088', '4510', '798', '2245', '19990', '1140', '1639', '1153,5', '301', '363,5', '3750', '2223', '10759', '1075', '1849', '13536', '5500', '900,2', '459', '539', '894', '4194,3', '1815', '811', '1392,4', '444,1', '5250', '2010', '1278', '2690,92', '1238', '1897', '3158', '3205', '1999', '677', '1012', '16657', '5940', '4910', '553,6', '18719', '1481', '468', '4260', '9824', '17610', '7110', '299', '3703', '2758', '451', '1889', '1092', '4434', '58800', '508', '6196', '739', '448,9', '1584', '2327', '546', '3257,04', '2571', '2848', '1705,5', '2753', '1605', '4110', '910', '3359', '1522', '3679', '5817', '2962,1', '1287', '1034', '2013', '9964', '6000,95', '2861', '2632', '1498', '588', '299,1', '1338', '1871,75', '770', '799,5', '2200,05', '2335', '3950', '1530', '4045', '9898', '24000', '7750', '349', '1329', '2780', '1261', '10981', '9108', '980', '11233', '1779', '10497', '3293', '41000', '5450', '651', '1376', '6837', '1001,7', '4081', '4352,37', '515,85', '23900', '3620', '5260', '478', '2430', '316', '4239', '1160', '4300', '4990', '995', '816', '457,5', '1408', '10007', '2325', '1265', '1701', '5081', '1829,43', '11024', '2166', '1739,69', '391,2', '41580', '16484', '280', '34923', '10525', '2092,94', '780', '8190', '527', '4185', '934', '987', '1366,05', '4521', '1245', '8125', '446,05', '1877', '7243', '2403', '1980', '2458', '449', '6923', '2482,84', '1479', '9047', '2765', '600', '1629', '4310', '3138', '2688,69', '589', '33590', '3435', '8400', '4091', '6297', '23700', '1670,69', '1328', '6999', '1625', '720', '637,3', '1590', '1422,6', '2136', '697', '1202', '14385', '10425', '2330', '7882', '1768', '3570', '681', '8064', '4675', '16250', '9685', '8180', '3216', '7747', '296,8', '1030', '2720', '28800', '300', '4270', '1700,91', '3137,9', '7660', '370', '5461,11', '797', '532', '3099', '1735', '3330', '1360', '38000', '340', '8650,48', '10394,5', '1098', '1080', '1306', '205', '3087', '9600', '2500,8', '3240', '1666', '2655', '3639,5', '644', '3413', '2248', '1837', '2046', '14640', '51929', '3900', '999', '1255', '1100', '2800', '891', '2535', '3000,68', '1950', '8008', '2730', '2849', '436', '1854', '6075', '649', '3794', '19958', '6782', '3739', '3194', '3328', '2981', '7200', '5366', '4095', '2480', '2685', '10140', '820', '6100', '2469', '405', '2504', '1305', '16100', '5100', '2320', '747', '1246', '4986,5', '426', '3779', '3114', '2300', '3215', '6228', '2772,13', '48156,13', '1389,8', '2635', '6000,81', '372', '2900', '676', '25405', '510', '5722,21', '608', '9955', '9639', '7000', '1778', '2778', '9910', '4330', '2643', '1900', '332', '3605', '18850', '50000', '1171', '2586', '458', '55000', '2415', '999,2', '4504', '857', '1835', '815', '1544', '11027', '3590', '2346', '4715', '1434', '5989', '15600', '5170', '334', '3901', '6138', '1222', '1750', '1842', '1648', '5320', '3134', '2878', '709', '4944', '11200', '1702', '1182', '507', '4480', '5210', '4450', '1510', '1770', '3930', '3935', '8389', '43359', '404,1', '2584', '1371', '1198', '1002', '3202', '1176', '7567', '12500', '956', '840', '2360', '3740', '5245', '1979', '2650', '260', '2315', '1213', '2514', '2865', '2289', '5244', '1679', '4040', '9039', '1069', '2420,1', '2900,5', '9960', '50', '11560', '3346', '2596', '1350', '11673', '1997', '842', '2784', '605', '3585', '2000,4', '6712', '2338', '8998', '4712', '7900', '1484', '4850,8', '4597', '1880', '847', '13400', '2608', '2099', '1065', '695,2', '1596', '3482', '5790', '5550', '2616', '687,7', '634,2', '557', '14935', '18000', '1090', '276,6', '4287', '686', '4629', '16293', '15500', '140000', '3150', '685', '887', '10240', '3100,3', '511', '415', '1050', '3980', '583', '6543', '1969', '5097', '464', '10706', '1455', '2132', '682', '2864', '1936', '1004', '11337', '1535', '636', '1411', '1834', '1141', '1341', '6575', '564', '912', '130', '1179,6', '2333', '1179', '5001,9', '306', '2506', '10750', '6699', '2368', '3236', '1239', '4060', '8688', '42906', '11528', '450', '3148', '899', '2405,69', '1458', '1255,41', '7300', '8680', '5838', '2466', '905', '2020', '2235', '8300', '5375', '40100', '1765', '9068', '2157', '2200', '1689', '674', '718', '2686', '650,95', '1786,9', '2025', '5900', '776', '6730', '863', '6929', '998', '576', '3870', '2877', '3020', '5521', '2816', '1374', '7270', '562', '54870', '3249', '4230', '19950', '407', '2888', '379', '2324', '400,2', '3130', '5074', '7631', '1322,9', '480,9', '1268', '54230', '1892', '7623,3', '1063', '468,1', '2487', '429', '6387', '8100', '1433', '3165', '9037', '5143', '889', '630', '1840', '760', '2572', '695', '433', '2001', '386', '1870', '1869', '688', '1482', '22000', '1914', '2640', '10350', '1029,41', '7740', '4490', '6948', '2399', '3010', '1035', '53530', '1294', '11044', '5192', '46300', '2355', '2716', '7707', '2244', '13140', '8650', '34000', '606', '7095', '4155', '885', '3364', '5177', '7049', '2560', '12012', '7250', '2651', '2975', '2587', '2688', '2879', '4400', '1460', '10015', '3685', '706', '4992', '399', '1895', '696', '958', '1751', '646,5', '3037', '1812', '5752', '2044', '6750', '4593', '542', '11000', '9754', '845,5', '13000', '3104', '4263', '1125', '1821', '9838', '10177', '3180', '756', '34698,2', '1452', '2233', '3023', '213', '1225', '561', '598', '1148', '2022', '1093,4', '1507', '3970', '3800,2', '2477', '269', '28257', '2634', '1924', '5690', '9730', '3100', '4666', '3159,86', '4817', '1253,7', '150', '2885', '6357', '757', '344,8', '2998', '2845', '3228', '9190', '1901', '2796', '545', '2667', '3275', '7142', '10700', '7298', '21839', '1747', '2954', '2500,95', '2140', '1293', '6300', '20000', '2062', '626', '2100', '368', '1081', '2167', '7447', '2898', '1138', '3049', '7420', '2016', '2356', '4498,91', '2528', '1939', '4579', '1355', '5044', '1106', '832', '3136', '40758', '1095', '19556', '5609', '1910', '2077', '8710', '1873', '1326', '3369', '1009', '1514', '1249,95', '1959', '14753', '8450', '290', '8618', '4815', '1244,7', '663', '5999,2', '18588', '10515', '6835', '555', '2286', '3043', '12300', '1424', '6700', '369', '8499', '7669', '416', '754', '5200', '12358', '2770', '7883', '933', '1042', '19151', '5594', '1940', '694,2', '6670', '2708', '12100', '1799', '1110', '4315', '1619', '5744,5', '845', '1717,92', '7125', '14100', '1599', '5240', '5373', '10267', '10200', '2598', '285', '2460', '1279,9', '1275', '2600', '7794,92', '319', '5050', '2199', '363', '2499', '29500', '2090', '8274', '7230', '1524', '746', '602', '485', '9530', '5811', '10434', '2278', '4082', '890', '7464', '14500', '3311', '1172', '1556', '690,95', '1656', '6500', '3899,95', '2797', '7550', '6541', '19000', '13200', '1279', '1874,7', '1785', '2084', '13807', '1049', '952', '10330', '177', '531', '540', '1520', '2630', '2000,22', '12251', '4398', '524,85', '1025', '2923', '1405', '2580', '1560', '13776', '29860', '2121', '2990', '2152', '4870', '50642', '6910', '2142', '1226', '4206,8', '3265', '395', '223', '2259', '2852', '1486', '4949', '5340', '1992', '1866,6', '3108', '3333', '14940', '3550', '2078', '1975', '1991', '1327', '9770', '1781,83', '2218', '25400', '1653', '1398', '10147', '3555', '754,2', '1351', '320', '60488', '3444', '6990', '4225,44', '100', '528,5', '3943', '5761', '381', '9444', '1010', '24500,03', '10', '1545', '9664', '22500', '2250', '780,3', '1810', '9750', '2846', '2850', '7805', '874', '4145', '2079,02', '1890', '3680', '877', '168', '2826', '247', '9400', '880,2', '4199', '1884', '1566', '2390', '5300', '2605', '1000,1', '1000,67', '3495', '7528', '1056', '1196', '373', '2776', '6410', '940', '694', '13100', '2807', '4650', '930,91', '5899', '808', '39804', '969,8', '3414', '6554', '11090', '3310', '1480', '911', '50120', '25131,59', '7207', '4632', '1800,1', '1876,25', '1989', '6625,16', '49582', '559', '2024', '1036', '7816', '2949,7', '359', '941', '1474,3', '3990', '510,9', '3371', '5000,1', '240,6', '1440', '18735', '1000,2', '14220', '10205,5', '3015', '529', '580', '1504', '3790', '251,1', '5383,85', '2178', '8940', '1040', '3451', '7659,01', '422,1', '2490', '10800', '5990', '5022', '22400', '1570', '6550', '21000', '9391', '615', '2568', '3500,6', '1549', '1399,8', '2522', '4640', '3320', '2197', '2000,92', '1450', '7822', '3105', '1898', '11860', '2180', '6957', '13300', '1503', '6600', '781', '964', '6820', '1928', '1487', '799,92', '3492', '1555', '1808', '7185', '2017', '7034', '2495', '7165', '2760', '574', '380', '12910', '5472', '1752', '489', '3159', '1463', '9528', '4919', '2206', '6598', '13203', '410', '1786', '9288', '869', '1400', '1855', '1168', '7800', '53541', '6890', '10795', '619', '1670', '7148,1', '2597', '443', '2000', '1962', '1546', '4030', '9267', '2745', '764', '700', '1302', '2775', '9845', '1949', '3003,3', '1640', '1726', '1715', '3073,8', '367', '336', '7600', '1288', '75606', '726', '4851', '5504', '1533', '3469', '6010,3', '1860,9', '854', '268', '2299,9', '387', '1880,2', '2550', '1790', '4742', '1721', '637,4', '622', '4353', '1185', '1860', '10900', '2279', '1374,88', '4752', '970', '10933', '725', '5150', '1475', '1445', '1731', '176', '669', '1299', '1343', '8923', '1094', '10000,92', '2345', '485,8', '900', '39400', '2000,79', '9788', '1957', '800', '867', '2000,7', '1252', '1462', '5735', '10230', '7913', '535', '4937', '9800', '656', '1271', '5036', '1767', '3448', '2790', '1267', '10260', '4517', '517', '2076', '2880', '1181', '953', '2754', '3000,91', '1400,95', '4160', '2190', '1318', '7630', '1300,92', '5532,66', '771', '642', '917', '2599', '3752', '9602', '1630', '1003', '2518', '42518', '2569', '7238,86', '1960', '1165', '6534', '500,39', '1512,1', '4200', '39600', '3000,92', '2034', '3160', '551', '613', '8480', '13500', '1386', '3157', '1269', '3039', '4619', '7506', '1759', '23000', '2179', '1170', '1771', '1625,2', '4250', '1930', '4098', '1190', '55982', '1708', '6340', '1990', '2653', '2201', '20644', '3278,9', '1789', '792', '895', '1872', '10152', '3408,8', '3440', '3107', '1147', '7261', '1638', '8522,2', '3524', '2860', '2029', '35800', '8540', '3090', '959,3', '4898', '1677', '5847', '4550', '2205', '3280', '26802', '4086', '4000,22', '735', '4828', '6875', '5398,1', '5033', '70940', '1353', '3006', '7820', '6365', '6599,8', '5700', '6882', '30303', '692', '800,82', '9375', '3250', '4498', '249,3', '1802', '736', '3411', '3298', '3230', '3210', '6317', '724', '1155', '7116', '2490,95', '2248,1', '2620', '7118', '1523', '229,5', '3800', '7495', '1619,95', '5611', '2041', '2265', '7477', '10560', '579', '2825,5', '590', '3480', '1515,7', '698', '6290', '479', '2899', '3999', '3516', '3212', '438', '3670', '26550', '2892', '3484', '4186,59', '681,2', '3433', '984', '650', '13126', '6789', '234', '4014', '2570', '2593', '341,1', '9270', '11425,8', '1188', '1685', '14448', '788', '3124', '8790', '17110', '1410', '56638', '7953', '1120', '9700', '8040', '210', '1970', '3669,6', '21900', '2604', '3425', '2000,2', '3902', '8879,48', '1119', '7553', '793', '10696', '3370', '1763', '425', '2712', '1339,9', '7633', '3596', '2843', '989', '2131', '346', '520', '25599', '1600', '2114', '4700', '625', '1220', '2559', '2288', '6481,31', '10051', '1130', '5650', '2310', '1151', '893', '1444', '2940', '49200', '1319', '1937', '1720', '16086', '8200', '2239', '769', '1084', '1818', '1571', '1875', '11440', '355', '508,79', '1655', '1230', '8320', '2855', '670', '4686', '2160', '5979', '4551', '643', '2280', '5600', '1540,84', '1682', '2442', '7000,5', '1540', '53370', '5730', '15091', '3245', '2357', '1400,1', '1303', '4660', '2045', '4900', '8120', '6650', '6748', '717,2', '2670', '974', '1866', '4050', '4000,92', '512', '7700', '1146', '15140', '1197', '2373', '846', '4775', '1271,1', '2482', '1180', '2364', '1622', '3270,82', '2156', '10550', '1572', '4403', '2053', '21750', '1309,65', '3600', '258', '383,2', '12211', '2433', '2129', '4363', '3885', '13613', '11320', '2238', '1470', '1060', '1000', '445', '1292', '3403', '2858', '2966,2', '1581', '1399,3', '1356', '4989,92', '668,71', '25300', '1550', '2491', '230', '3088'}\n",
      "\n",
      "\n",
      "==========\n",
      "LOAN_AVG_DLQ_AMT\n",
      "{'631', '569,121428571429', '1780', '240', '2497,09', '663,05', '2379,46', '4350', '2930', '3660', '1077,03', '2154,02', '836,6', '1697,22', '2259,35', '3119,99', '752,923076923077', '1731,06', '2262,12', '3390', '1250', '979,63', '4240', '1390', '957,59', '1615', '2210', '1310', '1529,06', '1535,89', '2340,06777777778', '1833,77', '1085,5', '1713,74', '518,9', '1498,26', '1910', '2326,81', '2127,1', '2590,15', '1135', '1549,18', '766,26', '6070', '2370,01', '3030', '1985,3', '1418,86', '4164,34', '1800', '5140', '2372,77', '882,01', '2569,05', '1439,815', '702,565', '750', '960', '3433,42', '849,19', '1686,92', '1002,22', '682,56', '1875,70333333333', '1208,09', '4390', '920', '2051,5', '115,65', '605,496', '909,424285714286', '2680', '4220', '1020', '549,88', '1107,5', '2158,72', '1292,59', '2368,84', '5870', '502,1', '2770', '4320', '2142,2', '3501,45', '558,06625', '1940', '4158,85', '4884,95', '1745,7', '3610', '603,55', '429,11', '2568,45', '1093,22', '1680', '1110', '2890', '2097,97333333333', '3400', '3940', '2220', '1140', '1113,335', '2410', '1411,835', '4530', '2151,50333333333', '2293,65', '604,353333333333', '3750', '896,31', '3315', '2150', '8020', '2365,47', '2590', '1399,25', '4827,666', '5500', '1605,95', '1325,63', '1066,605', '1029,75', '2600', '51,8', '1829,73', '2010', '3070', '2083', '533', '2263,2', '2755,21', '1740,19', '2090', '224,59', '2202,69', '1230,63', '5850', '38,32', '440', '324,16', '2273,72', '433,306666666667', '1144,03', '490', '110,91', '890', '740,575', '2573,8', '2130', '651,16', '810', '2500', '776,3', '1690', '3651,445', '2598,9', '6500', '5760', '574,21', '2610', '1002,60333333333', '2740', '4260', '930', '134,78', '2750', '1620', '1300,386', '1386,115', '1200,99', '0,71', '1430', '2060', '3910', '6130', '1492,404', '598,5', '1880,59', '1258,69', '1892,238', '3201,95', '918,255', '1260', '4729,07', '540', '1520', '2630', '1369,755', '1171,686', '499,69', '4620', '818,74', '3018,275', '3539,82', '2441,4', '1427,295', '1305,97', '690', '2580', '6041,86', '2510', '1560', '910', '3300', '1247,92', '1441,57', '3040', '1850', '478,13', '4055,03', '2990', '673,89', '2170', '699,78', '2751,25', '966,953333333333', '1539,2', '1639,24571428571', '3890', '5040', '1317,06', '5545,0225', '2742,25', '1706,3', '3630', '9060', '1077,605', '310', '1601,63', '2462,1', '677,474', '438,19', '812,693333333333', '3237,94', '1424,9175', '770', '1010,27', '2287,02', '674,263333333333', '3769,3625', '2530', '1098,8', '1530', '3530', '2340', '887,79', '1270', '4508,2', '855,675', '1340', '1496,3275', '1922,69', '532,24', '2139,63375', '1500', '980', '1878,86', '1240', '1512', '966,07', '1939,61', '2040', '917,57', '2101,256', '2186,585', '1196,43', '14870', '3589,09', '550', '2094,3', '957,63', '3620', '879,74', '1740', '2082,47857142857', '2430', '1626', '1160', '1259,43', '984,79', '4300', '1069,6', '2070', '1145,85', '989,15', '3080', '763,185', '2406,8', '367,35', '100', '2450', '526,563333333333', '2547,85', '1844,885', '2492,54', '2660', '1589,92333333333', '673,02', '1299,55', '1692,49', '1010', '59,68', '3691,2675', '1700', '6080', '2088,86', '911,793333333333', '2005,15', '1179,86', '1439,9', '1269,82', '582,386666666667', '1768,07', '2250', '481,506', '3768,7', '407,8', '3303,2', '1810', '3716,35', '1716,52', '5110', '724,38', '1319,56', '2850', '806,19', '455,32', '1241,32428571429', '780', '791,56', '2477,64', '1778,635', '804,32', '613,21', '1890', '824,581428571429', '776,59', '472,11', '5370', '49,35', '28012,2', '860', '87,39', '880,2', '94,89', '2185', '0,04', '2269,565', '1761,03', '2390', '1817,76', '570', '1980', '7670', '1290', '5075,99', '3659,0625', '4310', '1649,37', '600', '3106,29', '904,08', '5698,46', '3089,155', '4920', '940', '981,71', '3971,6', '1352,85714285714', '2201,11', '4650', '1986,88', '2585', '976,68', '2540', '4600', '901,64', '957,46', '3960', '1304,0625', '4370', '270', '1140,2', '1590', '2230', '1670,18', '720', '862,5', '3310', '1409,965', '772,73', '1480', '1053', '1730', '1056,95', '647,42', '2701,26', '2330', '1398,58', '2237,245', '3570', '1088,48', '3209,5', '3959', '1380', '4760', '9280', '1742,41', '2361,22', '857,956666666667', '3990', '1320', '1030', '1405,53', '1155,125', '1440', '1468,38', '727,63', '1966,99', '951', '560', '300', '3810', '1139,49', '3840', '2409,01', '580', '1113,74', '5397,15', '2503,19', '370', '289,02', '2370', '3172,83', '1040', '1090,8', '3330', '658,42', '1360', '2178', '2490', '2554,005', '1402,43', '872,065', '3120', '1080', '1820', '2629,87', '755,063333333333', '560,36', '2441,465', '1095,61', '3240', '865,05', '1570', '3770', '1490', '7010', '1314,11', '3964,85', '5030', '1516,872', '425,97', '2425', '989,39', '510,136666666667', '1683,49', '11310', '4640', '726,57', '820,124', '2050', '620', '1810,155', '1450', '2009', '1883,04', '3900', '651,625', '2180', '14990', '1296,74', '4472,91333333333', '1459,99', '366,58', '3460', '5872,64', '604,43', '1100', '2800', '830,53', '444', '1179,394', '3140', '1102,7', '1950', '2476,77', '1237,24', '1149,395', '4190', '762,93', '714', '1789,04', '5526,72666666667', '5603,82', '1280', '400', '7780', '3470', '269,51', '5510', '863,68', '554,36', '2760', '4000', '3509,22', '1614,36', '2090,53', '380', '2480', '4070', '1879,28', '446,31', '1593,76', '4565', '820', '862,43', '5269,78', '1182,23', '543,33', '1684,04', '860,505', '975', '1040,78666666667', '2320', '2794,22333333333', '3420', '1283,93', '1552,325', '517,51', '1283,89', '1400', '2300', '610', '2013,19', '315,796666666667', '1555,00090909091', '2950', '1776,96666666667', '2870', '552,57', '2163,94', '1420', '1670', '3702,8', '2105', '5430', '2070,52', '1007,8', '530', '2000', '5394,29', '2030', '2900', '849,085', '4030', '767,566', '700', '845,55', '825,10875', '510', '1640', '2290', '500', '642,31', '367', '1152,15', '1900', '588,13', '1288,63', '2647,9', '761,866666666667', '918,55', '3762,5', '1508,79', '965,1', '1070', '1677,48', '2112,17', '809,42', '840,7', '619,4', '2359,898', '849,91', '18307,16', '896,1', '433,3425', '1264,23', '2550', '2080', '1790', '3590', '1860', '991,19', '821,93', '1155,02142857143', '1266,34', '360', '5170', '678,2', '970', '1733,88', '2925', '1006,59', '722,59', '497,62', '1116,49', '1200', '665,57', '4120', '1387,15', '216,59', '648,68', '620,75', '1750', '1899,7', '850', '5320', '913,4975', '656,705', '327,98', '2739,76', '1094', '1751,37', '900', '800', '1433,4', '3127,19', '1510', '4450', '2260', '1770', '3870,25', '3360', '535,53', '2343,41', '3024', '749,82', '3820', '1626,75', '2816,25', '840', '684,89', '2400', '451,495', '2957,71', '2360', '2790', '1373,99333333333', '2018,255', '763,3', '2910,25', '2650', '1160,96', '2970', '2880', '1033,905', '1197,38333333333', '1127,76', '3279,705', '1144,98', '2269,735', '740', '680', '2261,19', '2710', '4160', '2258,3', '2190', '1889,43', '1953,6', '330', '567,51', '1072,34', '1147,5', '2240', '2247,51', '1630', '578,06', '1350', '177,34', '2840', '1066,005', '1478,49', '1960', '730', '1599,9', '4710', '1724,15333333333', '1509,44', '1591,94', '1359,6', '370,77', '4200', '1210', '1880', '3160', '1175,57', '2960', '3190', '1594,914', '1108,574', '855', '1489,13', '859,92', '3000', '768,97', '1804,9', '990,85', '3110', '2979,31', '1108,96333333333', '1288,898', '5550', '3626,91', '830,7', '2910', '3506,07', '1312,44', '1841,9', '1170', '1894,04', '1164,99666666667', '1581,82', '4250', '605,32', '3540', '1930', '879', '1190', '2707,25', '1090', '710', '1088,05', '1371,86', '1990', '4770', '2732,2', '3150', '673,6825', '3440', '586,646666666667', '3780', '1070,05', '1636,04', '1710', '3086,66666666667', '2464,55', '1050', '596,29', '2157,32', '1717,47333333333', '1391,47', '2860', '2466,8625', '3202,2', '1059,47', '1930,595', '1010,43', '2429,09', '870', '6390', '682', '2959', '610,986666666667', '894,29', '4550', '3060', '560,86', '758,95', '2810', '588,9', '753', '1539,13', '4290', '735', '1095,89', '769,915', '1792,71', '1386,96', '2980', '3200', '1309,89', '756,1', '2701,5', '830', '2110', '1065,62', '3509,805', '2700', '5830', '62,46', '2380', '816,83', '796,59', '1370', '778,32', '880', '1848,05', '3250', '2470', '668,53', '1439,94', '450', '1909,16', '63,31', '3230', '4115,33333333333', '790', '948,58', '3072,475', '1150', '789,23', '559,94', '430', '3102,49333333333', '3037,58', '4140', '1215', '1033', '198,88', '1610', '856,64', '5160', '2020', '7100', '1749,69', '599,19', '970,155', '2002,45', '1314,58666666667', '2699,88', '6310', '750,175', '1052,63', '988,85', '2200', '1275,785', '1760', '2265', '2128,74', '7340', '812,11', '1845,5', '6260', '950', '3480', '1221,92', '1324,41285714286', '1097,86', '2467,33', '1663,27', '4630', '2349,51', '990', '3670', '310,126', '5076,65', '3020', '823,54', '640', '4445,6', '3850', '3260', '2916,18', '777,84', '1949,8', '1154,34', '650', '846,74', '1141,06', '516,18', '1410,53333333333', '2066,905', '3880', '957,4', '2570', '3428,56', '1091,2', '1176,82', '2524,28', '2276,54666666667', '1260,55', '2419,9', '929,51', '802,36', '2184,66', '4680', '1410', '1300', '769,43', '3410', '892,95', '1477,37', '1335,47', '509,52', '2235,225', '1120', '1538,69', '1388,83769230769', '1970', '4020', '630', '1840', '760', '2350', '1402,92', '779,415', '1870', '1920', '2989,98', '2084,32', '3283,1', '1563,45', '3050', '2640', '5428,62', '5780', '1010,55', '2031,34333333333', '3510', '1119,27', '669,12', '1932,5', '2830', '568,7', '1798,49', '3520', '1258,49', '1650', '1272,72', '3010', '1851,55', '980,42', '3914,24', '600,93', '2315,64857142857', '908,78', '846,55', '1920,9575', '1600', '2119,77', '4700', '6660', '1220', '1413,765', '0', '954,65', '2232,28333333333', '2920', '3760', '13920', '2386,505', '1130', '986,606666666667', '1550', '2310', '1149,495', '5650', '959,955', '2940', '2702,4', '2239,37', '2560', '946,49', '702,23', '2779,4', '3860,18', '1720', '6689,82', '1344,33', '1959,99', '1675,75', '2690,33333333333', '6133,41', '1460', '4400', '670,085', '1830', '1109,855', '1070,52', '1193,9675', '4690', '798,53', '6200', '5560', '2240,34', '1639,99', '2676,2125', '1205,4725', '4001,34', '2679,82', '1004,225', '3170', '660', '1230', '1276,66666666667', '553', '2782,89', '1348,68', '670', '1120,93', '1429,99', '2820', '1215,45777777778', '1411,31', '2160', '1608,255', '1582,435', '1329,54', '355,04', '2280', '4810', '687,11', '1459,54666666667', '2538', '1259,1', '1540', '892,18', '869,26', '1580', '1831,51333333333', '2858,6', '4660', '1313,33333333333', '3180', '619,73', '5048,19', '3322,7775', '1931,44', '1007,36', '1199,27', '2520', '6650', '1258,585', '2796,66', '728,49', '782,705', '1093,75', '1138,2', '1957,21', '136,76', '2120', '578,3', '2670', '875,09', '1288,7', '2518,18', '2272,5', '4050', '1830,2', '567,16', '827,57', '1597,92', '758,82', '386,666666666667', '859,84', '704,93', '1015', '1634,81', '1781,225', '1666,28', '1259,71333333333', '2510,2', '3970', '480', '1330', '2270', '1942,72', '3782,39', '1180', '821,45', '3490', '1679,2', '2509,38', '837,48', '767,7', '1426,72', '339,83', '4210', '805,86', '2961', '2059,46', '613,12', '1068,47', '630,49', '3100', '1259,39', '1321,68833333333', '709,96', '3600', '1134,58', '2044,155', '836,79', '1570,46', '875,2', '782,21', '1296,4', '683,9975', '2440', '4940', '1671,7', '457,71', '1470', '1060', '1793,66', '791,98', '3500', '5410', '1000', '1867,66166666667', '1286,73', '2140', '3637,43', '1258,95', '6490', '437,26', '2656,68', '1222,06', '543,17', '1374,28', '1412,55', '2549,52', '3635,77', '1003,255', '3777,93333333333', '2100', '4376,4', '2720'}\n",
      "\n",
      "\n",
      "==========\n",
      "LOAN_MAX_DLQ_AMT\n",
      "{'631', '1780', '2044,32', '240', '2497,09', '663,05', '2379,46', '4350', '2930', '3660', '1077,03', '2154,02', '836,6', '1697,22', '1300,16', '1731,06', '3390', '3089,5', '2262,12', '1250', '1395,7', '979,63', '1489,45', '4240', '1390', '957,59', '1615', '2210', '1310', '1529,06', '1085,5', '1833,77', '2289,89', '518,9', '1498,26', '1910', '2127,1', '2590,15', '1549,18', '766,26', '6070', '3030', '1985,3', '1418,86', '1800', '4164,34', '5140', '2372,77', '2569,05', '2102,75', '750', '960', '3433,42', '849,19', '1686,92', '1002,22', '1208,09', '4390', '920', '2051,5', '115,65', '2680', '4220', '1020', '549,88', '2158,72', '1292,59', '2782,93', '2064,08', '2368,84', '502,1', '2770', '4320', '490,88', '5870', '2142,2', '3501,45', '1324,5', '1940', '4158,85', '1408,32', '4884,95', '1745,7', '3610', '603,55', '429,11', '2568,45', '1093,22', '1680', '1110', '2890', '3400', '3940', '2220', '1140', '2410', '4530', '2293,65', '3750', '896,31', '2150', '8020', '2365,47', '2590', '5500', '1325,63', '1029,75', '2600', '51,8', '2010', '3070', '1479,51', '533', '2263,2', '2083', '2755,21', '1740,19', '2090', '224,59', '2202,69', '1230,63', '5850', '38,32', '440', '324,16', '2220,72', '1144,03', '1819,26', '490', '110,91', '890', '2573,8', '2130', '651,16', '810', '2500', '776,3', '1690', '2598,9', '6500', '5760', '574,21', '2642,83', '2610', '904,08', '3560', '2740', '4260', '930', '2589,2', '134,78', '1620', '2750', '1837,31', '1200,99', '0,71', '1430', '2375,59', '2060', '3910', '6130', '598,5', '1880,59', '3201,95', '4729,07', '1260', '540', '1520', '2630', '1105,07', '1427,4', '499,69', '4620', '818,74', '3539,82', '2441,4', '690', '2580', '6041,86', '2510', '1560', '910', '3300', '1247,92', '3357,52', '3040', '1850', '478,13', '4055,03', '2990', '673,89', '2170', '699,78', '2751,25', '1539,2', '3890', '5040', '1317,06', '1706,3', '2742,25', '604,76', '3630', '9060', '310', '1601,63', '2462,1', '438,19', '3237,94', '2287,02', '770', '1010,27', '2530', '5340', '1098,8', '1530', '3530', '2340', '887,79', '1090,01', '1270', '4508,2', '1672,88', '1340', '1365', '1500', '980', '1240', '966,07', '1939,61', '2040', '917,57', '1196,43', '5470', '14870', '3589,09', '550', '2094,3', '957,63', '3620', '879,74', '1740', '2430', '1160', '1249,61', '1259,43', '581,67', '4300', '1069,6', '2070', '620,18', '1145,85', '989,15', '3080', '2406,8', '1086,57', '367,35', '100', '2450', '783', '2547,85', '1692,49', '2492,54', '2660', '673,02', '1700', '1299,55', '1010', '59,68', '6080', '2088,86', '943,56', '2005,15', '1179,86', '1439,9', '2250', '1768,07', '3768,7', '407,8', '3303,2', '1810', '3716,35', '1716,52', '5110', '724,38', '1319,56', '2850', '806,19', '780', '791,56', '2477,64', '804,32', '613,21', '1890', '776,59', '472,11', '5370', '49,35', '28012,2', '860', '87,39', '790,77', '880,2', '94,89', '0,04', '1761,03', '2390', '1817,76', '570', '1056,64', '7670', '1290', '5075,99', '1980', '4310', '1649,37', '600', '3106,29', '4830', '3450', '5698,46', '4920', '981,71', '940', '3971,6', '2201,11', '4650', '1986,88', '976,68', '2540', '4600', '901,64', '3960', '4370', '270', '1140,2', '1590', '2230', '1670,18', '720', '862,5', '3310', '339,83', '772,73', '1480', '1053', '1730', '7890', '1056,95', '2701,26', '647,42', '2330', '1398,58', '2858,62', '3570', '3959', '1380', '1386,14', '4760', '9280', '1742,41', '2361,22', '3990', '1320', '1030', '1405,53', '1440', '1468,38', '3111,86', '2618,78', '1966,99', '560', '300', '3810', '1139,49', '3840', '2409,01', '3220', '580', '1113,74', '605,59', '5397,15', '2503,19', '370', '289,02', '2370', '3172,83', '1040', '1090,8', '3330', '658,42', '1360', '2178', '2490', '5980,18', '1402,43', '2629,87', '3120', '1080', '1820', '2902,89', '560,36', '1095,61', '3240', '18310', '1570', '3770', '1490', '7010', '3964,85', '5030', '989,39', '2425', '1683,49', '11310', '4640', '726,57', '2050', '620', '1450', '2009', '1883,04', '3900', '366,58', '2180', '14990', '1296,74', '1459,99', '604,43', '2916,18', '3460', '5872,64', '830,53', '1100', '2800', '444', '3140', '1102,7', '1950', '4190', '762,93', '714', '2969,75', '1789,04', '5603,82', '1280', '1519,64', '400', '3470', '269,51', '863,68', '554,36', '961,94', '2760', '4000', '3509,22', '1614,36', '2090,53', '2480', '4070', '446,31', '910,63', '883,33', '1593,76', '4565', '820', '862,43', '5269,78', '589,45', '543,33', '2064,03', '975', '517,51', '2320', '3420', '1283,93', '1400', '2300', '610', '2013,19', '2950', '2870', '3780,1', '552,57', '2163,94', '1420', '1670', '3702,8', '660,86', '5430', '1007,8', '5394,29', '530', '2000', '2900', '2030', '1819,09', '4030', '700', '510', '1640', '2290', '500', '642,31', '367', '1900', '588,13', '1288,63', '755,76', '2647,9', '918,55', '3762,5', '1508,79', '965,1', '1070', '1677,48', '2112,17', '809,42', '849,91', '896,1', '2550', '2080', '1790', '3590', '1860', '991,19', '821,93', '1266,34', '360', '5170', '678,2', '970', '1733,88', '1006,59', '722,59', '497,62', '1116,49', '1200', '665,57', '4120', '1387,15', '216,59', '648,68', '620,75', '1750', '850', '5320', '1901,3', '3285,74', '327,98', '2739,76', '1094', '1012,9', '1751,37', '1729,66', '900', '1840,14', '800', '1433,4', '3127,19', '1510', '4450', '2260', '1770', '3870,25', '3360', '1154,9', '535,53', '2343,41', '749,82', '3820', '1626,75', '2816,25', '840', '684,89', '2400', '2360', '2957,71', '2790', '2650', '1160,96', '2970', '2880', '1110,39', '1144,98', '2261,19', '740', '680', '1387,47', '481,51', '2710', '849,07', '4160', '2258,3', '2190', '1889,43', '2979,35', '1953,6', '330', '567,51', '4880', '2240', '2247,51', '1630', '578,06', '1350', '177,34', '2840', '1478,49', '1127,76', '1960', '730', '1599,9', '4710', '1509,44', '1591,94', '1359,6', '370,77', '4200', '1210', '1880', '3160', '1175,57', '2960', '3190', '1489,13', '859,92', '3000', '768,97', '918,28', '997,66', '990,85', '3110', '1804,9', '5550', '3626,91', '830,7', '2910', '3506,07', '1312,44', '1841,9', '1170', '1387,3', '1894,04', '1581,82', '4250', '605,32', '3540', '1930', '879', '1190', '2707,25', '1090', '710', '2497', '1088,05', '1371,86', '1990', '4770', '2058,71', '2732,2', '3150', '3440', '3780', '1070,05', '1636,04', '1710', '1050', '596,29', '2157,32', '1391,47', '736,3', '2860', '3202,2', '1059,47', '2429,09', '870', '6390', '1302,38', '682', '2959', '894,29', '826,77', '4550', '3060', '758,95', '470', '2810', '937,79', '1539,13', '4290', '1095,89', '1792,71', '2980', '3200', '1309,89', '756,1', '1351,06', '1066', '830', '2110', '1065,62', '5580', '2700', '4960', '5830', '62,46', '2380', '816,83', '796,59', '1370', '778,32', '880', '1848,05', '3250', '1650,53', '1370,25', '2470', '668,53', '1439,94', '450', '1909,16', '724,93', '3230', '63,31', '2281,1', '790', '948,58', '1150', '789,23', '559,94', '430', '4140', '1033', '489,13', '1610', '856,64', '2620', '5160', '2020', '7100', '1749,69', '599,19', '2002,45', '2699,88', '6310', '1052,63', '988,85', '2200', '1760', '2265', '7340', '812,11', '1845,5', '6260', '950', '590', '3480', '1221,92', '1097,86', '2467,33', '1663,27', '2349,51', '990', '3670', '5076,65', '3020', '823,54', '640', '3850', '3260', '777,84', '1949,8', '1154,34', '650', '846,74', '1141,06', '516,18', '3880', '957,4', '2570', '3428,56', '1176,82', '2524,28', '3920', '1260,55', '2419,9', '802,36', '2184,66', '4680', '1410', '1300', '769,43', '3410', '892,95', '1477,37', '1335,47', '1930,47', '1538,69', '1120', '1450,22', '1970', '4020', '630', '1840', '760', '2350', '2398,8', '1870', '1920', '2989,98', '2084,32', '828,51', '3283,1', '1563,45', '3050', '2640', '1783,55', '5428,62', '5780', '1010,55', '3510', '4490', '1119,27', '669,12', '2830', '568,7', '1798,49', '3520', '1258,49', '1650', '1272,72', '3010', '1851,55', '980,42', '3914,24', '600,93', '797,16', '908,78', '1828,89', '846,55', '1600', '2119,77', '4700', '6660', '1220', '0', '954,65', '2920', '3760', '13920', '1130', '1550', '2310', '5650', '2702,4', '2940', '2239,37', '2560', '946,49', '702,23', '2779,4', '3860,18', '1720', '6689,82', '1344,33', '1959,99', '6133,41', '1460', '4400', '1830', '1070,52', '4690', '1860,72', '6200', '798,53', '5560', '1639,99', '4001,34', '2679,82', '3170', '660', '1230', '553', '1348,68', '670', '1120,93', '1429,99', '2820', '776,6', '1411,31', '2160', '919,88', '355,04', '2280', '687,11', '856,3', '1259,1', '1540', '892,18', '869,26', '1580', '2858,6', '4660', '3180', '619,73', '5048,19', '1931,44', '1199,27', '2520', '6650', '2796,66', '728,49', '1093,75', '1138,2', '1957,21', '136,76', '1452', '2120', '578,3', '2670', '875,09', '1288,7', '2518,18', '4050', '827,57', '567,16', '1597,92', '704,93', '609,52', '1015', '1046,01', '1666,28', '2510,2', '3970', '480', '1330', '2270', '1942,72', '3782,39', '1180', '1679,2', '3490', '2509,38', '4446,3', '837,48', '331', '473,16', '954,34', '767,7', '1426,72', '4210', '2059,46', '1185,5', '1068,47', '630,49', '3100', '1259,39', '3600', '1134,58', '836,79', '875,2', '840,4', '1296,4', '2440', '3700', '1870,69', '4940', '1671,7', '918,83', '937,6', '457,71', '586,5', '1470', '1060', '1793,66', '791,98', '3500', '5410', '1000', '1222,06', '2140', '3637,43', '437,26', '6490', '2656,68', '543,17', '1374,28', '3018,62', '2549,52', '3635,77', '2100', '572,22', '2720'}\n",
      "\n",
      "\n",
      "==========\n",
      "sample\n",
      "{'train'}\n",
      "\n",
      "\n"
     ]
    }
   ],
   "source": [
    "for i in df_train.columns: # перебираем все столбцы\n",
    "    if str(df_train[i].dtype) == 'object': # если тип столбца - object\n",
    "        print('='*10)\n",
    "        print(i) # выводим название столбца\n",
    "        print(set(df_train[i])) # выводим все его значения (но делаем set - чтоб значения не повторялись)\n",
    "        print('\\n') # выводим пустую строку"
   ]
  },
  {
   "cell_type": "markdown",
   "metadata": {
    "collapsed": true
   },
   "source": [
    "Mожно заметить что некоторые переменные, которые обозначены как строки (например PERSONAL_INCOME) на самом деле числа, но по какой-то причине были распознаны как строки\n",
    "\n",
    "Причина же что использовалась запятая для разделения не целой части числа.."
   ]
  },
  {
   "cell_type": "markdown",
   "metadata": {},
   "source": [
    "Перекодировать их можно например так:"
   ]
  },
  {
   "cell_type": "code",
   "execution_count": 14,
   "metadata": {},
   "outputs": [
    {
     "data": {
      "text/plain": [
       "0         7000.0\n",
       "1         4100.0\n",
       "2        40000.0\n",
       "3        20000.0\n",
       "4        17000.0\n",
       "5         7000.0\n",
       "6        10000.0\n",
       "7         7500.0\n",
       "8         9000.0\n",
       "9         4000.0\n",
       "10       15000.0\n",
       "11       12000.0\n",
       "12        8000.0\n",
       "13       20000.0\n",
       "14       18500.0\n",
       "15       14000.0\n",
       "16        6000.0\n",
       "17        9000.0\n",
       "18        5000.0\n",
       "19       15000.0\n",
       "20        6100.0\n",
       "21       22180.0\n",
       "22        9000.0\n",
       "23        8700.0\n",
       "24        7000.0\n",
       "25        6000.0\n",
       "26       15000.0\n",
       "27       12000.0\n",
       "28       11000.0\n",
       "29        8000.0\n",
       "          ...   \n",
       "30103    12000.0\n",
       "30104    10000.0\n",
       "30105    10000.0\n",
       "30106     8000.0\n",
       "30107    11000.0\n",
       "30108     7000.0\n",
       "30109    10000.0\n",
       "30110     8000.0\n",
       "30111    25000.0\n",
       "30112    10000.0\n",
       "30113    12000.0\n",
       "30114     7000.0\n",
       "30115    12000.0\n",
       "30116    14500.0\n",
       "30117    12000.0\n",
       "30118     8000.0\n",
       "30119     7000.0\n",
       "30120    10000.0\n",
       "30121    10000.0\n",
       "30122    10000.0\n",
       "30123    15000.0\n",
       "30124     8100.0\n",
       "30125     9500.0\n",
       "30126    13000.0\n",
       "30127    10000.0\n",
       "30128    12000.0\n",
       "30129    10000.0\n",
       "30130     6000.0\n",
       "30131     4500.0\n",
       "30132    20000.0\n",
       "Name: PERSONAL_INCOME, Length: 30133, dtype: float64"
      ]
     },
     "execution_count": 14,
     "metadata": {},
     "output_type": "execute_result"
    }
   ],
   "source": [
    "df['PERSONAL_INCOME'].map(lambda x: x.replace(',', '.')).astype('float')"
   ]
  },
  {
   "cell_type": "markdown",
   "metadata": {},
   "source": [
    "Такой эффект наблюдается в столбцах `PERSONAL_INCOME`, `CREDIT`, `FST_PAYMENT`, `LOAN_AVG_DLQ_AMT`, `LOAN_MAX_DLQ_AMT`"
   ]
  },
  {
   "cell_type": "markdown",
   "metadata": {},
   "source": [
    "### Теперь ваше небольшое исследование"
   ]
  },
  {
   "cell_type": "markdown",
   "metadata": {
    "collapsed": true
   },
   "source": [
    "#### Задание 1. Есть ли пропуски в данных? Что с ними сделать?\n",
    "\n",
    "(единственного верного ответа нет - аргументируйте)"
   ]
  },
  {
   "cell_type": "code",
   "execution_count": 15,
   "metadata": {},
   "outputs": [
    {
     "data": {
      "text/plain": [
       "AGREEMENT_RK                      0\n",
       "TARGET                            0\n",
       "AGE                               0\n",
       "SOCSTATUS_WORK_FL                 0\n",
       "SOCSTATUS_PENS_FL                 0\n",
       "GENDER                            0\n",
       "CHILD_TOTAL                       0\n",
       "DEPENDANTS                        0\n",
       "EDUCATION                         0\n",
       "MARITAL_STATUS                    0\n",
       "GEN_INDUSTRY                   2713\n",
       "GEN_TITLE                      2713\n",
       "ORG_TP_STATE                   2713\n",
       "ORG_TP_FCAPITAL                2708\n",
       "JOB_DIR                        2713\n",
       "FAMILY_INCOME                     0\n",
       "PERSONAL_INCOME                   0\n",
       "REG_ADDRESS_PROVINCE              0\n",
       "FACT_ADDRESS_PROVINCE             0\n",
       "POSTAL_ADDRESS_PROVINCE           0\n",
       "TP_PROVINCE                     590\n",
       "REGION_NM                         2\n",
       "REG_FACT_FL                       0\n",
       "FACT_POST_FL                      0\n",
       "REG_POST_FL                       0\n",
       "REG_FACT_POST_FL                  0\n",
       "REG_FACT_POST_TP_FL               0\n",
       "FL_PRESENCE_FL                    0\n",
       "OWN_AUTO                          0\n",
       "AUTO_RUS_FL                       0\n",
       "HS_PRESENCE_FL                    0\n",
       "COT_PRESENCE_FL                   0\n",
       "GAR_PRESENCE_FL                   0\n",
       "LAND_PRESENCE_FL                  0\n",
       "CREDIT                            0\n",
       "TERM                              0\n",
       "FST_PAYMENT                       0\n",
       "DL_DOCUMENT_FL                    0\n",
       "GPF_DOCUMENT_FL                   0\n",
       "FACT_LIVING_TERM                  0\n",
       "WORK_TIME                      2717\n",
       "FACT_PHONE_FL                     0\n",
       "REG_PHONE_FL                      0\n",
       "GEN_PHONE_FL                      0\n",
       "LOAN_NUM_TOTAL                    0\n",
       "LOAN_NUM_CLOSED                   0\n",
       "LOAN_NUM_PAYM                     0\n",
       "LOAN_DLQ_NUM                      0\n",
       "LOAN_MAX_DLQ                      0\n",
       "LOAN_AVG_DLQ_AMT                  0\n",
       "LOAN_MAX_DLQ_AMT                  0\n",
       "PREVIOUS_CARD_NUM_UTILIZED    29533\n",
       "sample                            0\n",
       "dtype: int64"
      ]
     },
     "execution_count": 15,
     "metadata": {},
     "output_type": "execute_result"
    }
   ],
   "source": [
    "df.isnull().sum() # есть , вот они \n",
    "# в данном примере , я заменю пропщуенные данные для числовых величин - средними \n",
    "# категориальные же величины будут отнесены в группу Другое \n",
    "# переменная PREVIOUS_CARD_NUM_UTILIZED будет удалена из датасета \n",
    "# Вообще пропущенные значения либо удаляются , либо заполняются средними(медианой),наиболее частой величиной (для категориальных признаков)\n",
    "# также некоторые предлагают заполнять пропуские с помощщью алгоритма ближайших соседей"
   ]
  },
  {
   "cell_type": "markdown",
   "metadata": {
    "collapsed": true
   },
   "source": [
    "#### Задание 2. Есть ли категориальные признаки? Что с ними делать?"
   ]
  },
  {
   "cell_type": "code",
   "execution_count": 16,
   "metadata": {},
   "outputs": [
    {
     "data": {
      "text/html": [
       "<div>\n",
       "<style>\n",
       "    .dataframe thead tr:only-child th {\n",
       "        text-align: right;\n",
       "    }\n",
       "\n",
       "    .dataframe thead th {\n",
       "        text-align: left;\n",
       "    }\n",
       "\n",
       "    .dataframe tbody tr th {\n",
       "        vertical-align: top;\n",
       "    }\n",
       "</style>\n",
       "<table border=\"1\" class=\"dataframe\">\n",
       "  <thead>\n",
       "    <tr style=\"text-align: right;\">\n",
       "      <th></th>\n",
       "      <th>EDUCATION</th>\n",
       "      <th>MARITAL_STATUS</th>\n",
       "      <th>GEN_INDUSTRY</th>\n",
       "      <th>GEN_TITLE</th>\n",
       "      <th>ORG_TP_STATE</th>\n",
       "      <th>ORG_TP_FCAPITAL</th>\n",
       "      <th>JOB_DIR</th>\n",
       "      <th>FAMILY_INCOME</th>\n",
       "      <th>PERSONAL_INCOME</th>\n",
       "      <th>REG_ADDRESS_PROVINCE</th>\n",
       "      <th>FACT_ADDRESS_PROVINCE</th>\n",
       "      <th>POSTAL_ADDRESS_PROVINCE</th>\n",
       "      <th>TP_PROVINCE</th>\n",
       "      <th>REGION_NM</th>\n",
       "      <th>CREDIT</th>\n",
       "      <th>FST_PAYMENT</th>\n",
       "      <th>LOAN_AVG_DLQ_AMT</th>\n",
       "      <th>LOAN_MAX_DLQ_AMT</th>\n",
       "      <th>sample</th>\n",
       "    </tr>\n",
       "  </thead>\n",
       "  <tbody>\n",
       "  </tbody>\n",
       "</table>\n",
       "</div>"
      ],
      "text/plain": [
       "Empty DataFrame\n",
       "Columns: [EDUCATION, MARITAL_STATUS, GEN_INDUSTRY, GEN_TITLE, ORG_TP_STATE, ORG_TP_FCAPITAL, JOB_DIR, FAMILY_INCOME, PERSONAL_INCOME, REG_ADDRESS_PROVINCE, FACT_ADDRESS_PROVINCE, POSTAL_ADDRESS_PROVINCE, TP_PROVINCE, REGION_NM, CREDIT, FST_PAYMENT, LOAN_AVG_DLQ_AMT, LOAN_MAX_DLQ_AMT, sample]\n",
       "Index: []"
      ]
     },
     "execution_count": 16,
     "metadata": {},
     "output_type": "execute_result"
    }
   ],
   "source": [
    "df.select_dtypes(include=['object']).head(0) # да, вот они \n",
    "# они будут перекодированы в дамми переменные "
   ]
  },
  {
   "cell_type": "markdown",
   "metadata": {},
   "source": [
    "#### Задание 3. Фунция предобработки"
   ]
  },
  {
   "cell_type": "markdown",
   "metadata": {},
   "source": [
    "Напишите функцию, которая бы\n",
    "\n",
    "* Удаляло идентификатор `AGREEMENT_RK`\n",
    "* Избавлялась от проблем с '.' и ',' в стобцах PERSONAL_INCOME, CREDIT, FST_PAYMENT, LOAN_AVG_DLQ_AMT, LOAN_MAX_DLQ_AMT\n",
    "* Что-то делала с пропусками\n",
    "* Кодировала категориальные признаки\n",
    "\n",
    "В результате, ваш датафрейм должен содержать только числа и не содержать пропусков!"
   ]
  },
  {
   "cell_type": "code",
   "execution_count": 51,
   "metadata": {
    "collapsed": true
   },
   "outputs": [],
   "source": [
    "from sklearn.preprocessing import Imputer\n",
    "\n",
    "\n",
    "def preproc_data(df_input):\n",
    "    df_input = df_input.drop(['AGREEMENT_RK','PREVIOUS_CARD_NUM_UTILIZED'], axis=1)\n",
    "    names=[df_input.columns.get_loc(x) for x in ('PERSONAL_INCOME', 'CREDIT', 'FST_PAYMENT', 'LOAN_AVG_DLQ_AMT', 'LOAN_MAX_DLQ_AMT')]\n",
    "    for i in names:\n",
    "        df_input[df_input.columns[i]]=df_input[df_input.columns[i]].map(lambda x: x.replace(',', '.') if  (type(x)!=float) else x).astype('float')\n",
    "\n",
    "    ## Your Code Here\n",
    "\n",
    "    imp = Imputer(missing_values='NaN', strategy='mean', axis=0)\n",
    "    \n",
    "    quant_DF=pd.DataFrame(imp.fit_transform(df_input.select_dtypes(exclude=[object])))\n",
    "    quant_DF.columns = df_input.select_dtypes(exclude=[object]).columns\n",
    "    quant_DF.index = df_input.select_dtypes(exclude=[object]).index\n",
    "    \n",
    "\n",
    "    qual_DF=df_input.select_dtypes(include=[object]).fillna('Другое')\n",
    "    names_obj=[x for x in qual_DF.columns if ((qual_DF[x].dtype=='object') & (x!='sample'))]      \n",
    "    encode_DF=pd.get_dummies(qual_DF, columns=names_obj)\n",
    "    \n",
    "    df_output=pd.concat([quant_DF, encode_DF], axis=1)\n",
    "    \n",
    "    \n",
    "    return df_output"
   ]
  },
  {
   "cell_type": "code",
   "execution_count": 53,
   "metadata": {
    "collapsed": true
   },
   "outputs": [],
   "source": [
    "df_preproc = df.pipe(preproc_data)\n",
    "\n",
    "df_train_preproc = df_preproc.query('sample == \"train\"').drop(['sample'], axis=1)\n",
    "df_test_preproc = df_preproc.query('sample == \"test\"').drop(['sample'], axis=1)"
   ]
  },
  {
   "cell_type": "markdown",
   "metadata": {},
   "source": [
    "#### Задание 4. Отделите целевую переменную и остальные признаки\n",
    "\n",
    "Должно получится:\n",
    "* 2 матрицы: X и X_test\n",
    "* 2 вектора: y и y_test"
   ]
  },
  {
   "cell_type": "code",
   "execution_count": 54,
   "metadata": {
    "collapsed": true
   },
   "outputs": [],
   "source": [
    "X=df_train_preproc.drop(['TARGET'], axis=1)\n",
    "X_test=df_test_preproc.drop(['TARGET'], axis=1)\n",
    "y=df_train_preproc['TARGET']\n",
    "y_test=df_test_preproc['TARGET']"
   ]
  },
  {
   "cell_type": "markdown",
   "metadata": {},
   "source": [
    "#### Задание 5. Обучение и оценка качества разных моделей"
   ]
  },
  {
   "cell_type": "code",
   "execution_count": 56,
   "metadata": {
    "collapsed": true
   },
   "outputs": [],
   "source": [
    "from sklearn.cross_validation import train_test_split\n",
    "# test_size=0.3, random_state=42\n",
    "xtrain,xtest,ytrain,ytest=train_test_split(X, y, test_size=0.33, random_state=42)\n",
    "\n",
    "## Your Code Here\n"
   ]
  },
  {
   "cell_type": "code",
   "execution_count": 88,
   "metadata": {
    "collapsed": true
   },
   "outputs": [],
   "source": [
    "# Попробовать следующие \"черные ящики\": интерфейс одинаковый \n",
    "# Постепенно мы узнаем, что они делают а сейчас учимся понимать какой работает качественнее\n",
    "#     fit, \n",
    "#     predict, \n",
    "#     predict_proba\n",
    "\n",
    "from sklearn.tree import DecisionTreeClassifier\n",
    "dtc = DecisionTreeClassifier()\n",
    "dtc.fit(xtrain, ytrain)\n",
    "dtc_predict = dtc.predict(xtest)\n",
    "dtc_predict_pr = dtc.predict_proba(xtest)\n",
    "\n",
    "from sklearn.ensemble import RandomForestClassifier\n",
    "rf = RandomForestClassifier()\n",
    "rf.fit(xtrain, ytrain)\n",
    "rf_predict = rf.predict(xtest)\n",
    "rf_predict_pr = rf.predict_proba(xtest)\n",
    "\n",
    "from sklearn.linear_model import LogisticRegression\n",
    "logreg = LogisticRegression()\n",
    "logreg.fit(xtrain, ytrain)\n",
    "logreg_predict = logreg.predict(xtest)\n",
    "logreg_predict_pr = logreg.predict_proba(xtest)\n",
    "\n",
    "\n",
    "## Your Code Here"
   ]
  },
  {
   "cell_type": "code",
   "execution_count": 61,
   "metadata": {},
   "outputs": [
    {
     "name": "stdout",
     "output_type": "stream",
     "text": [
      "DecisionTree precision 0.170144462279\n",
      "DecisionTree recall 0.173770491803\n",
      "DecisionTree accuracy 0.796775477707\n",
      "RandomForest precision 0.368421052632\n",
      "RandomForest recall 0.0114754098361\n",
      "RandomForest accuracy 0.877587579618\n",
      "LogisticRegression 0.4\n",
      "LogisticRegression 0.00327868852459\n",
      "LogisticRegression 0.878383757962\n"
     ]
    }
   ],
   "source": [
    "# Посчитать метрики стандартные\n",
    "# accuracy, precision, recall\n",
    "\n",
    "from sklearn.metrics import accuracy_score, precision_score, recall_score\n",
    "\n",
    "precision_dtc=precision_score(ytest, dtc_predict)\n",
    "recall_dtc=recall_score(ytest, dtc_predict)\n",
    "accuracy_dtc=accuracy_score(ytest, dtc_predict)\n",
    "\n",
    "print('DecisionTree precision', precision_score(ytest, dtc_predict))\n",
    "print('DecisionTree recall', recall_score(ytest,dtc_predict))\n",
    "print('DecisionTree accuracy', accuracy_score(ytest,dtc_predict))\n",
    "\n",
    "precision_rf=precision_score(ytest, rf_predict)\n",
    "recall_rf=recall_score(ytest, rf_predict)\n",
    "accuracy_rf=accuracy_score(ytest, rf_predict)\n",
    "\n",
    "print('RandomForest precision', precision_score(ytest, rf_predict))\n",
    "print('RandomForest recall', recall_score(ytest,rf_predict))\n",
    "print('RandomForest accuracy', accuracy_score(ytest,rf_predict))\n",
    "\n",
    "\n",
    "precision_logreg=precision_score(ytest, logreg_predict)\n",
    "recall_logreg=recall_score(ytest, logreg_predict)\n",
    "accuracy_logreg=accuracy_score(ytest, logreg_predict)\n",
    "\n",
    "\n",
    "print('LogisticRegression precision', precision_score(ytest, logreg_predict))\n",
    "print('LogisticRegression recall', recall_score(ytest,logreg_predict))\n",
    "print('LogisticRegression accuracy', accuracy_score(ytest,logreg_predict))\n",
    "\n",
    "## Your Code Here"
   ]
  },
  {
   "cell_type": "code",
   "execution_count": 108,
   "metadata": {},
   "outputs": [
    {
     "data": {
      "image/png": "[encoded data removed]",
      "text/plain": [
       "<matplotlib.figure.Figure at 0x2441f03588>"
      ]
     },
     "metadata": {},
     "output_type": "display_data"
    }
   ],
   "source": [
    "# Визуалищировать эти метрики всех моделей на одном графике (чтоб визуально сравнить)\n",
    "# Возможно вас удивит качество! Но задача подобрана специально ;) Такое качество тоже бывает\n",
    "from sklearn.metrics import precision_recall_curve\n",
    "\n",
    "dtc_prob = dtc_predict_pr[:, 1]\n",
    "rf_prob = rf_predict_pr[:, 1]\n",
    "logreg_prob = logreg_predict_pr[:, 1]\n",
    "\n",
    "precision_dtc, recall_dtc,thresholds  = precision_recall_curve(ytest, dtc_prob)\n",
    "precision_rf, recall_rf,thresholds  = precision_recall_curve(ytest, rf_prob)\n",
    "precision_logreg, recall_logreg,thresholds = precision_recall_curve(ytest, logreg_prob)\n",
    "\n",
    "\n",
    "plt.plot(recall_dtc, precision_dtc,label='Decision tree')\n",
    "plt.plot(recall_rf, precision_rf,label='Random forest')\n",
    "plt.plot(recall_logreg, precision_logreg,label='Logistic regression')\n",
    "\n",
    "plt.legend(loc='upper right')\n",
    "plt.xlabel('Recall')\n",
    "plt.ylabel('Precision')\n",
    "plt.ylim([0.15, 1.01])\n",
    "plt.xlim([0.0, 0.3])\n",
    "plt.title('Presicion-Recall curve')\n",
    "\n",
    "\n",
    "plt.show()\n",
    "## Your Code Here"
   ]
  },
  {
   "cell_type": "code",
   "execution_count": 107,
   "metadata": {},
   "outputs": [
    {
     "name": "stdout",
     "output_type": "stream",
     "text": [
      "ROC AUC Descion tree : 0.517659533377\n",
      "ROC AUC Random forest : 0.575969159233\n",
      "ROC AUC Logistic regression : 0.638481508167\n"
     ]
    },
    {
     "data": {
      "image/png": "[encoded data removed]",
      "text/plain": [
       "<matplotlib.figure.Figure at 0x2444764be0>"
      ]
     },
     "metadata": {},
     "output_type": "display_data"
    }
   ],
   "source": [
    "# Потроить roc-кривые всех можелей на одном графике\n",
    "# Вывести roc_auc каждой моделе\n",
    "# Подпишите оси и линии\n",
    "from sklearn.metrics import roc_auc_score, roc_curve\n",
    "fpr_dtc, tpr_dtc, thresholds_dtc = roc_curve(ytest, dtc_prob)\n",
    "fpr_rf, tpr_rf, thresholds_rf  = roc_curve(ytest, rf_prob)\n",
    "fpr_logreg, tpr_logreg, thresholds_logreg  = roc_curve(ytest, logreg_prob)\n",
    "\n",
    "plt.figure(figsize=(5, 5))\n",
    "plt.plot(fpr_dtc, tpr_dtc,label='Desicion tree classifier')\n",
    "plt.plot(fpr_rf, tpr_rf,label='Random forest')\n",
    "plt.plot(fpr_logreg, tpr_logreg,label='Logistic regression')\n",
    "plt.plot([0, 1], [0, 1])\n",
    "plt.ylabel('tpr')\n",
    "plt.xlabel('fpr')\n",
    "plt.grid(True)\n",
    "plt.title('ROC curve')\n",
    "plt.xlim((-0.01, 1.01))\n",
    "plt.ylim((-0.01, 1.01))\n",
    "plt.legend(loc='upper left')\n",
    "\n",
    "print('ROC AUC Descion tree :',roc_auc_score(ytest, dtc_prob))\n",
    "print('ROC AUC Random forest :',roc_auc_score(ytest, rf_prob))\n",
    "print('ROC AUC Logistic regression :',roc_auc_score(ytest, logreg_prob))\n",
    "\n",
    "## Your Code Here"
   ]
  },
  {
   "cell_type": "code",
   "execution_count": 109,
   "metadata": {},
   "outputs": [],
   "source": [
    "from sklearn.cross_validation import cross_val_score\n",
    "# Сделать k-fold (10 фолдов) кросс-валидацию каждой модели\n",
    "# И посчитать средний roc_auc\n",
    "from sklearn.cross_validation import cross_val_score\n",
    "dtc = DecisionTreeClassifier()\n",
    "dtc_cv=cross_val_score(\n",
    "    dtc,\n",
    "    X,\n",
    "    y,\n",
    "    scoring='roc_auc',\n",
    "    cv=10\n",
    ")\n",
    "\n",
    "rf = RandomForestClassifier()\n",
    "rf_cv=cross_val_score(\n",
    "    rf,\n",
    "    X,\n",
    "    y,\n",
    "    scoring='roc_auc',\n",
    "    cv=10\n",
    ")\n",
    "\n",
    "logreg = LogisticRegression()\n",
    "logreg_cv=cross_val_score(\n",
    "    logreg,\n",
    "    X,\n",
    "    y,\n",
    "    scoring='roc_auc',\n",
    "    cv=10\n",
    ")\n",
    "\n",
    "\n",
    "## Your Code Here"
   ]
  },
  {
   "cell_type": "code",
   "execution_count": 89,
   "metadata": {},
   "outputs": [
    {
     "name": "stdout",
     "output_type": "stream",
     "text": [
      "DecisionTree: 0.518716685152\n",
      "Random forest: 0.576272412217\n",
      "Logistic regression: 0.640520747494\n"
     ]
    }
   ],
   "source": [
    "# Взять лучшую модель и сделать предсказания (с вероятностями (!!!)) для test выборки\n",
    "print ('DecisionTree:', dtc_cv.mean())\n",
    "print ('Random forest:',rf_cv.mean())\n",
    "print ('Logistic regression:', logreg_cv.mean())\n",
    "\n",
    "\n",
    "\n",
    "logreg.fit(X y)\n",
    "predict = logreg.predict_proba(X_test)\n",
    "## Your Code Here"
   ]
  },
  {
   "cell_type": "code",
   "execution_count": 103,
   "metadata": {},
   "outputs": [
    {
     "name": "stdout",
     "output_type": "stream",
     "text": [
      "ROC AUC: 0.621109856709\n"
     ]
    },
    {
     "data": {
      "image/png": "[encoded data removed]",
      "text/plain": [
       "<matplotlib.figure.Figure at 0x2444674780>"
      ]
     },
     "metadata": {},
     "output_type": "display_data"
    }
   ],
   "source": [
    "# Померить roc_auc на тесте\n",
    "# Вывести текстом и на графике =)\n",
    "fprlogreg, tprlogreg, thresholdslogreg  = roc_curve(y_test, predict[:,1])\n",
    "plt.figure(figsize=(5, 5))\n",
    "plt.plot(fprlogreg, tprlogreg,label='Logistic regression')\n",
    "plt.plot([0, 1], [0, 1])\n",
    "plt.ylabel('tpr')\n",
    "plt.xlabel('fpr')\n",
    "plt.grid(True)\n",
    "plt.title('ROC curve')\n",
    "plt.xlim((-0.01, 1.01))\n",
    "plt.ylim((-0.01, 1.01))\n",
    "\n",
    "print('ROC AUC:',roc_auc_score(y_test, predict[:,1]))\n",
    "\n",
    "## Your Code Here"
   ]
  },
  {
   "cell_type": "markdown",
   "metadata": {},
   "source": [
    "### Больше обязательных заданий нет, но ниже вы можете провести исследование, поиграться с данными\n",
    "### Это возможность написать код, который я посмотрю и в случае чего откомметирую. ;)\n",
    "### Это не оценивается и остается на ваше усмотрение. Просто дополнительная возможность"
   ]
  },
  {
   "cell_type": "code",
   "execution_count": 121,
   "metadata": {},
   "outputs": [
    {
     "ename": "ModuleNotFoundError",
     "evalue": "No module named 'fancyimpute'",
     "output_type": "error",
     "traceback": [
      "\u001b[1;31m---------------------------------------------------------------------------\u001b[0m",
      "\u001b[1;31mModuleNotFoundError\u001b[0m                       Traceback (most recent call last)",
      "\u001b[1;32m<ipython-input-121-2aeaf224c246>\u001b[0m in \u001b[0;36m<module>\u001b[1;34m()\u001b[0m\n\u001b[0;32m      1\u001b[0m \u001b[1;31m### И далее ;)\u001b[0m\u001b[1;33m\u001b[0m\u001b[1;33m\u001b[0m\u001b[0m\n\u001b[1;32m----> 2\u001b[1;33m \u001b[1;32mfrom\u001b[0m \u001b[0mfancyimpute\u001b[0m \u001b[1;32mimport\u001b[0m \u001b[0mKNN\u001b[0m\u001b[1;33m\u001b[0m\u001b[0m\n\u001b[0m",
      "\u001b[1;31mModuleNotFoundError\u001b[0m: No module named 'fancyimpute'"
     ]
    }
   ],
   "source": [
    "### И далее ;)\n",
    "from fancyimpute import KNN"
   ]
  },
  {
   "cell_type": "code",
   "execution_count": 119,
   "metadata": {},
   "outputs": [
    {
     "name": "stdout",
     "output_type": "stream",
     "text": [
      "Collecting pip\n",
      "  Downloading https://files.pythonhosted.org/packages/c2/d7/90f34cb0d83a6c5631cf71dfe64cc1054598c843a92b400e55675cc2ac37/pip-18.1-py2.py3-none-any.whl (1.3MB)\n",
      "Installing collected packages: pip\n",
      "  Found existing installation: pip 9.0.1\n",
      "    Uninstalling pip-9.0.1:\n",
      "      Successfully uninstalled pip-9.0.1\n"
     ]
    },
    {
     "name": "stderr",
     "output_type": "stream",
     "text": [
      "Exception:\n",
      "Traceback (most recent call last):\n",
      "  File \"C:\\Users\\Alexander\\Anaconda3\\lib\\shutil.py\", line 387, in _rmtree_unsafe\n",
      "    os.unlink(fullname)\n",
      "PermissionError: [WinError 5] Отказано в доступе: 'C:\\\\Users\\\\ALEXAN~1\\\\AppData\\\\Local\\\\Temp\\\\pip-tyblbgjm-uninstall\\\\users\\\\alexander\\\\anaconda3\\\\scripts\\\\pip.exe'\n",
      "\n",
      "During handling of the above exception, another exception occurred:\n",
      "\n",
      "Traceback (most recent call last):\n",
      "  File \"C:\\Users\\Alexander\\Anaconda3\\lib\\site-packages\\pip\\basecommand.py\", line 215, in main\n",
      "  File \"C:\\Users\\Alexander\\Anaconda3\\lib\\site-packages\\pip\\commands\\install.py\", line 342, in run\n",
      "  File \"C:\\Users\\Alexander\\Anaconda3\\lib\\site-packages\\pip\\req\\req_set.py\", line 795, in install\n",
      "  File \"C:\\Users\\Alexander\\Anaconda3\\lib\\site-packages\\pip\\req\\req_install.py\", line 767, in commit_uninstall\n",
      "  File \"C:\\Users\\Alexander\\Anaconda3\\lib\\site-packages\\pip\\req\\req_uninstall.py\", line 142, in commit\n",
      "  File \"C:\\Users\\Alexander\\Anaconda3\\lib\\site-packages\\pip\\_vendor\\retrying.py\", line 49, in wrapped_f\n",
      "    return Retrying(*dargs, **dkw).call(f, *args, **kw)\n",
      "  File \"C:\\Users\\Alexander\\Anaconda3\\lib\\site-packages\\pip\\_vendor\\retrying.py\", line 212, in call\n",
      "    raise attempt.get()\n",
      "  File \"C:\\Users\\Alexander\\Anaconda3\\lib\\site-packages\\pip\\_vendor\\retrying.py\", line 247, in get\n",
      "    six.reraise(self.value[0], self.value[1], self.value[2])\n",
      "  File \"C:\\Users\\Alexander\\Anaconda3\\lib\\site-packages\\pip\\_vendor\\six.py\", line 686, in reraise\n",
      "  File \"C:\\Users\\Alexander\\Anaconda3\\lib\\site-packages\\pip\\_vendor\\retrying.py\", line 200, in call\n",
      "    attempt = Attempt(fn(*args, **kwargs), attempt_number, False)\n",
      "  File \"C:\\Users\\Alexander\\Anaconda3\\lib\\site-packages\\pip\\utils\\__init__.py\", line 102, in rmtree\n",
      "  File \"C:\\Users\\Alexander\\Anaconda3\\lib\\shutil.py\", line 494, in rmtree\n",
      "    return _rmtree_unsafe(path, onerror)\n",
      "  File \"C:\\Users\\Alexander\\Anaconda3\\lib\\shutil.py\", line 384, in _rmtree_unsafe\n",
      "    _rmtree_unsafe(fullname, onerror)\n",
      "  File \"C:\\Users\\Alexander\\Anaconda3\\lib\\shutil.py\", line 384, in _rmtree_unsafe\n",
      "    _rmtree_unsafe(fullname, onerror)\n",
      "  File \"C:\\Users\\Alexander\\Anaconda3\\lib\\shutil.py\", line 384, in _rmtree_unsafe\n",
      "    _rmtree_unsafe(fullname, onerror)\n",
      "  File \"C:\\Users\\Alexander\\Anaconda3\\lib\\shutil.py\", line 389, in _rmtree_unsafe\n",
      "    onerror(os.unlink, fullname, sys.exc_info())\n",
      "  File \"C:\\Users\\Alexander\\Anaconda3\\lib\\site-packages\\pip\\utils\\__init__.py\", line 114, in rmtree_errorhandler\n",
      "PermissionError: [WinError 5] Отказано в доступе: 'C:\\\\Users\\\\ALEXAN~1\\\\AppData\\\\Local\\\\Temp\\\\pip-tyblbgjm-uninstall\\\\users\\\\alexander\\\\anaconda3\\\\scripts\\\\pip.exe'\n"
     ]
    }
   ],
   "source": [
    "!pip install --upgrade pip"
   ]
  }
 ],
 "metadata": {
  "anaconda-cloud": {},
  "kernelspec": {
   "display_name": "Python 3",
   "language": "python",
   "name": "python3"
  },
  "language_info": {
   "codemirror_mode": {
    "name": "ipython",
    "version": 3
   },
   "file_extension": ".py",
   "mimetype": "text/x-python",
   "name": "python",
   "nbconvert_exporter": "python",
   "pygments_lexer": "ipython3",
   "version": "3.6.1"
  },
  "toc": {
   "base_numbering": 1,
   "nav_menu": {
    "height": "31px",
    "width": "253px"
   },
   "number_sections": false,
   "sideBar": true,
   "skip_h1_title": false,
   "title_cell": "Table of Contents",
   "title_sidebar": "Contents",
   "toc_cell": false,
   "toc_position": {},
   "toc_section_display": "block",
   "toc_window_display": false
  }
 },
 "nbformat": 4,
 "nbformat_minor": 2
}
